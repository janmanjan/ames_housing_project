{
 "cells": [
  {
   "cell_type": "markdown",
   "id": "f84b70f4-9385-4fc5-b862-14b77ba46d19",
   "metadata": {
    "tags": []
   },
   "source": [
    "### Imports"
   ]
  },
  {
   "cell_type": "markdown",
   "id": "e4357436-8053-42ec-8def-1dd4cd7ae20e",
   "metadata": {},
   "source": [
    "#### This notebook is used as a testing site"
   ]
  },
  {
   "cell_type": "code",
   "execution_count": 21,
   "id": "22c7130b-19fd-4355-97e7-0f6fbf14ef7b",
   "metadata": {},
   "outputs": [],
   "source": [
    "import pandas as pd\n",
    "import numpy as np\n",
    "import matplotlib.pyplot as plt\n",
    "import seaborn as sns\n",
    "\n",
    "from sklearn.model_selection import train_test_split, cross_val_score\n",
    "from sklearn.linear_model import LinearRegression, Lasso, LassoCV\n",
    "from sklearn.preprocessing import OneHotEncoder, StandardScaler, PolynomialFeatures\n",
    "from sklearn.metrics import mean_squared_error, r2_score, mean_absolute_error"
   ]
  },
  {
   "cell_type": "code",
   "execution_count": 22,
   "id": "c8790ff0-604a-48aa-af5b-7f379f3955e9",
   "metadata": {},
   "outputs": [],
   "source": [
    "df = pd.read_csv('datasets/train.csv')\n",
    "df = df.rename(str.lower, axis=1)\n",
    "df.columns = [name.replace(' ', '_') if ' ' in name else name for name in df.columns]"
   ]
  },
  {
   "cell_type": "code",
   "execution_count": 23,
   "id": "17a89fc4-b561-4ef8-992a-5358fc236315",
   "metadata": {},
   "outputs": [],
   "source": [
    "df = df[df['bedroom_abvgr'] != 0]"
   ]
  },
  {
   "cell_type": "markdown",
   "id": "8bec7f6c-e0ef-458a-97d8-b102f4de6d8d",
   "metadata": {},
   "source": [
    "### Polyfeatures Models"
   ]
  },
  {
   "cell_type": "markdown",
   "id": "f18cc372-9ac0-4b83-aa19-84e09d14a7ce",
   "metadata": {},
   "source": [
    "##### Feature Engineering"
   ]
  },
  {
   "cell_type": "code",
   "execution_count": 24,
   "id": "b91bea11-3973-43fb-a049-f1de6364a69f",
   "metadata": {},
   "outputs": [],
   "source": [
    "df['age'] = [df['year_built'].max()-year for year in df['year_built']]\n",
    "df['age*overall_qual'] = df['age']*df['overall_qual']\n",
    "df['gr_liv_area/bedroom_abvgr'] = df['gr_liv_area']/df['bedroom_abvgr']\n",
    "df['since_remod/add'] = [2010-year for year in df['year_remod/add']]\n",
    "df.drop(index=1712, inplace=True)"
   ]
  },
  {
   "cell_type": "markdown",
   "id": "ee05902e-5ce0-4b18-b236-bced2f21a65a",
   "metadata": {},
   "source": [
    "### Model"
   ]
  },
  {
   "cell_type": "markdown",
   "id": "156b1db7-9589-4f57-b8e7-613fdc0d7781",
   "metadata": {
    "tags": []
   },
   "source": [
    "#### Features "
   ]
  },
  {
   "cell_type": "code",
   "execution_count": 25,
   "id": "0b81f661-33b6-4b5f-9a12-1eddd108cd81",
   "metadata": {
    "jupyter": {
     "source_hidden": true
    },
    "tags": []
   },
   "outputs": [],
   "source": [
    "features_1= df[['gr_liv_area', 'bedroom_abvgr', 'age', 'overall_qual', 'age*overall_qual', 'gr_liv_area/bedroom_abvgr', 'since_remod/add', '1st_flr_sf', 'garage_area']]"
   ]
  },
  {
   "cell_type": "code",
   "execution_count": 26,
   "id": "e99550c8-fbe2-46f7-ac88-a0ce578f294b",
   "metadata": {
    "jupyter": {
     "source_hidden": true
    },
    "tags": []
   },
   "outputs": [],
   "source": [
    "pd.get_dummies(df, columns=['kitchen_qual'])\n",
    "kitchen_qual = pd.get_dummies(df['kitchen_qual'], drop_first=True)\n",
    "df = pd.concat([df, kitchen_qual], axis=1)"
   ]
  },
  {
   "cell_type": "markdown",
   "id": "652b089d-2ef0-4d26-80ec-3f970ca71f4b",
   "metadata": {},
   "source": [
    "#### r2 scores"
   ]
  },
  {
   "cell_type": "code",
   "execution_count": 27,
   "id": "f7568885-c481-4391-9c22-96e0a67668bd",
   "metadata": {
    "jupyter": {
     "source_hidden": true
    },
    "tags": []
   },
   "outputs": [
    {
     "data": {
      "text/plain": [
       "(0.7839473020985814, 0.8475778511774289)"
      ]
     },
     "execution_count": 27,
     "metadata": {},
     "output_type": "execute_result"
    }
   ],
   "source": [
    "X = features_1\n",
    "y = df['saleprice']\n",
    "X_train, X_test, y_train, y_test = train_test_split(X, y, random_state=42)\n",
    "model = LinearRegression()\n",
    "model.fit(X_train, y_train)\n",
    "model.score(X_train, y_train), model.score(X_test, y_test)"
   ]
  },
  {
   "cell_type": "markdown",
   "id": "a908d5dd-69a9-4915-bca7-4efa8672db35",
   "metadata": {},
   "source": [
    "#### Metrics"
   ]
  },
  {
   "cell_type": "code",
   "execution_count": 28,
   "id": "bd1b86be-40a9-434d-acbc-ce2fcaaba15a",
   "metadata": {
    "tags": []
   },
   "outputs": [
    {
     "ename": "NameError",
     "evalue": "name 'y_preds' is not defined",
     "output_type": "error",
     "traceback": [
      "\u001b[1;31m---------------------------------------------------------------------------\u001b[0m",
      "\u001b[1;31mNameError\u001b[0m                                 Traceback (most recent call last)",
      "\u001b[1;32m~\\AppData\\Local\\Temp/ipykernel_27396/3614780992.py\u001b[0m in \u001b[0;36m<module>\u001b[1;34m\u001b[0m\n\u001b[1;32m----> 1\u001b[1;33m \u001b[0mmae\u001b[0m \u001b[1;33m=\u001b[0m \u001b[0mmean_absolute_error\u001b[0m\u001b[1;33m(\u001b[0m\u001b[0my_test\u001b[0m\u001b[1;33m,\u001b[0m \u001b[0my_preds\u001b[0m\u001b[1;33m)\u001b[0m\u001b[1;33m\u001b[0m\u001b[1;33m\u001b[0m\u001b[0m\n\u001b[0m\u001b[0;32m      2\u001b[0m \u001b[0mprint\u001b[0m\u001b[1;33m(\u001b[0m\u001b[1;34mf'MAE = {mae}'\u001b[0m\u001b[1;33m)\u001b[0m\u001b[1;33m\u001b[0m\u001b[1;33m\u001b[0m\u001b[0m\n\u001b[0;32m      3\u001b[0m \u001b[0mmse\u001b[0m \u001b[1;33m=\u001b[0m \u001b[0mmean_squared_error\u001b[0m\u001b[1;33m(\u001b[0m\u001b[0my_test\u001b[0m\u001b[1;33m,\u001b[0m \u001b[0my_preds\u001b[0m\u001b[1;33m,\u001b[0m \u001b[0msquared\u001b[0m\u001b[1;33m=\u001b[0m\u001b[1;32mFalse\u001b[0m\u001b[1;33m)\u001b[0m\u001b[1;33m\u001b[0m\u001b[1;33m\u001b[0m\u001b[0m\n\u001b[0;32m      4\u001b[0m \u001b[0mprint\u001b[0m\u001b[1;33m(\u001b[0m\u001b[1;34mf'RMSE = {mse}'\u001b[0m\u001b[1;33m)\u001b[0m\u001b[1;33m\u001b[0m\u001b[1;33m\u001b[0m\u001b[0m\n\u001b[0;32m      5\u001b[0m \u001b[0mcvs\u001b[0m \u001b[1;33m=\u001b[0m \u001b[0mcross_val_score\u001b[0m\u001b[1;33m(\u001b[0m\u001b[0mmodel\u001b[0m\u001b[1;33m,\u001b[0m \u001b[0mX_train\u001b[0m\u001b[1;33m,\u001b[0m \u001b[0my_train\u001b[0m\u001b[1;33m,\u001b[0m \u001b[0mcv\u001b[0m\u001b[1;33m=\u001b[0m\u001b[1;36m5\u001b[0m\u001b[1;33m)\u001b[0m\u001b[1;33m.\u001b[0m\u001b[0mmean\u001b[0m\u001b[1;33m(\u001b[0m\u001b[1;33m)\u001b[0m\u001b[1;33m\u001b[0m\u001b[1;33m\u001b[0m\u001b[0m\n",
      "\u001b[1;31mNameError\u001b[0m: name 'y_preds' is not defined"
     ]
    }
   ],
   "source": [
    "mae = mean_absolute_error(y_test, y_preds)\n",
    "print(f'MAE = {mae}')\n",
    "mse = mean_squared_error(y_test, y_preds, squared=False) \n",
    "print(f'RMSE = {mse}')\n",
    "cvs = cross_val_score(model, X_train, y_train, cv=5).mean()\n",
    "print(f'CVS = {cvs}')"
   ]
  },
  {
   "cell_type": "code",
   "execution_count": null,
   "id": "f620edfc-961d-4973-becd-05fb3c4df2ba",
   "metadata": {},
   "outputs": [],
   "source": []
  },
  {
   "cell_type": "markdown",
   "id": "6546f70e-8507-42fa-a04c-e5c0bc054701",
   "metadata": {},
   "source": [
    "### Tuning Model "
   ]
  },
  {
   "cell_type": "code",
   "execution_count": null,
   "id": "17733050-1cc2-4d9c-93e3-ba50f83fb680",
   "metadata": {},
   "outputs": [],
   "source": [
    "df.drop(index=1327, inplace=True)"
   ]
  },
  {
   "cell_type": "code",
   "execution_count": 32,
   "id": "3c6241d0-340c-407d-a908-de9e393132b8",
   "metadata": {},
   "outputs": [],
   "source": [
    "df['gr_liv_area/totrms_abvgrd'] = df['gr_liv_area']/df['totrms_abvgrd']"
   ]
  },
  {
   "cell_type": "code",
   "execution_count": 33,
   "id": "bd60f9bd-fe2f-4a3b-a321-a50b1a4139a8",
   "metadata": {},
   "outputs": [
    {
     "data": {
      "text/plain": [
       "0       493.000000\n",
       "1       530.500000\n",
       "2       352.333333\n",
       "3       481.333333\n",
       "4       481.666667\n",
       "           ...    \n",
       "2046    576.000000\n",
       "2047    861.000000\n",
       "2048    637.666667\n",
       "2049    400.000000\n",
       "2050    601.333333\n",
       "Name: gr_liv_area/bedroom_abvgr, Length: 2044, dtype: float64"
      ]
     },
     "execution_count": 33,
     "metadata": {},
     "output_type": "execute_result"
    }
   ],
   "source": [
    "df['gr_liv_area/bedroom_abvgr']"
   ]
  },
  {
   "cell_type": "code",
   "execution_count": 34,
   "id": "6e8c38fa-40e1-4d8e-8c0f-180ea6af7484",
   "metadata": {},
   "outputs": [],
   "source": [
    "# reordered and quantified kitchen qual\n",
    "\n",
    "k_q_order = {'Po': 0, 'Fa': 1, 'TA': 2, 'Gd': 3, 'Ex': 4}\n",
    "df['k_q'] = [k_q_order[n] for n in df['kitchen_qual']]"
   ]
  },
  {
   "cell_type": "code",
   "execution_count": 35,
   "id": "ba986335-98a5-43d8-b036-a116662dfe73",
   "metadata": {},
   "outputs": [],
   "source": [
    "tuning = df[['gr_liv_area', 'bedroom_abvgr', 'age', 'overall_qual',\n",
    "       'age*overall_qual', 'gr_liv_area/totrms_abvgrd', 'gr_liv_area/bedroom_abvgr', 'full_bath', 'since_remod/add',\n",
    "       '1st_flr_sf', 'garage_area', 'k_q', 'garage_cars', 'total_bsmt_sf']]"
   ]
  },
  {
   "cell_type": "code",
   "execution_count": 39,
   "id": "d2e73c0c-d172-4541-b45e-5bd87e8b81ef",
   "metadata": {},
   "outputs": [
    {
     "data": {
      "text/plain": [
       "(2044, 14)"
      ]
     },
     "execution_count": 39,
     "metadata": {},
     "output_type": "execute_result"
    }
   ],
   "source": [
    "tuning.shape"
   ]
  },
  {
   "cell_type": "code",
   "execution_count": 36,
   "id": "99dadac0-66e9-4468-89bc-6adebbd6bc6f",
   "metadata": {},
   "outputs": [
    {
     "data": {
      "text/plain": [
       "(0.7961440970767417, 0.8479151054575281)"
      ]
     },
     "execution_count": 36,
     "metadata": {},
     "output_type": "execute_result"
    }
   ],
   "source": [
    "X = tuning\n",
    "y = df['saleprice']\n",
    "X_train, X_test, y_train, y_test = train_test_split(X, y, random_state=42)\n",
    "model = LinearRegression()\n",
    "model.fit(X_train, y_train)\n",
    "model.score(X_train, y_train), model.score(X_test, y_test)"
   ]
  },
  {
   "cell_type": "code",
   "execution_count": 37,
   "id": "82131e78-d7dc-402f-9f12-239b351c8569",
   "metadata": {},
   "outputs": [],
   "source": [
    "y_preds = model.predict(X_test)\n",
    "resids = y_test-y_preds        "
   ]
  },
  {
   "cell_type": "code",
   "execution_count": 38,
   "id": "19966585-9e39-448e-8c06-74aa85ede335",
   "metadata": {},
   "outputs": [
    {
     "name": "stdout",
     "output_type": "stream",
     "text": [
      "MAE = 22506.00973123842\n",
      "RMSE = 31498.252421962996\n",
      "CVS = [0.81165833 0.72274227 0.83407508 0.80310323 0.67225258]\n"
     ]
    }
   ],
   "source": [
    "mae = mean_absolute_error(y_test, y_preds)\n",
    "print(f'MAE = {mae}')\n",
    "mse = mean_squared_error(y_test, y_preds, squared=False) \n",
    "print(f'RMSE = {mse}')\n",
    "cvs = cross_val_score(model, X_train, y_train, cv=5)\n",
    "print(f'CVS = {cvs}')"
   ]
  },
  {
   "cell_type": "markdown",
   "id": "3bfa5b55-9e5c-415a-9544-cf2d4ef239ea",
   "metadata": {},
   "source": [
    "* Add more features to in improve scores"
   ]
  },
  {
   "cell_type": "code",
   "execution_count": null,
   "id": "a965735a-e6b4-4f0d-93a1-2d396a84f0c4",
   "metadata": {},
   "outputs": [],
   "source": [
    "resids"
   ]
  },
  {
   "cell_type": "code",
   "execution_count": null,
   "id": "95d0f9c5-2b91-4881-b346-f66d39a40607",
   "metadata": {},
   "outputs": [],
   "source": [
    "coefficents = pd.DataFrame(model.coef_, index=tuning.columns)\n",
    "coefficents.rename(columns={0: 'coefficient'})"
   ]
  },
  {
   "cell_type": "code",
   "execution_count": null,
   "id": "c221e2e7-8bbe-4c5a-8967-41605fc3d619",
   "metadata": {},
   "outputs": [],
   "source": [
    "df['kitchen_qual'].sort_values().value_counts()"
   ]
  },
  {
   "cell_type": "code",
   "execution_count": null,
   "id": "e32e6582-a78d-474f-a658-d6c9195bd036",
   "metadata": {},
   "outputs": [],
   "source": [
    "df[df['mas_vnr_area'].isnull()]"
   ]
  },
  {
   "cell_type": "code",
   "execution_count": 40,
   "id": "6293f8da-6ff3-483c-a8bc-4224c6ab6846",
   "metadata": {},
   "outputs": [
    {
     "data": {
      "text/plain": [
       "<matplotlib.collections.PathCollection at 0x1ab04f98190>"
      ]
     },
     "execution_count": 40,
     "metadata": {},
     "output_type": "execute_result"
    },
    {
     "data": {
      "image/png": "[encoded data removed]",
      "text/plain": [
       "<Figure size 432x288 with 1 Axes>"
      ]
     },
     "metadata": {
      "needs_background": "light"
     },
     "output_type": "display_data"
    }
   ],
   "source": [
    "plt.scatter(x=df['mas_vnr_area'], y=df['saleprice'])"
   ]
  },
  {
   "cell_type": "code",
   "execution_count": null,
   "id": "0d130b24-acc6-4418-b715-a4d584aa3c8a",
   "metadata": {},
   "outputs": [],
   "source": [
    "y.mean()"
   ]
  },
  {
   "cell_type": "code",
   "execution_count": null,
   "id": "bbae43fb-9fa2-4d0d-9faa-9741ff8fd342",
   "metadata": {},
   "outputs": [],
   "source": [
    "plt.hist(y)"
   ]
  },
  {
   "cell_type": "code",
   "execution_count": null,
   "id": "a1f1786d-83f3-471d-a242-6cf7db1a50a6",
   "metadata": {},
   "outputs": [],
   "source": []
  },
  {
   "cell_type": "code",
   "execution_count": 42,
   "id": "7f25e10a-e8fc-4948-9052-2fdae46d6706",
   "metadata": {},
   "outputs": [
    {
     "data": {
      "text/plain": [
       "0       2005\n",
       "1       1997\n",
       "2       2007\n",
       "3       2007\n",
       "4       1993\n",
       "        ... \n",
       "2046    2007\n",
       "2047    1950\n",
       "2048    1950\n",
       "2049    1956\n",
       "2050    1999\n",
       "Name: year_remod/add, Length: 2044, dtype: int64"
      ]
     },
     "execution_count": 42,
     "metadata": {},
     "output_type": "execute_result"
    }
   ],
   "source": [
    "df['year_remod/add']"
   ]
  },
  {
   "cell_type": "code",
   "execution_count": null,
   "id": "b61ffc35-eb28-447a-8950-9a2414c7792b",
   "metadata": {},
   "outputs": [],
   "source": []
  }
 ],
 "metadata": {
  "kernelspec": {
   "display_name": "Python 3 (ipykernel)",
   "language": "python",
   "name": "python3"
  },
  "language_info": {
   "codemirror_mode": {
    "name": "ipython",
    "version": 3
   },
   "file_extension": ".py",
   "mimetype": "text/x-python",
   "name": "python",
   "nbconvert_exporter": "python",
   "pygments_lexer": "ipython3",
   "version": "3.9.7"
  }
 },
 "nbformat": 4,
 "nbformat_minor": 5
}
