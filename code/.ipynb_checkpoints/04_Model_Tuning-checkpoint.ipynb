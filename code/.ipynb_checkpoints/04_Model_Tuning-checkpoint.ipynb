{
 "cells": [
  {
   "cell_type": "markdown",
   "id": "f84b70f4-9385-4fc5-b862-14b77ba46d19",
   "metadata": {
    "tags": []
   },
   "source": [
    "### Imports"
   ]
  },
  {
   "cell_type": "code",
   "execution_count": 206,
   "id": "22c7130b-19fd-4355-97e7-0f6fbf14ef7b",
   "metadata": {},
   "outputs": [],
   "source": [
    "import pandas as pd\n",
    "import numpy as np\n",
    "import matplotlib.pyplot as plt\n",
    "import seaborn as sns\n",
    "\n",
    "from sklearn.model_selection import train_test_split, cross_val_score\n",
    "from sklearn.linear_model import LinearRegression, Lasso, LassoCV\n",
    "from sklearn.preprocessing import OneHotEncoder, StandardScaler, PolynomialFeatures\n",
    "from sklearn.metrics import mean_squared_error, r2_score, mean_absolute_error"
   ]
  },
  {
   "cell_type": "code",
   "execution_count": 207,
   "id": "998e0c3e-6a95-4fee-93ba-830e324c69c4",
   "metadata": {},
   "outputs": [],
   "source": [
    "df = pd.read_csv('datasets/train.csv')\n",
    "df = df.rename(str.lower, axis=1)\n",
    "df.columns = [name.replace(' ', '_') if ' ' in name else name for name in df.columns]\n",
    "df = df[df['bedroom_abvgr'] != 0]"
   ]
  },
  {
   "cell_type": "markdown",
   "id": "8bec7f6c-e0ef-458a-97d8-b102f4de6d8d",
   "metadata": {},
   "source": [
    "### Polyfeatures Models"
   ]
  },
  {
   "cell_type": "markdown",
   "id": "f18cc372-9ac0-4b83-aa19-84e09d14a7ce",
   "metadata": {},
   "source": [
    "##### Feature Engineering"
   ]
  },
  {
   "cell_type": "code",
   "execution_count": 208,
   "id": "b91bea11-3973-43fb-a049-f1de6364a69f",
   "metadata": {},
   "outputs": [],
   "source": [
    "df['age'] = [df['year_built'].max()-year for year in df['year_built']]\n",
    "df['age*overall_qual'] = df['age']*df['overall_qual']\n",
    "df['gr_liv_area/bedroom_abvgr'] = df['gr_liv_area']/df['bedroom_abvgr']\n",
    "df['since_remod/add'] = [2010-year for year in df['year_remod/add']]\n",
    "df.drop(index=1712, inplace=True)"
   ]
  },
  {
   "cell_type": "markdown",
   "id": "ee05902e-5ce0-4b18-b236-bced2f21a65a",
   "metadata": {},
   "source": [
    "### Model"
   ]
  },
  {
   "cell_type": "markdown",
   "id": "156b1db7-9589-4f57-b8e7-613fdc0d7781",
   "metadata": {
    "tags": []
   },
   "source": [
    "#### Features "
   ]
  },
  {
   "cell_type": "code",
   "execution_count": 38,
   "id": "0b81f661-33b6-4b5f-9a12-1eddd108cd81",
   "metadata": {
    "jupyter": {
     "source_hidden": true
    },
    "tags": []
   },
   "outputs": [],
   "source": [
    "features_1= df[['gr_liv_area', 'bedroom_abvgr', 'age', 'overall_qual', 'age*overall_qual', 'gr_liv_area/bedroom_abvgr', 'since_remod/add', '1st_flr_sf', 'garage_area']]"
   ]
  },
  {
   "cell_type": "code",
   "execution_count": 44,
   "id": "e99550c8-fbe2-46f7-ac88-a0ce578f294b",
   "metadata": {
    "jupyter": {
     "source_hidden": true
    },
    "tags": []
   },
   "outputs": [],
   "source": [
    "pd.get_dummies(df, columns=['kitchen_qual'])\n",
    "kitchen_qual = pd.get_dummies(df['kitchen_qual'], drop_first=True)\n",
    "df = pd.concat([df, kitchen_qual], axis=1)"
   ]
  },
  {
   "cell_type": "markdown",
   "id": "652b089d-2ef0-4d26-80ec-3f970ca71f4b",
   "metadata": {},
   "source": [
    "#### r2 scores"
   ]
  },
  {
   "cell_type": "code",
   "execution_count": 28,
   "id": "f7568885-c481-4391-9c22-96e0a67668bd",
   "metadata": {
    "jupyter": {
     "source_hidden": true
    },
    "tags": []
   },
   "outputs": [
    {
     "data": {
      "text/plain": [
       "(0.8043780652526353, 0.8595885723158856)"
      ]
     },
     "execution_count": 28,
     "metadata": {},
     "output_type": "execute_result"
    }
   ],
   "source": [
    "X = features_1\n",
    "y = df['saleprice']\n",
    "X_train, X_test, y_train, y_test = train_test_split(X, y, random_state=42)\n",
    "model = LinearRegression()\n",
    "model.fit(X_train, y_train)\n",
    "model.score(X_train, y_train), model.score(X_test, y_test)"
   ]
  },
  {
   "cell_type": "markdown",
   "id": "a908d5dd-69a9-4915-bca7-4efa8672db35",
   "metadata": {},
   "source": [
    "#### Metrics"
   ]
  },
  {
   "cell_type": "code",
   "execution_count": 9,
   "id": "bd1b86be-40a9-434d-acbc-ce2fcaaba15a",
   "metadata": {
    "jupyter": {
     "source_hidden": true
    },
    "tags": []
   },
   "outputs": [
    {
     "name": "stdout",
     "output_type": "stream",
     "text": [
      "MAE = 20877.66418000938\n",
      "RMSE = 29198.543270801187\n",
      "CVS = 0.7895772437344619\n"
     ]
    }
   ],
   "source": [
    "mae = mean_absolute_error(y_test, y_preds)\n",
    "print(f'MAE = {mae}')\n",
    "mse = mean_squared_error(y_test, y_preds, squared=False) \n",
    "print(f'RMSE = {mse}')\n",
    "cvs = cross_val_score(model, X_train, y_train, cv=5).mean()\n",
    "print(f'CVS = {cvs}')"
   ]
  },
  {
   "cell_type": "code",
   "execution_count": null,
   "id": "f620edfc-961d-4973-becd-05fb3c4df2ba",
   "metadata": {},
   "outputs": [],
   "source": []
  },
  {
   "cell_type": "markdown",
   "id": "6546f70e-8507-42fa-a04c-e5c0bc054701",
   "metadata": {},
   "source": [
    "### Tuning Model "
   ]
  },
  {
   "cell_type": "code",
   "execution_count": 213,
   "id": "17733050-1cc2-4d9c-93e3-ba50f83fb680",
   "metadata": {},
   "outputs": [],
   "source": [
    "df.drop(index=1327, inplace=True)"
   ]
  },
  {
   "cell_type": "code",
   "execution_count": 214,
   "id": "3c6241d0-340c-407d-a908-de9e393132b8",
   "metadata": {},
   "outputs": [],
   "source": [
    "df['gr_liv_area/totrms_abvgrd'] = df['gr_liv_area']/df['totrms_abvgrd']"
   ]
  },
  {
   "cell_type": "code",
   "execution_count": 215,
   "id": "bd60f9bd-fe2f-4a3b-a321-a50b1a4139a8",
   "metadata": {},
   "outputs": [
    {
     "data": {
      "text/plain": [
       "0       493.000000\n",
       "1       530.500000\n",
       "2       352.333333\n",
       "3       481.333333\n",
       "4       481.666667\n",
       "           ...    \n",
       "2046    576.000000\n",
       "2047    861.000000\n",
       "2048    637.666667\n",
       "2049    400.000000\n",
       "2050    601.333333\n",
       "Name: gr_liv_area/bedroom_abvgr, Length: 2044, dtype: float64"
      ]
     },
     "execution_count": 215,
     "metadata": {},
     "output_type": "execute_result"
    }
   ],
   "source": [
    "df['gr_liv_area/bedroom_abvgr']"
   ]
  },
  {
   "cell_type": "code",
   "execution_count": 216,
   "id": "6e8c38fa-40e1-4d8e-8c0f-180ea6af7484",
   "metadata": {},
   "outputs": [],
   "source": [
    "# reordered and quantified kitchen qual\n",
    "\n",
    "k_q_order = {'Po': 0, 'Fa': 1, 'TA': 2, 'Gd': 3, 'Ex': 4}\n",
    "df['k_q'] = [k_q_order[n] for n in df['kitchen_qual']]"
   ]
  },
  {
   "cell_type": "code",
   "execution_count": 217,
   "id": "ba986335-98a5-43d8-b036-a116662dfe73",
   "metadata": {},
   "outputs": [],
   "source": [
    "tuning = df[['gr_liv_area', 'bedroom_abvgr', 'age', 'overall_qual',\n",
    "       'age*overall_qual', 'gr_liv_area/totrms_abvgrd', 'gr_liv_area/bedroom_abvgr', 'full_bath', 'since_remod/add',\n",
    "       '1st_flr_sf', 'garage_area', 'k_q', 'garage_cars', 'total_bsmt_sf']]"
   ]
  },
  {
   "cell_type": "code",
   "execution_count": 219,
   "id": "99dadac0-66e9-4468-89bc-6adebbd6bc6f",
   "metadata": {},
   "outputs": [
    {
     "data": {
      "text/plain": [
       "(0.7961440970767417, 0.8479151054575281)"
      ]
     },
     "execution_count": 219,
     "metadata": {},
     "output_type": "execute_result"
    }
   ],
   "source": [
    "X = tuning\n",
    "y = df['saleprice']\n",
    "X_train, X_test, y_train, y_test = train_test_split(X, y, random_state=42)\n",
    "model = LinearRegression()\n",
    "model.fit(X_train, y_train)\n",
    "model.score(X_train, y_train), model.score(X_test, y_test)"
   ]
  },
  {
   "cell_type": "code",
   "execution_count": 190,
   "id": "82131e78-d7dc-402f-9f12-239b351c8569",
   "metadata": {},
   "outputs": [
    {
     "data": {
      "text/plain": [
       "1440.2436641234274"
      ]
     },
     "execution_count": 190,
     "metadata": {},
     "output_type": "execute_result"
    }
   ],
   "source": [
    "y_preds = model.predict(X_test)\n",
    "resids = y_test-y_preds                     \n",
    "resids.mean() "
   ]
  },
  {
   "cell_type": "code",
   "execution_count": 191,
   "id": "19966585-9e39-448e-8c06-74aa85ede335",
   "metadata": {},
   "outputs": [
    {
     "name": "stdout",
     "output_type": "stream",
     "text": [
      "MAE = 22685.960599525257\n",
      "RMSE = 31735.072813271094\n",
      "CVS = 0.7694079531480023\n"
     ]
    }
   ],
   "source": [
    "mae = mean_absolute_error(y_test, y_preds)\n",
    "print(f'MAE = {mae}')\n",
    "mse = mean_squared_error(y_test, y_preds, squared=False) \n",
    "print(f'RMSE = {mse}')\n",
    "cvs = cross_val_score(model, X_train, y_train, cv=5).mean()\n",
    "print(f'CVS = {cvs}')"
   ]
  },
  {
   "cell_type": "markdown",
   "id": "3bfa5b55-9e5c-415a-9544-cf2d4ef239ea",
   "metadata": {},
   "source": [
    "* Add more features to in improve scores"
   ]
  },
  {
   "cell_type": "code",
   "execution_count": 192,
   "id": "a965735a-e6b4-4f0d-93a1-2d396a84f0c4",
   "metadata": {},
   "outputs": [
    {
     "data": {
      "text/plain": [
       "306      -3590.400779\n",
       "1286    -24990.993217\n",
       "370      17196.561135\n",
       "481     -30199.324918\n",
       "1542    102027.466495\n",
       "            ...      \n",
       "1492      2853.058507\n",
       "1348    -28755.619326\n",
       "820       -661.022860\n",
       "708      12091.968701\n",
       "417     -11869.229988\n",
       "Name: saleprice, Length: 511, dtype: float64"
      ]
     },
     "execution_count": 192,
     "metadata": {},
     "output_type": "execute_result"
    }
   ],
   "source": [
    "resids"
   ]
  },
  {
   "cell_type": "code",
   "execution_count": 193,
   "id": "95d0f9c5-2b91-4881-b346-f66d39a40607",
   "metadata": {},
   "outputs": [
    {
     "data": {
      "text/html": [
       "<div>\n",
       "<style scoped>\n",
       "    .dataframe tbody tr th:only-of-type {\n",
       "        vertical-align: middle;\n",
       "    }\n",
       "\n",
       "    .dataframe tbody tr th {\n",
       "        vertical-align: top;\n",
       "    }\n",
       "\n",
       "    .dataframe thead th {\n",
       "        text-align: right;\n",
       "    }\n",
       "</style>\n",
       "<table border=\"1\" class=\"dataframe\">\n",
       "  <thead>\n",
       "    <tr style=\"text-align: right;\">\n",
       "      <th></th>\n",
       "      <th>coefficient</th>\n",
       "    </tr>\n",
       "  </thead>\n",
       "  <tbody>\n",
       "    <tr>\n",
       "      <th>gr_liv_area</th>\n",
       "      <td>47.687829</td>\n",
       "    </tr>\n",
       "    <tr>\n",
       "      <th>bedroom_abvgr</th>\n",
       "      <td>-3099.286928</td>\n",
       "    </tr>\n",
       "    <tr>\n",
       "      <th>age</th>\n",
       "      <td>717.897975</td>\n",
       "    </tr>\n",
       "    <tr>\n",
       "      <th>overall_qual</th>\n",
       "      <td>22739.586678</td>\n",
       "    </tr>\n",
       "    <tr>\n",
       "      <th>age*overall_qual</th>\n",
       "      <td>-156.198334</td>\n",
       "    </tr>\n",
       "    <tr>\n",
       "      <th>gr_liv_area/totrms_abvgrd</th>\n",
       "      <td>3.209841</td>\n",
       "    </tr>\n",
       "    <tr>\n",
       "      <th>gr_liv_area/bedroom_abvgr</th>\n",
       "      <td>-5.114981</td>\n",
       "    </tr>\n",
       "    <tr>\n",
       "      <th>since_remod/add</th>\n",
       "      <td>-84.614779</td>\n",
       "    </tr>\n",
       "    <tr>\n",
       "      <th>1st_flr_sf</th>\n",
       "      <td>9.341470</td>\n",
       "    </tr>\n",
       "    <tr>\n",
       "      <th>garage_area</th>\n",
       "      <td>28.421552</td>\n",
       "    </tr>\n",
       "    <tr>\n",
       "      <th>k_q</th>\n",
       "      <td>17532.029888</td>\n",
       "    </tr>\n",
       "    <tr>\n",
       "      <th>garage_cars</th>\n",
       "      <td>5761.450984</td>\n",
       "    </tr>\n",
       "    <tr>\n",
       "      <th>total_bsmt_sf</th>\n",
       "      <td>15.748259</td>\n",
       "    </tr>\n",
       "  </tbody>\n",
       "</table>\n",
       "</div>"
      ],
      "text/plain": [
       "                            coefficient\n",
       "gr_liv_area                   47.687829\n",
       "bedroom_abvgr              -3099.286928\n",
       "age                          717.897975\n",
       "overall_qual               22739.586678\n",
       "age*overall_qual            -156.198334\n",
       "gr_liv_area/totrms_abvgrd      3.209841\n",
       "gr_liv_area/bedroom_abvgr     -5.114981\n",
       "since_remod/add              -84.614779\n",
       "1st_flr_sf                     9.341470\n",
       "garage_area                   28.421552\n",
       "k_q                        17532.029888\n",
       "garage_cars                 5761.450984\n",
       "total_bsmt_sf                 15.748259"
      ]
     },
     "execution_count": 193,
     "metadata": {},
     "output_type": "execute_result"
    }
   ],
   "source": [
    "coefficents = pd.DataFrame(model.coef_, index=tuning.columns)\n",
    "coefficents.rename(columns={0: 'coefficient'})"
   ]
  },
  {
   "cell_type": "code",
   "execution_count": 196,
   "id": "c221e2e7-8bbe-4c5a-8967-41605fc3d619",
   "metadata": {},
   "outputs": [
    {
     "data": {
      "text/plain": [
       "TA    1044\n",
       "Gd     803\n",
       "Ex     150\n",
       "Fa      47\n",
       "Po       0\n",
       "Name: kitchen_qual, dtype: int64"
      ]
     },
     "execution_count": 196,
     "metadata": {},
     "output_type": "execute_result"
    }
   ],
   "source": [
    "df['kitchen_qual'].sort_values().value_counts()"
   ]
  },
  {
   "cell_type": "code",
   "execution_count": 203,
   "id": "e32e6582-a78d-474f-a658-d6c9195bd036",
   "metadata": {},
   "outputs": [
    {
     "data": {
      "text/html": [
       "<div>\n",
       "<style scoped>\n",
       "    .dataframe tbody tr th:only-of-type {\n",
       "        vertical-align: middle;\n",
       "    }\n",
       "\n",
       "    .dataframe tbody tr th {\n",
       "        vertical-align: top;\n",
       "    }\n",
       "\n",
       "    .dataframe thead th {\n",
       "        text-align: right;\n",
       "    }\n",
       "</style>\n",
       "<table border=\"1\" class=\"dataframe\">\n",
       "  <thead>\n",
       "    <tr style=\"text-align: right;\">\n",
       "      <th></th>\n",
       "      <th>id</th>\n",
       "      <th>pid</th>\n",
       "      <th>ms_subclass</th>\n",
       "      <th>ms_zoning</th>\n",
       "      <th>lot_frontage</th>\n",
       "      <th>lot_area</th>\n",
       "      <th>street</th>\n",
       "      <th>alley</th>\n",
       "      <th>lot_shape</th>\n",
       "      <th>land_contour</th>\n",
       "      <th>...</th>\n",
       "      <th>saleprice</th>\n",
       "      <th>age</th>\n",
       "      <th>age*overall_qual</th>\n",
       "      <th>gr_liv_area/bedroom_abvgr</th>\n",
       "      <th>since_remod/add</th>\n",
       "      <th>Fa</th>\n",
       "      <th>Gd</th>\n",
       "      <th>TA</th>\n",
       "      <th>gr_liv_area/totrms_abvgrd</th>\n",
       "      <th>k_q</th>\n",
       "    </tr>\n",
       "  </thead>\n",
       "  <tbody>\n",
       "    <tr>\n",
       "      <th>22</th>\n",
       "      <td>2393</td>\n",
       "      <td>528142010</td>\n",
       "      <td>60</td>\n",
       "      <td>RL</td>\n",
       "      <td>103.0</td>\n",
       "      <td>12867</td>\n",
       "      <td>Pave</td>\n",
       "      <td>NaN</td>\n",
       "      <td>IR1</td>\n",
       "      <td>Lvl</td>\n",
       "      <td>...</td>\n",
       "      <td>344133</td>\n",
       "      <td>5</td>\n",
       "      <td>40</td>\n",
       "      <td>751.000000</td>\n",
       "      <td>4</td>\n",
       "      <td>0</td>\n",
       "      <td>0</td>\n",
       "      <td>0</td>\n",
       "      <td>281.625000</td>\n",
       "      <td>4</td>\n",
       "    </tr>\n",
       "    <tr>\n",
       "      <th>41</th>\n",
       "      <td>2383</td>\n",
       "      <td>528110050</td>\n",
       "      <td>20</td>\n",
       "      <td>RL</td>\n",
       "      <td>107.0</td>\n",
       "      <td>13891</td>\n",
       "      <td>Pave</td>\n",
       "      <td>NaN</td>\n",
       "      <td>Reg</td>\n",
       "      <td>Lvl</td>\n",
       "      <td>...</td>\n",
       "      <td>465000</td>\n",
       "      <td>4</td>\n",
       "      <td>40</td>\n",
       "      <td>1038.000000</td>\n",
       "      <td>4</td>\n",
       "      <td>0</td>\n",
       "      <td>0</td>\n",
       "      <td>0</td>\n",
       "      <td>296.571429</td>\n",
       "      <td>4</td>\n",
       "    </tr>\n",
       "    <tr>\n",
       "      <th>86</th>\n",
       "      <td>539</td>\n",
       "      <td>531371050</td>\n",
       "      <td>20</td>\n",
       "      <td>RL</td>\n",
       "      <td>67.0</td>\n",
       "      <td>10083</td>\n",
       "      <td>Pave</td>\n",
       "      <td>NaN</td>\n",
       "      <td>Reg</td>\n",
       "      <td>Lvl</td>\n",
       "      <td>...</td>\n",
       "      <td>184900</td>\n",
       "      <td>7</td>\n",
       "      <td>49</td>\n",
       "      <td>600.000000</td>\n",
       "      <td>7</td>\n",
       "      <td>0</td>\n",
       "      <td>1</td>\n",
       "      <td>0</td>\n",
       "      <td>240.000000</td>\n",
       "      <td>3</td>\n",
       "    </tr>\n",
       "    <tr>\n",
       "      <th>212</th>\n",
       "      <td>518</td>\n",
       "      <td>528458020</td>\n",
       "      <td>20</td>\n",
       "      <td>FV</td>\n",
       "      <td>90.0</td>\n",
       "      <td>7993</td>\n",
       "      <td>Pave</td>\n",
       "      <td>NaN</td>\n",
       "      <td>IR1</td>\n",
       "      <td>Lvl</td>\n",
       "      <td>...</td>\n",
       "      <td>225000</td>\n",
       "      <td>2</td>\n",
       "      <td>14</td>\n",
       "      <td>478.666667</td>\n",
       "      <td>1</td>\n",
       "      <td>0</td>\n",
       "      <td>1</td>\n",
       "      <td>0</td>\n",
       "      <td>239.333333</td>\n",
       "      <td>3</td>\n",
       "    </tr>\n",
       "    <tr>\n",
       "      <th>276</th>\n",
       "      <td>2824</td>\n",
       "      <td>908130020</td>\n",
       "      <td>20</td>\n",
       "      <td>RL</td>\n",
       "      <td>75.0</td>\n",
       "      <td>8050</td>\n",
       "      <td>Pave</td>\n",
       "      <td>NaN</td>\n",
       "      <td>Reg</td>\n",
       "      <td>Lvl</td>\n",
       "      <td>...</td>\n",
       "      <td>117250</td>\n",
       "      <td>8</td>\n",
       "      <td>48</td>\n",
       "      <td>457.000000</td>\n",
       "      <td>8</td>\n",
       "      <td>0</td>\n",
       "      <td>1</td>\n",
       "      <td>0</td>\n",
       "      <td>228.500000</td>\n",
       "      <td>3</td>\n",
       "    </tr>\n",
       "    <tr>\n",
       "      <th>338</th>\n",
       "      <td>1800</td>\n",
       "      <td>528458150</td>\n",
       "      <td>60</td>\n",
       "      <td>FV</td>\n",
       "      <td>112.0</td>\n",
       "      <td>12217</td>\n",
       "      <td>Pave</td>\n",
       "      <td>NaN</td>\n",
       "      <td>IR1</td>\n",
       "      <td>Lvl</td>\n",
       "      <td>...</td>\n",
       "      <td>310013</td>\n",
       "      <td>3</td>\n",
       "      <td>24</td>\n",
       "      <td>626.666667</td>\n",
       "      <td>3</td>\n",
       "      <td>0</td>\n",
       "      <td>0</td>\n",
       "      <td>0</td>\n",
       "      <td>235.000000</td>\n",
       "      <td>4</td>\n",
       "    </tr>\n",
       "    <tr>\n",
       "      <th>431</th>\n",
       "      <td>1455</td>\n",
       "      <td>907251090</td>\n",
       "      <td>60</td>\n",
       "      <td>RL</td>\n",
       "      <td>75.0</td>\n",
       "      <td>9473</td>\n",
       "      <td>Pave</td>\n",
       "      <td>NaN</td>\n",
       "      <td>Reg</td>\n",
       "      <td>Lvl</td>\n",
       "      <td>...</td>\n",
       "      <td>237000</td>\n",
       "      <td>8</td>\n",
       "      <td>64</td>\n",
       "      <td>677.000000</td>\n",
       "      <td>8</td>\n",
       "      <td>0</td>\n",
       "      <td>1</td>\n",
       "      <td>0</td>\n",
       "      <td>290.142857</td>\n",
       "      <td>3</td>\n",
       "    </tr>\n",
       "    <tr>\n",
       "      <th>451</th>\n",
       "      <td>1120</td>\n",
       "      <td>528439010</td>\n",
       "      <td>20</td>\n",
       "      <td>RL</td>\n",
       "      <td>87.0</td>\n",
       "      <td>10037</td>\n",
       "      <td>Pave</td>\n",
       "      <td>NaN</td>\n",
       "      <td>Reg</td>\n",
       "      <td>Lvl</td>\n",
       "      <td>...</td>\n",
       "      <td>247000</td>\n",
       "      <td>4</td>\n",
       "      <td>32</td>\n",
       "      <td>486.666667</td>\n",
       "      <td>3</td>\n",
       "      <td>0</td>\n",
       "      <td>1</td>\n",
       "      <td>0</td>\n",
       "      <td>243.333333</td>\n",
       "      <td>3</td>\n",
       "    </tr>\n",
       "    <tr>\n",
       "      <th>591</th>\n",
       "      <td>1841</td>\n",
       "      <td>533208040</td>\n",
       "      <td>120</td>\n",
       "      <td>FV</td>\n",
       "      <td>35.0</td>\n",
       "      <td>4274</td>\n",
       "      <td>Pave</td>\n",
       "      <td>Pave</td>\n",
       "      <td>IR1</td>\n",
       "      <td>Lvl</td>\n",
       "      <td>...</td>\n",
       "      <td>199900</td>\n",
       "      <td>4</td>\n",
       "      <td>28</td>\n",
       "      <td>1241.000000</td>\n",
       "      <td>3</td>\n",
       "      <td>0</td>\n",
       "      <td>1</td>\n",
       "      <td>0</td>\n",
       "      <td>310.250000</td>\n",
       "      <td>3</td>\n",
       "    </tr>\n",
       "    <tr>\n",
       "      <th>844</th>\n",
       "      <td>1840</td>\n",
       "      <td>533208030</td>\n",
       "      <td>120</td>\n",
       "      <td>FV</td>\n",
       "      <td>30.0</td>\n",
       "      <td>5330</td>\n",
       "      <td>Pave</td>\n",
       "      <td>Pave</td>\n",
       "      <td>IR2</td>\n",
       "      <td>Lvl</td>\n",
       "      <td>...</td>\n",
       "      <td>207500</td>\n",
       "      <td>4</td>\n",
       "      <td>32</td>\n",
       "      <td>775.000000</td>\n",
       "      <td>3</td>\n",
       "      <td>0</td>\n",
       "      <td>1</td>\n",
       "      <td>0</td>\n",
       "      <td>310.000000</td>\n",
       "      <td>3</td>\n",
       "    </tr>\n",
       "    <tr>\n",
       "      <th>913</th>\n",
       "      <td>2230</td>\n",
       "      <td>909475070</td>\n",
       "      <td>20</td>\n",
       "      <td>RL</td>\n",
       "      <td>NaN</td>\n",
       "      <td>32668</td>\n",
       "      <td>Pave</td>\n",
       "      <td>NaN</td>\n",
       "      <td>IR1</td>\n",
       "      <td>Lvl</td>\n",
       "      <td>...</td>\n",
       "      <td>200624</td>\n",
       "      <td>53</td>\n",
       "      <td>318</td>\n",
       "      <td>628.750000</td>\n",
       "      <td>35</td>\n",
       "      <td>0</td>\n",
       "      <td>0</td>\n",
       "      <td>1</td>\n",
       "      <td>279.444444</td>\n",
       "      <td>2</td>\n",
       "    </tr>\n",
       "    <tr>\n",
       "      <th>939</th>\n",
       "      <td>1123</td>\n",
       "      <td>528462040</td>\n",
       "      <td>20</td>\n",
       "      <td>FV</td>\n",
       "      <td>95.0</td>\n",
       "      <td>11639</td>\n",
       "      <td>Pave</td>\n",
       "      <td>NaN</td>\n",
       "      <td>Reg</td>\n",
       "      <td>Lvl</td>\n",
       "      <td>...</td>\n",
       "      <td>182000</td>\n",
       "      <td>3</td>\n",
       "      <td>21</td>\n",
       "      <td>476.000000</td>\n",
       "      <td>2</td>\n",
       "      <td>0</td>\n",
       "      <td>1</td>\n",
       "      <td>0</td>\n",
       "      <td>238.000000</td>\n",
       "      <td>3</td>\n",
       "    </tr>\n",
       "    <tr>\n",
       "      <th>1025</th>\n",
       "      <td>1784</td>\n",
       "      <td>528435010</td>\n",
       "      <td>20</td>\n",
       "      <td>RL</td>\n",
       "      <td>85.0</td>\n",
       "      <td>9965</td>\n",
       "      <td>Pave</td>\n",
       "      <td>NaN</td>\n",
       "      <td>Reg</td>\n",
       "      <td>Lvl</td>\n",
       "      <td>...</td>\n",
       "      <td>235876</td>\n",
       "      <td>3</td>\n",
       "      <td>21</td>\n",
       "      <td>509.333333</td>\n",
       "      <td>3</td>\n",
       "      <td>0</td>\n",
       "      <td>1</td>\n",
       "      <td>0</td>\n",
       "      <td>254.666667</td>\n",
       "      <td>3</td>\n",
       "    </tr>\n",
       "    <tr>\n",
       "      <th>1244</th>\n",
       "      <td>485</td>\n",
       "      <td>528275160</td>\n",
       "      <td>60</td>\n",
       "      <td>RL</td>\n",
       "      <td>NaN</td>\n",
       "      <td>12891</td>\n",
       "      <td>Pave</td>\n",
       "      <td>NaN</td>\n",
       "      <td>IR1</td>\n",
       "      <td>Lvl</td>\n",
       "      <td>...</td>\n",
       "      <td>257500</td>\n",
       "      <td>8</td>\n",
       "      <td>64</td>\n",
       "      <td>501.000000</td>\n",
       "      <td>8</td>\n",
       "      <td>0</td>\n",
       "      <td>1</td>\n",
       "      <td>0</td>\n",
       "      <td>250.500000</td>\n",
       "      <td>3</td>\n",
       "    </tr>\n",
       "    <tr>\n",
       "      <th>1306</th>\n",
       "      <td>1752</td>\n",
       "      <td>528250010</td>\n",
       "      <td>80</td>\n",
       "      <td>RL</td>\n",
       "      <td>NaN</td>\n",
       "      <td>11950</td>\n",
       "      <td>Pave</td>\n",
       "      <td>NaN</td>\n",
       "      <td>IR1</td>\n",
       "      <td>Lvl</td>\n",
       "      <td>...</td>\n",
       "      <td>165500</td>\n",
       "      <td>7</td>\n",
       "      <td>49</td>\n",
       "      <td>464.666667</td>\n",
       "      <td>7</td>\n",
       "      <td>0</td>\n",
       "      <td>1</td>\n",
       "      <td>0</td>\n",
       "      <td>199.142857</td>\n",
       "      <td>3</td>\n",
       "    </tr>\n",
       "    <tr>\n",
       "      <th>1430</th>\n",
       "      <td>1185</td>\n",
       "      <td>534104100</td>\n",
       "      <td>60</td>\n",
       "      <td>FV</td>\n",
       "      <td>NaN</td>\n",
       "      <td>7500</td>\n",
       "      <td>Pave</td>\n",
       "      <td>NaN</td>\n",
       "      <td>Reg</td>\n",
       "      <td>Lvl</td>\n",
       "      <td>...</td>\n",
       "      <td>205000</td>\n",
       "      <td>8</td>\n",
       "      <td>56</td>\n",
       "      <td>604.000000</td>\n",
       "      <td>8</td>\n",
       "      <td>0</td>\n",
       "      <td>0</td>\n",
       "      <td>1</td>\n",
       "      <td>258.857143</td>\n",
       "      <td>2</td>\n",
       "    </tr>\n",
       "    <tr>\n",
       "      <th>1434</th>\n",
       "      <td>1128</td>\n",
       "      <td>528480160</td>\n",
       "      <td>60</td>\n",
       "      <td>FV</td>\n",
       "      <td>65.0</td>\n",
       "      <td>8125</td>\n",
       "      <td>Pave</td>\n",
       "      <td>NaN</td>\n",
       "      <td>Reg</td>\n",
       "      <td>Lvl</td>\n",
       "      <td>...</td>\n",
       "      <td>205950</td>\n",
       "      <td>3</td>\n",
       "      <td>21</td>\n",
       "      <td>555.000000</td>\n",
       "      <td>3</td>\n",
       "      <td>0</td>\n",
       "      <td>1</td>\n",
       "      <td>0</td>\n",
       "      <td>237.857143</td>\n",
       "      <td>3</td>\n",
       "    </tr>\n",
       "    <tr>\n",
       "      <th>1606</th>\n",
       "      <td>1096</td>\n",
       "      <td>528290090</td>\n",
       "      <td>60</td>\n",
       "      <td>RL</td>\n",
       "      <td>NaN</td>\n",
       "      <td>7750</td>\n",
       "      <td>Pave</td>\n",
       "      <td>NaN</td>\n",
       "      <td>Reg</td>\n",
       "      <td>Lvl</td>\n",
       "      <td>...</td>\n",
       "      <td>176000</td>\n",
       "      <td>8</td>\n",
       "      <td>56</td>\n",
       "      <td>471.333333</td>\n",
       "      <td>8</td>\n",
       "      <td>0</td>\n",
       "      <td>1</td>\n",
       "      <td>0</td>\n",
       "      <td>235.666667</td>\n",
       "      <td>3</td>\n",
       "    </tr>\n",
       "    <tr>\n",
       "      <th>1699</th>\n",
       "      <td>2261</td>\n",
       "      <td>916384070</td>\n",
       "      <td>20</td>\n",
       "      <td>RL</td>\n",
       "      <td>68.0</td>\n",
       "      <td>8298</td>\n",
       "      <td>Pave</td>\n",
       "      <td>NaN</td>\n",
       "      <td>IR1</td>\n",
       "      <td>HLS</td>\n",
       "      <td>...</td>\n",
       "      <td>267300</td>\n",
       "      <td>4</td>\n",
       "      <td>32</td>\n",
       "      <td>782.000000</td>\n",
       "      <td>3</td>\n",
       "      <td>0</td>\n",
       "      <td>0</td>\n",
       "      <td>0</td>\n",
       "      <td>260.666667</td>\n",
       "      <td>4</td>\n",
       "    </tr>\n",
       "    <tr>\n",
       "      <th>1815</th>\n",
       "      <td>2456</td>\n",
       "      <td>528429100</td>\n",
       "      <td>20</td>\n",
       "      <td>RL</td>\n",
       "      <td>49.0</td>\n",
       "      <td>15218</td>\n",
       "      <td>Pave</td>\n",
       "      <td>NaN</td>\n",
       "      <td>IR1</td>\n",
       "      <td>Lvl</td>\n",
       "      <td>...</td>\n",
       "      <td>336820</td>\n",
       "      <td>4</td>\n",
       "      <td>32</td>\n",
       "      <td>835.000000</td>\n",
       "      <td>4</td>\n",
       "      <td>0</td>\n",
       "      <td>1</td>\n",
       "      <td>0</td>\n",
       "      <td>278.333333</td>\n",
       "      <td>3</td>\n",
       "    </tr>\n",
       "    <tr>\n",
       "      <th>1820</th>\n",
       "      <td>1728</td>\n",
       "      <td>528218010</td>\n",
       "      <td>60</td>\n",
       "      <td>RL</td>\n",
       "      <td>59.0</td>\n",
       "      <td>15810</td>\n",
       "      <td>Pave</td>\n",
       "      <td>NaN</td>\n",
       "      <td>IR1</td>\n",
       "      <td>Lvl</td>\n",
       "      <td>...</td>\n",
       "      <td>181755</td>\n",
       "      <td>3</td>\n",
       "      <td>18</td>\n",
       "      <td>498.666667</td>\n",
       "      <td>3</td>\n",
       "      <td>0</td>\n",
       "      <td>1</td>\n",
       "      <td>0</td>\n",
       "      <td>213.714286</td>\n",
       "      <td>3</td>\n",
       "    </tr>\n",
       "    <tr>\n",
       "      <th>1941</th>\n",
       "      <td>56</td>\n",
       "      <td>528240070</td>\n",
       "      <td>60</td>\n",
       "      <td>RL</td>\n",
       "      <td>NaN</td>\n",
       "      <td>7851</td>\n",
       "      <td>Pave</td>\n",
       "      <td>NaN</td>\n",
       "      <td>Reg</td>\n",
       "      <td>Lvl</td>\n",
       "      <td>...</td>\n",
       "      <td>216500</td>\n",
       "      <td>8</td>\n",
       "      <td>48</td>\n",
       "      <td>490.000000</td>\n",
       "      <td>8</td>\n",
       "      <td>0</td>\n",
       "      <td>1</td>\n",
       "      <td>0</td>\n",
       "      <td>245.000000</td>\n",
       "      <td>3</td>\n",
       "    </tr>\n",
       "  </tbody>\n",
       "</table>\n",
       "<p>22 rows × 90 columns</p>\n",
       "</div>"
      ],
      "text/plain": [
       "        id        pid  ms_subclass ms_zoning  lot_frontage  lot_area street  \\\n",
       "22    2393  528142010           60        RL         103.0     12867   Pave   \n",
       "41    2383  528110050           20        RL         107.0     13891   Pave   \n",
       "86     539  531371050           20        RL          67.0     10083   Pave   \n",
       "212    518  528458020           20        FV          90.0      7993   Pave   \n",
       "276   2824  908130020           20        RL          75.0      8050   Pave   \n",
       "338   1800  528458150           60        FV         112.0     12217   Pave   \n",
       "431   1455  907251090           60        RL          75.0      9473   Pave   \n",
       "451   1120  528439010           20        RL          87.0     10037   Pave   \n",
       "591   1841  533208040          120        FV          35.0      4274   Pave   \n",
       "844   1840  533208030          120        FV          30.0      5330   Pave   \n",
       "913   2230  909475070           20        RL           NaN     32668   Pave   \n",
       "939   1123  528462040           20        FV          95.0     11639   Pave   \n",
       "1025  1784  528435010           20        RL          85.0      9965   Pave   \n",
       "1244   485  528275160           60        RL           NaN     12891   Pave   \n",
       "1306  1752  528250010           80        RL           NaN     11950   Pave   \n",
       "1430  1185  534104100           60        FV           NaN      7500   Pave   \n",
       "1434  1128  528480160           60        FV          65.0      8125   Pave   \n",
       "1606  1096  528290090           60        RL           NaN      7750   Pave   \n",
       "1699  2261  916384070           20        RL          68.0      8298   Pave   \n",
       "1815  2456  528429100           20        RL          49.0     15218   Pave   \n",
       "1820  1728  528218010           60        RL          59.0     15810   Pave   \n",
       "1941    56  528240070           60        RL           NaN      7851   Pave   \n",
       "\n",
       "     alley lot_shape land_contour  ... saleprice age age*overall_qual  \\\n",
       "22     NaN       IR1          Lvl  ...    344133   5               40   \n",
       "41     NaN       Reg          Lvl  ...    465000   4               40   \n",
       "86     NaN       Reg          Lvl  ...    184900   7               49   \n",
       "212    NaN       IR1          Lvl  ...    225000   2               14   \n",
       "276    NaN       Reg          Lvl  ...    117250   8               48   \n",
       "338    NaN       IR1          Lvl  ...    310013   3               24   \n",
       "431    NaN       Reg          Lvl  ...    237000   8               64   \n",
       "451    NaN       Reg          Lvl  ...    247000   4               32   \n",
       "591   Pave       IR1          Lvl  ...    199900   4               28   \n",
       "844   Pave       IR2          Lvl  ...    207500   4               32   \n",
       "913    NaN       IR1          Lvl  ...    200624  53              318   \n",
       "939    NaN       Reg          Lvl  ...    182000   3               21   \n",
       "1025   NaN       Reg          Lvl  ...    235876   3               21   \n",
       "1244   NaN       IR1          Lvl  ...    257500   8               64   \n",
       "1306   NaN       IR1          Lvl  ...    165500   7               49   \n",
       "1430   NaN       Reg          Lvl  ...    205000   8               56   \n",
       "1434   NaN       Reg          Lvl  ...    205950   3               21   \n",
       "1606   NaN       Reg          Lvl  ...    176000   8               56   \n",
       "1699   NaN       IR1          HLS  ...    267300   4               32   \n",
       "1815   NaN       IR1          Lvl  ...    336820   4               32   \n",
       "1820   NaN       IR1          Lvl  ...    181755   3               18   \n",
       "1941   NaN       Reg          Lvl  ...    216500   8               48   \n",
       "\n",
       "     gr_liv_area/bedroom_abvgr since_remod/add Fa Gd TA  \\\n",
       "22                  751.000000               4  0  0  0   \n",
       "41                 1038.000000               4  0  0  0   \n",
       "86                  600.000000               7  0  1  0   \n",
       "212                 478.666667               1  0  1  0   \n",
       "276                 457.000000               8  0  1  0   \n",
       "338                 626.666667               3  0  0  0   \n",
       "431                 677.000000               8  0  1  0   \n",
       "451                 486.666667               3  0  1  0   \n",
       "591                1241.000000               3  0  1  0   \n",
       "844                 775.000000               3  0  1  0   \n",
       "913                 628.750000              35  0  0  1   \n",
       "939                 476.000000               2  0  1  0   \n",
       "1025                509.333333               3  0  1  0   \n",
       "1244                501.000000               8  0  1  0   \n",
       "1306                464.666667               7  0  1  0   \n",
       "1430                604.000000               8  0  0  1   \n",
       "1434                555.000000               3  0  1  0   \n",
       "1606                471.333333               8  0  1  0   \n",
       "1699                782.000000               3  0  0  0   \n",
       "1815                835.000000               4  0  1  0   \n",
       "1820                498.666667               3  0  1  0   \n",
       "1941                490.000000               8  0  1  0   \n",
       "\n",
       "      gr_liv_area/totrms_abvgrd  k_q  \n",
       "22                   281.625000    4  \n",
       "41                   296.571429    4  \n",
       "86                   240.000000    3  \n",
       "212                  239.333333    3  \n",
       "276                  228.500000    3  \n",
       "338                  235.000000    4  \n",
       "431                  290.142857    3  \n",
       "451                  243.333333    3  \n",
       "591                  310.250000    3  \n",
       "844                  310.000000    3  \n",
       "913                  279.444444    2  \n",
       "939                  238.000000    3  \n",
       "1025                 254.666667    3  \n",
       "1244                 250.500000    3  \n",
       "1306                 199.142857    3  \n",
       "1430                 258.857143    2  \n",
       "1434                 237.857143    3  \n",
       "1606                 235.666667    3  \n",
       "1699                 260.666667    4  \n",
       "1815                 278.333333    3  \n",
       "1820                 213.714286    3  \n",
       "1941                 245.000000    3  \n",
       "\n",
       "[22 rows x 90 columns]"
      ]
     },
     "execution_count": 203,
     "metadata": {},
     "output_type": "execute_result"
    }
   ],
   "source": [
    "df[df['mas_vnr_area'].isnull()]"
   ]
  },
  {
   "cell_type": "code",
   "execution_count": 200,
   "id": "6293f8da-6ff3-483c-a8bc-4224c6ab6846",
   "metadata": {},
   "outputs": [
    {
     "data": {
      "text/plain": [
       "<matplotlib.collections.PathCollection at 0x1b3a4ddbe20>"
      ]
     },
     "execution_count": 200,
     "metadata": {},
     "output_type": "execute_result"
    },
    {
     "data": {
      "image/png": "[encoded data removed]",
      "text/plain": [
       "<Figure size 432x288 with 1 Axes>"
      ]
     },
     "metadata": {
      "needs_background": "light"
     },
     "output_type": "display_data"
    }
   ],
   "source": [
    "plt.scatter(x=df['mas_vnr_area'], y=df['saleprice'])"
   ]
  },
  {
   "cell_type": "code",
   "execution_count": null,
   "id": "47f6dc74-58c6-4c7f-b22f-f2963b4c5a82",
   "metadata": {},
   "outputs": [],
   "source": []
  },
  {
   "cell_type": "code",
   "execution_count": 158,
   "id": "0d130b24-acc6-4418-b715-a4d584aa3c8a",
   "metadata": {},
   "outputs": [
    {
     "data": {
      "text/plain": [
       "181389.6722113503"
      ]
     },
     "execution_count": 158,
     "metadata": {},
     "output_type": "execute_result"
    }
   ],
   "source": [
    "y.mean()"
   ]
  },
  {
   "cell_type": "code",
   "execution_count": 157,
   "id": "bbae43fb-9fa2-4d0d-9faa-9741ff8fd342",
   "metadata": {},
   "outputs": [
    {
     "data": {
      "text/plain": [
       "(array([ 42., 523., 816., 350., 166.,  79.,  39.,  16.,   6.,   7.]),\n",
       " array([ 12789. ,  72675.8, 132562.6, 192449.4, 252336.2, 312223. ,\n",
       "        372109.8, 431996.6, 491883.4, 551770.2, 611657. ]),\n",
       " <BarContainer object of 10 artists>)"
      ]
     },
     "execution_count": 157,
     "metadata": {},
     "output_type": "execute_result"
    },
    {
     "data": {
      "image/png": "[encoded data removed]",
      "text/plain": [
       "<Figure size 432x288 with 1 Axes>"
      ]
     },
     "metadata": {
      "needs_background": "light"
     },
     "output_type": "display_data"
    }
   ],
   "source": [
    "plt.hist(y)"
   ]
  },
  {
   "cell_type": "code",
   "execution_count": null,
   "id": "a1f1786d-83f3-471d-a242-6cf7db1a50a6",
   "metadata": {},
   "outputs": [],
   "source": []
  }
 ],
 "metadata": {
  "kernelspec": {
   "display_name": "Python 3 (ipykernel)",
   "language": "python",
   "name": "python3"
  },
  "language_info": {
   "codemirror_mode": {
    "name": "ipython",
    "version": 3
   },
   "file_extension": ".py",
   "mimetype": "text/x-python",
   "name": "python",
   "nbconvert_exporter": "python",
   "pygments_lexer": "ipython3",
   "version": "3.9.7"
  }
 },
 "nbformat": 4,
 "nbformat_minor": 5
}
