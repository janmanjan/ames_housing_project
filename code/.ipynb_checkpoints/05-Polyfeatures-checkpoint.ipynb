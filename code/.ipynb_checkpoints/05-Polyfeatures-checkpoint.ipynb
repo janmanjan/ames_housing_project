{
 "cells": [
  {
   "cell_type": "markdown",
   "id": "3396ae9f-460c-4906-b200-204caf559e59",
   "metadata": {},
   "source": [
    "### Imports"
   ]
  },
  {
   "cell_type": "code",
   "execution_count": 488,
   "id": "c8d81862-ab35-47f4-a195-c87600b3a954",
   "metadata": {
    "tags": []
   },
   "outputs": [],
   "source": [
    "import pandas as pd\n",
    "import numpy as np\n",
    "import matplotlib.pyplot as plt\n",
    "import seaborn as sns\n",
    "\n",
    "from sklearn.model_selection import train_test_split, cross_val_score\n",
    "from sklearn.linear_model import LinearRegression, Lasso, LassoCV\n",
    "from sklearn.preprocessing import OneHotEncoder, StandardScaler, PolynomialFeatures\n",
    "from sklearn.metrics import mean_squared_error, r2_score, mean_absolute_error"
   ]
  },
  {
   "cell_type": "code",
   "execution_count": 489,
   "id": "9780ac8b-d3c2-4e5b-b588-f06867ec7cac",
   "metadata": {},
   "outputs": [],
   "source": [
    "df = pd.read_csv('datasets/train.csv')\n",
    "df = df.rename(str.lower, axis=1)\n",
    "df.columns = [name.replace(' ', '_') if ' ' in name else name for name in df.columns]\n",
    "df = df[df['bedroom_abvgr'] != 0]"
   ]
  },
  {
   "cell_type": "markdown",
   "id": "beaa2811-ae45-4c2e-ba6a-50642b63565c",
   "metadata": {},
   "source": [
    "---"
   ]
  },
  {
   "cell_type": "markdown",
   "id": "9d04d233-f380-4124-8162-8dd5f7cfaf03",
   "metadata": {},
   "source": [
    "### Polyfeatures Models"
   ]
  },
  {
   "cell_type": "markdown",
   "id": "d2390257-535d-43a1-9d2c-ee121da04b04",
   "metadata": {
    "tags": []
   },
   "source": [
    "##### Feature Engineering"
   ]
  },
  {
   "cell_type": "code",
   "execution_count": 490,
   "id": "6b254866-8c68-449f-8c42-4397b835d5ca",
   "metadata": {},
   "outputs": [],
   "source": [
    "df['age'] = [df['year_built'].max()-year for year in df['year_built']]\n",
    "df['age*overall_qual'] = df['age']*df['overall_qual']\n",
    "df['gr_liv_area/bedroom_abvgr'] = df['gr_liv_area']/df['bedroom_abvgr']"
   ]
  },
  {
   "cell_type": "code",
   "execution_count": 491,
   "id": "3e2afd98-c5ef-4686-9f93-5ec6d75123a9",
   "metadata": {},
   "outputs": [],
   "source": [
    "features_1= df[['gr_liv_area', 'bedroom_abvgr', 'age', 'overall_qual', 'age*overall_qual', 'gr_liv_area/bedroom_abvgr']]"
   ]
  },
  {
   "cell_type": "code",
   "execution_count": 492,
   "id": "18c439a9-9d34-4617-ac81-2ba7feae9488",
   "metadata": {},
   "outputs": [],
   "source": [
    "pd.get_dummies(df, columns=['kitchen_qual'])\n",
    "kitchen_qual = pd.get_dummies(df['kitchen_qual'], drop_first=True)\n",
    "features_1 = pd.concat([features_1, kitchen_qual], axis=1)"
   ]
  },
  {
   "cell_type": "code",
   "execution_count": 6,
   "id": "d91a4b40-dbb8-46df-a3e8-9c1a4d55c325",
   "metadata": {},
   "outputs": [
    {
     "data": {
      "text/html": [
       "<div>\n",
       "<style scoped>\n",
       "    .dataframe tbody tr th:only-of-type {\n",
       "        vertical-align: middle;\n",
       "    }\n",
       "\n",
       "    .dataframe tbody tr th {\n",
       "        vertical-align: top;\n",
       "    }\n",
       "\n",
       "    .dataframe thead th {\n",
       "        text-align: right;\n",
       "    }\n",
       "</style>\n",
       "<table border=\"1\" class=\"dataframe\">\n",
       "  <thead>\n",
       "    <tr style=\"text-align: right;\">\n",
       "      <th></th>\n",
       "      <th>gr_liv_area</th>\n",
       "      <th>bedroom_abvgr</th>\n",
       "      <th>age</th>\n",
       "      <th>overall_qual</th>\n",
       "      <th>age*overall_qual</th>\n",
       "      <th>gr_liv_area/bedroom_abvgr</th>\n",
       "      <th>Fa</th>\n",
       "      <th>Gd</th>\n",
       "      <th>TA</th>\n",
       "      <th>gr_liv_area^2</th>\n",
       "      <th>...</th>\n",
       "      <th>gr_liv_area/bedroom_abvgr^2</th>\n",
       "      <th>gr_liv_area/bedroom_abvgr Fa</th>\n",
       "      <th>gr_liv_area/bedroom_abvgr Gd</th>\n",
       "      <th>gr_liv_area/bedroom_abvgr TA</th>\n",
       "      <th>Fa^2</th>\n",
       "      <th>Fa Gd</th>\n",
       "      <th>Fa TA</th>\n",
       "      <th>Gd^2</th>\n",
       "      <th>Gd TA</th>\n",
       "      <th>TA^2</th>\n",
       "    </tr>\n",
       "  </thead>\n",
       "  <tbody>\n",
       "    <tr>\n",
       "      <th>0</th>\n",
       "      <td>841.0</td>\n",
       "      <td>2.0</td>\n",
       "      <td>60.0</td>\n",
       "      <td>4.0</td>\n",
       "      <td>240.0</td>\n",
       "      <td>420.500000</td>\n",
       "      <td>0.0</td>\n",
       "      <td>0.0</td>\n",
       "      <td>1.0</td>\n",
       "      <td>707281.0</td>\n",
       "      <td>...</td>\n",
       "      <td>176820.250000</td>\n",
       "      <td>0.0</td>\n",
       "      <td>0.000000</td>\n",
       "      <td>420.500000</td>\n",
       "      <td>0.0</td>\n",
       "      <td>0.0</td>\n",
       "      <td>0.0</td>\n",
       "      <td>0.0</td>\n",
       "      <td>0.0</td>\n",
       "      <td>1.0</td>\n",
       "    </tr>\n",
       "    <tr>\n",
       "      <th>1</th>\n",
       "      <td>1630.0</td>\n",
       "      <td>3.0</td>\n",
       "      <td>6.0</td>\n",
       "      <td>7.0</td>\n",
       "      <td>42.0</td>\n",
       "      <td>543.333333</td>\n",
       "      <td>0.0</td>\n",
       "      <td>1.0</td>\n",
       "      <td>0.0</td>\n",
       "      <td>2656900.0</td>\n",
       "      <td>...</td>\n",
       "      <td>295211.111111</td>\n",
       "      <td>0.0</td>\n",
       "      <td>543.333333</td>\n",
       "      <td>0.000000</td>\n",
       "      <td>0.0</td>\n",
       "      <td>0.0</td>\n",
       "      <td>0.0</td>\n",
       "      <td>1.0</td>\n",
       "      <td>0.0</td>\n",
       "      <td>0.0</td>\n",
       "    </tr>\n",
       "    <tr>\n",
       "      <th>2</th>\n",
       "      <td>1246.0</td>\n",
       "      <td>3.0</td>\n",
       "      <td>46.0</td>\n",
       "      <td>6.0</td>\n",
       "      <td>276.0</td>\n",
       "      <td>415.333333</td>\n",
       "      <td>0.0</td>\n",
       "      <td>0.0</td>\n",
       "      <td>1.0</td>\n",
       "      <td>1552516.0</td>\n",
       "      <td>...</td>\n",
       "      <td>172501.777778</td>\n",
       "      <td>0.0</td>\n",
       "      <td>0.000000</td>\n",
       "      <td>415.333333</td>\n",
       "      <td>0.0</td>\n",
       "      <td>0.0</td>\n",
       "      <td>0.0</td>\n",
       "      <td>0.0</td>\n",
       "      <td>0.0</td>\n",
       "      <td>1.0</td>\n",
       "    </tr>\n",
       "    <tr>\n",
       "      <th>3</th>\n",
       "      <td>1680.0</td>\n",
       "      <td>3.0</td>\n",
       "      <td>17.0</td>\n",
       "      <td>6.0</td>\n",
       "      <td>102.0</td>\n",
       "      <td>560.000000</td>\n",
       "      <td>0.0</td>\n",
       "      <td>1.0</td>\n",
       "      <td>0.0</td>\n",
       "      <td>2822400.0</td>\n",
       "      <td>...</td>\n",
       "      <td>313600.000000</td>\n",
       "      <td>0.0</td>\n",
       "      <td>560.000000</td>\n",
       "      <td>0.000000</td>\n",
       "      <td>0.0</td>\n",
       "      <td>0.0</td>\n",
       "      <td>0.0</td>\n",
       "      <td>1.0</td>\n",
       "      <td>0.0</td>\n",
       "      <td>0.0</td>\n",
       "    </tr>\n",
       "    <tr>\n",
       "      <th>4</th>\n",
       "      <td>2448.0</td>\n",
       "      <td>4.0</td>\n",
       "      <td>16.0</td>\n",
       "      <td>8.0</td>\n",
       "      <td>128.0</td>\n",
       "      <td>612.000000</td>\n",
       "      <td>0.0</td>\n",
       "      <td>1.0</td>\n",
       "      <td>0.0</td>\n",
       "      <td>5992704.0</td>\n",
       "      <td>...</td>\n",
       "      <td>374544.000000</td>\n",
       "      <td>0.0</td>\n",
       "      <td>612.000000</td>\n",
       "      <td>0.000000</td>\n",
       "      <td>0.0</td>\n",
       "      <td>0.0</td>\n",
       "      <td>0.0</td>\n",
       "      <td>1.0</td>\n",
       "      <td>0.0</td>\n",
       "      <td>0.0</td>\n",
       "    </tr>\n",
       "    <tr>\n",
       "      <th>...</th>\n",
       "      <td>...</td>\n",
       "      <td>...</td>\n",
       "      <td>...</td>\n",
       "      <td>...</td>\n",
       "      <td>...</td>\n",
       "      <td>...</td>\n",
       "      <td>...</td>\n",
       "      <td>...</td>\n",
       "      <td>...</td>\n",
       "      <td>...</td>\n",
       "      <td>...</td>\n",
       "      <td>...</td>\n",
       "      <td>...</td>\n",
       "      <td>...</td>\n",
       "      <td>...</td>\n",
       "      <td>...</td>\n",
       "      <td>...</td>\n",
       "      <td>...</td>\n",
       "      <td>...</td>\n",
       "      <td>...</td>\n",
       "      <td>...</td>\n",
       "    </tr>\n",
       "    <tr>\n",
       "      <th>507</th>\n",
       "      <td>1072.0</td>\n",
       "      <td>2.0</td>\n",
       "      <td>5.0</td>\n",
       "      <td>6.0</td>\n",
       "      <td>30.0</td>\n",
       "      <td>536.000000</td>\n",
       "      <td>0.0</td>\n",
       "      <td>1.0</td>\n",
       "      <td>0.0</td>\n",
       "      <td>1149184.0</td>\n",
       "      <td>...</td>\n",
       "      <td>287296.000000</td>\n",
       "      <td>0.0</td>\n",
       "      <td>536.000000</td>\n",
       "      <td>0.000000</td>\n",
       "      <td>0.0</td>\n",
       "      <td>0.0</td>\n",
       "      <td>0.0</td>\n",
       "      <td>1.0</td>\n",
       "      <td>0.0</td>\n",
       "      <td>0.0</td>\n",
       "    </tr>\n",
       "    <tr>\n",
       "      <th>508</th>\n",
       "      <td>1224.0</td>\n",
       "      <td>3.0</td>\n",
       "      <td>62.0</td>\n",
       "      <td>6.0</td>\n",
       "      <td>372.0</td>\n",
       "      <td>408.000000</td>\n",
       "      <td>0.0</td>\n",
       "      <td>0.0</td>\n",
       "      <td>1.0</td>\n",
       "      <td>1498176.0</td>\n",
       "      <td>...</td>\n",
       "      <td>166464.000000</td>\n",
       "      <td>0.0</td>\n",
       "      <td>0.000000</td>\n",
       "      <td>408.000000</td>\n",
       "      <td>0.0</td>\n",
       "      <td>0.0</td>\n",
       "      <td>0.0</td>\n",
       "      <td>0.0</td>\n",
       "      <td>0.0</td>\n",
       "      <td>1.0</td>\n",
       "    </tr>\n",
       "    <tr>\n",
       "      <th>509</th>\n",
       "      <td>672.0</td>\n",
       "      <td>2.0</td>\n",
       "      <td>85.0</td>\n",
       "      <td>4.0</td>\n",
       "      <td>340.0</td>\n",
       "      <td>336.000000</td>\n",
       "      <td>0.0</td>\n",
       "      <td>0.0</td>\n",
       "      <td>1.0</td>\n",
       "      <td>451584.0</td>\n",
       "      <td>...</td>\n",
       "      <td>112896.000000</td>\n",
       "      <td>0.0</td>\n",
       "      <td>0.000000</td>\n",
       "      <td>336.000000</td>\n",
       "      <td>0.0</td>\n",
       "      <td>0.0</td>\n",
       "      <td>0.0</td>\n",
       "      <td>0.0</td>\n",
       "      <td>0.0</td>\n",
       "      <td>1.0</td>\n",
       "    </tr>\n",
       "    <tr>\n",
       "      <th>510</th>\n",
       "      <td>1495.0</td>\n",
       "      <td>3.0</td>\n",
       "      <td>4.0</td>\n",
       "      <td>6.0</td>\n",
       "      <td>24.0</td>\n",
       "      <td>498.333333</td>\n",
       "      <td>0.0</td>\n",
       "      <td>1.0</td>\n",
       "      <td>0.0</td>\n",
       "      <td>2235025.0</td>\n",
       "      <td>...</td>\n",
       "      <td>248336.111111</td>\n",
       "      <td>0.0</td>\n",
       "      <td>498.333333</td>\n",
       "      <td>0.000000</td>\n",
       "      <td>0.0</td>\n",
       "      <td>0.0</td>\n",
       "      <td>0.0</td>\n",
       "      <td>1.0</td>\n",
       "      <td>0.0</td>\n",
       "      <td>0.0</td>\n",
       "    </tr>\n",
       "    <tr>\n",
       "      <th>511</th>\n",
       "      <td>1586.0</td>\n",
       "      <td>3.0</td>\n",
       "      <td>31.0</td>\n",
       "      <td>6.0</td>\n",
       "      <td>186.0</td>\n",
       "      <td>528.666667</td>\n",
       "      <td>0.0</td>\n",
       "      <td>0.0</td>\n",
       "      <td>1.0</td>\n",
       "      <td>2515396.0</td>\n",
       "      <td>...</td>\n",
       "      <td>279488.444444</td>\n",
       "      <td>0.0</td>\n",
       "      <td>0.000000</td>\n",
       "      <td>528.666667</td>\n",
       "      <td>0.0</td>\n",
       "      <td>0.0</td>\n",
       "      <td>0.0</td>\n",
       "      <td>0.0</td>\n",
       "      <td>0.0</td>\n",
       "      <td>1.0</td>\n",
       "    </tr>\n",
       "  </tbody>\n",
       "</table>\n",
       "<p>512 rows × 54 columns</p>\n",
       "</div>"
      ],
      "text/plain": [
       "     gr_liv_area  bedroom_abvgr   age  overall_qual  age*overall_qual  \\\n",
       "0          841.0            2.0  60.0           4.0             240.0   \n",
       "1         1630.0            3.0   6.0           7.0              42.0   \n",
       "2         1246.0            3.0  46.0           6.0             276.0   \n",
       "3         1680.0            3.0  17.0           6.0             102.0   \n",
       "4         2448.0            4.0  16.0           8.0             128.0   \n",
       "..           ...            ...   ...           ...               ...   \n",
       "507       1072.0            2.0   5.0           6.0              30.0   \n",
       "508       1224.0            3.0  62.0           6.0             372.0   \n",
       "509        672.0            2.0  85.0           4.0             340.0   \n",
       "510       1495.0            3.0   4.0           6.0              24.0   \n",
       "511       1586.0            3.0  31.0           6.0             186.0   \n",
       "\n",
       "     gr_liv_area/bedroom_abvgr   Fa   Gd   TA  gr_liv_area^2  ...  \\\n",
       "0                   420.500000  0.0  0.0  1.0       707281.0  ...   \n",
       "1                   543.333333  0.0  1.0  0.0      2656900.0  ...   \n",
       "2                   415.333333  0.0  0.0  1.0      1552516.0  ...   \n",
       "3                   560.000000  0.0  1.0  0.0      2822400.0  ...   \n",
       "4                   612.000000  0.0  1.0  0.0      5992704.0  ...   \n",
       "..                         ...  ...  ...  ...            ...  ...   \n",
       "507                 536.000000  0.0  1.0  0.0      1149184.0  ...   \n",
       "508                 408.000000  0.0  0.0  1.0      1498176.0  ...   \n",
       "509                 336.000000  0.0  0.0  1.0       451584.0  ...   \n",
       "510                 498.333333  0.0  1.0  0.0      2235025.0  ...   \n",
       "511                 528.666667  0.0  0.0  1.0      2515396.0  ...   \n",
       "\n",
       "     gr_liv_area/bedroom_abvgr^2  gr_liv_area/bedroom_abvgr Fa  \\\n",
       "0                  176820.250000                           0.0   \n",
       "1                  295211.111111                           0.0   \n",
       "2                  172501.777778                           0.0   \n",
       "3                  313600.000000                           0.0   \n",
       "4                  374544.000000                           0.0   \n",
       "..                           ...                           ...   \n",
       "507                287296.000000                           0.0   \n",
       "508                166464.000000                           0.0   \n",
       "509                112896.000000                           0.0   \n",
       "510                248336.111111                           0.0   \n",
       "511                279488.444444                           0.0   \n",
       "\n",
       "     gr_liv_area/bedroom_abvgr Gd  gr_liv_area/bedroom_abvgr TA  Fa^2  Fa Gd  \\\n",
       "0                        0.000000                    420.500000   0.0    0.0   \n",
       "1                      543.333333                      0.000000   0.0    0.0   \n",
       "2                        0.000000                    415.333333   0.0    0.0   \n",
       "3                      560.000000                      0.000000   0.0    0.0   \n",
       "4                      612.000000                      0.000000   0.0    0.0   \n",
       "..                            ...                           ...   ...    ...   \n",
       "507                    536.000000                      0.000000   0.0    0.0   \n",
       "508                      0.000000                    408.000000   0.0    0.0   \n",
       "509                      0.000000                    336.000000   0.0    0.0   \n",
       "510                    498.333333                      0.000000   0.0    0.0   \n",
       "511                      0.000000                    528.666667   0.0    0.0   \n",
       "\n",
       "     Fa TA  Gd^2  Gd TA  TA^2  \n",
       "0      0.0   0.0    0.0   1.0  \n",
       "1      0.0   1.0    0.0   0.0  \n",
       "2      0.0   0.0    0.0   1.0  \n",
       "3      0.0   1.0    0.0   0.0  \n",
       "4      0.0   1.0    0.0   0.0  \n",
       "..     ...   ...    ...   ...  \n",
       "507    0.0   1.0    0.0   0.0  \n",
       "508    0.0   0.0    0.0   1.0  \n",
       "509    0.0   0.0    0.0   1.0  \n",
       "510    0.0   1.0    0.0   0.0  \n",
       "511    0.0   0.0    0.0   1.0  \n",
       "\n",
       "[512 rows x 54 columns]"
      ]
     },
     "execution_count": 6,
     "metadata": {},
     "output_type": "execute_result"
    }
   ],
   "source": [
    "X = features_1\n",
    "y = df['saleprice']\n",
    "X_train, X_test, y_train, y_test = train_test_split(X, y, random_state=42)\n",
    "pf = PolynomialFeatures(include_bias=False)\n",
    "pf.fit(X_train)\n",
    "X_train_pf = pf.transform(X_train)\n",
    "X_test_pf = pf.transform(X_test)\n",
    "pd.DataFrame(X_test_pf, columns=pf.get_feature_names(X.columns))"
   ]
  },
  {
   "cell_type": "code",
   "execution_count": 7,
   "id": "c0984c63-0ed6-41ff-8813-bf4fd381afb0",
   "metadata": {},
   "outputs": [],
   "source": [
    "ss = StandardScaler()                  \n",
    "ss.fit(X_train_pf)\n",
    "Z_train = ss.transform(X_train_pf)\n",
    "Z_test = ss.transform(X_test_pf)"
   ]
  },
  {
   "cell_type": "code",
   "execution_count": 8,
   "id": "7cdae43c-132e-474f-8e72-268940e8cc53",
   "metadata": {},
   "outputs": [
    {
     "data": {
      "text/plain": [
       "(0.8570533583065845, 0.8374662553855754)"
      ]
     },
     "execution_count": 8,
     "metadata": {},
     "output_type": "execute_result"
    }
   ],
   "source": [
    "lr = LinearRegression()\n",
    "lr.fit(Z_train, y_train)\n",
    "lr.score(Z_train, y_train), lr.score(Z_test, y_test)"
   ]
  },
  {
   "cell_type": "code",
   "execution_count": 9,
   "id": "f1a171af-760d-499f-843f-a81045bb8104",
   "metadata": {},
   "outputs": [
    {
     "name": "stderr",
     "output_type": "stream",
     "text": [
      "C:\\Users\\mmoli\\anaconda3\\lib\\site-packages\\sklearn\\linear_model\\_coordinate_descent.py:526: ConvergenceWarning: Objective did not converge. You might want to increase the number of iterations. Duality gap: 999116861.276123, tolerance: 780163996.1424893\n",
      "  model = cd_fast.enet_coordinate_descent_gram(\n",
      "C:\\Users\\mmoli\\anaconda3\\lib\\site-packages\\sklearn\\linear_model\\_coordinate_descent.py:526: ConvergenceWarning: Objective did not converge. You might want to increase the number of iterations. Duality gap: 2021316769.9822998, tolerance: 780163996.1424893\n",
      "  model = cd_fast.enet_coordinate_descent_gram(\n",
      "C:\\Users\\mmoli\\anaconda3\\lib\\site-packages\\sklearn\\linear_model\\_coordinate_descent.py:526: ConvergenceWarning: Objective did not converge. You might want to increase the number of iterations. Duality gap: 2432504591.3026123, tolerance: 780163996.1424893\n",
      "  model = cd_fast.enet_coordinate_descent_gram(\n",
      "C:\\Users\\mmoli\\anaconda3\\lib\\site-packages\\sklearn\\linear_model\\_coordinate_descent.py:526: ConvergenceWarning: Objective did not converge. You might want to increase the number of iterations. Duality gap: 1324243583.4228516, tolerance: 745601074.0340331\n",
      "  model = cd_fast.enet_coordinate_descent_gram(\n",
      "C:\\Users\\mmoli\\anaconda3\\lib\\site-packages\\sklearn\\linear_model\\_coordinate_descent.py:526: ConvergenceWarning: Objective did not converge. You might want to increase the number of iterations. Duality gap: 2384985666.086914, tolerance: 746009669.088879\n",
      "  model = cd_fast.enet_coordinate_descent_gram(\n",
      "C:\\Users\\mmoli\\anaconda3\\lib\\site-packages\\sklearn\\linear_model\\_coordinate_descent.py:526: ConvergenceWarning: Objective did not converge. You might want to increase the number of iterations. Duality gap: 3098463574.145996, tolerance: 746009669.088879\n",
      "  model = cd_fast.enet_coordinate_descent_gram(\n",
      "C:\\Users\\mmoli\\anaconda3\\lib\\site-packages\\sklearn\\linear_model\\_coordinate_descent.py:526: ConvergenceWarning: Objective did not converge. You might want to increase the number of iterations. Duality gap: 3190489641.5351562, tolerance: 746009669.088879\n",
      "  model = cd_fast.enet_coordinate_descent_gram(\n",
      "C:\\Users\\mmoli\\anaconda3\\lib\\site-packages\\sklearn\\linear_model\\_coordinate_descent.py:526: ConvergenceWarning: Objective did not converge. You might want to increase the number of iterations. Duality gap: 3170945616.8182373, tolerance: 746009669.088879\n",
      "  model = cd_fast.enet_coordinate_descent_gram(\n",
      "C:\\Users\\mmoli\\anaconda3\\lib\\site-packages\\sklearn\\linear_model\\_coordinate_descent.py:526: ConvergenceWarning: Objective did not converge. You might want to increase the number of iterations. Duality gap: 3437446229.567993, tolerance: 746009669.088879\n",
      "  model = cd_fast.enet_coordinate_descent_gram(\n",
      "C:\\Users\\mmoli\\anaconda3\\lib\\site-packages\\sklearn\\linear_model\\_coordinate_descent.py:526: ConvergenceWarning: Objective did not converge. You might want to increase the number of iterations. Duality gap: 858244696.5683594, tolerance: 736142996.4976041\n",
      "  model = cd_fast.enet_coordinate_descent_gram(\n",
      "C:\\Users\\mmoli\\anaconda3\\lib\\site-packages\\sklearn\\linear_model\\_coordinate_descent.py:526: ConvergenceWarning: Objective did not converge. You might want to increase the number of iterations. Duality gap: 1861470238.8537598, tolerance: 736142996.4976041\n",
      "  model = cd_fast.enet_coordinate_descent_gram(\n",
      "C:\\Users\\mmoli\\anaconda3\\lib\\site-packages\\sklearn\\linear_model\\_coordinate_descent.py:526: ConvergenceWarning: Objective did not converge. You might want to increase the number of iterations. Duality gap: 2220410384.3359375, tolerance: 736142996.4976041\n",
      "  model = cd_fast.enet_coordinate_descent_gram(\n",
      "C:\\Users\\mmoli\\anaconda3\\lib\\site-packages\\sklearn\\linear_model\\_coordinate_descent.py:526: ConvergenceWarning: Objective did not converge. You might want to increase the number of iterations. Duality gap: 2418722889.7958984, tolerance: 736142996.4976041\n",
      "  model = cd_fast.enet_coordinate_descent_gram(\n"
     ]
    }
   ],
   "source": [
    "l_alphas = np.linspace(0.000001, .3, 300)\n",
    "lcv = LassoCV()\n",
    "lcv.fit(Z_train, y_train)\n",
    "lcv.score(Z_train, y_train), lcv.score(Z_test, y_test);"
   ]
  },
  {
   "cell_type": "code",
   "execution_count": 10,
   "id": "f2bb8027-8473-4048-a9a7-7ea83cd78c87",
   "metadata": {},
   "outputs": [
    {
     "data": {
      "text/plain": [
       "1129.5111722806357"
      ]
     },
     "execution_count": 10,
     "metadata": {},
     "output_type": "execute_result"
    }
   ],
   "source": [
    "lcv.alpha_"
   ]
  },
  {
   "cell_type": "code",
   "execution_count": 11,
   "id": "0dd6965f-e50b-4ec2-b085-c4e0b7bb55c5",
   "metadata": {},
   "outputs": [
    {
     "data": {
      "text/plain": [
       "<bound method RegressorMixin.score of LassoCV()>"
      ]
     },
     "execution_count": 11,
     "metadata": {},
     "output_type": "execute_result"
    }
   ],
   "source": [
    "lcv.score"
   ]
  },
  {
   "cell_type": "code",
   "execution_count": 12,
   "id": "382b3787-1fae-4c82-afe6-345c8e08aecd",
   "metadata": {},
   "outputs": [
    {
     "data": {
      "text/plain": [
       "945.7633742440494"
      ]
     },
     "execution_count": 12,
     "metadata": {},
     "output_type": "execute_result"
    }
   ],
   "source": [
    "y_preds = lcv.predict(Z_test)\n",
    "resids = y_test-y_preds                     \n",
    "resids.mean() "
   ]
  },
  {
   "cell_type": "markdown",
   "id": "53f4173f-8b0d-4294-ba7c-ec9711b9842e",
   "metadata": {},
   "source": [
    "### First Polynomial Metrics"
   ]
  },
  {
   "cell_type": "code",
   "execution_count": 13,
   "id": "80b1a540-3ff6-4a70-91af-6cbbcc1c36b2",
   "metadata": {
    "jupyter": {
     "source_hidden": true
    },
    "tags": []
   },
   "outputs": [
    {
     "name": "stdout",
     "output_type": "stream",
     "text": [
      "MAE = 22965.080395168556\n",
      "RMSE = 32988.744829916635\n",
      "CVS = 0.6594519180162346\n"
     ]
    }
   ],
   "source": [
    "mae = mean_absolute_error(y_test, y_preds)\n",
    "print(f'MAE = {mae}')\n",
    "mse = mean_squared_error(y_test, y_preds, squared=False) \n",
    "print(f'RMSE = {mse}')\n",
    "cvs = cross_val_score(lcv, X_train, y_train, cv=5).mean()\n",
    "print(f'CVS = {cvs}')"
   ]
  },
  {
   "cell_type": "code",
   "execution_count": 5,
   "id": "d2996cb9-9212-47f8-a57b-e071378469c3",
   "metadata": {},
   "outputs": [],
   "source": [
    "df['age'] = [df['year_built'].max()-year for year in df['year_built']]\n",
    "df['age*overall_qual'] = df['age']*df['overall_qual']\n",
    "df['gr_liv_area/bedroom_abvgr'] = df['gr_liv_area']/df['bedroom_abvgr']\n",
    "df['since_remod/add'] = [2010-year for year in df['year_remod/add']]\n",
    "df.drop(index=1712, inplace=True)\n",
    "df.drop(index=1327, inplace=True)\n",
    "df['gr_liv_area/totrms_abvgrd'] = df['gr_liv_area']/df['totrms_abvgrd']\n",
    "df['gr_liv_area/bedroom_abvgr']\n",
    "k_q_order = {'Po': 0, 'Fa': 1, 'TA': 2, 'Gd': 3, 'Ex': 4}\n",
    "df['kitchen_qual_order'] = [k_q_order[n] for n in df['kitchen_qual']]"
   ]
  },
  {
   "cell_type": "code",
   "execution_count": 6,
   "id": "1a5b8df6-5394-45fd-ba3f-cf65f0e2a3a8",
   "metadata": {},
   "outputs": [],
   "source": [
    "tuning = df[['gr_liv_area', 'bedroom_abvgr', 'age', 'overall_qual', 'gr_liv_area/totrms_abvgrd', 'since_remod/add',\n",
    "       '1st_flr_sf', 'garage_area', 'kitchen_qual_order', 'garage_cars', 'total_bsmt_sf']]"
   ]
  },
  {
   "cell_type": "code",
   "execution_count": 16,
   "id": "c82a1836-1a6b-4652-9508-43d5a4d3c511",
   "metadata": {},
   "outputs": [],
   "source": [
    "# pd.get_dummies(df, columns=['kitchen_qual'])\n",
    "# kitchen_qual = pd.get_dummies(df['kitchen_qual'], drop_first=True)\n",
    "# features_1 = pd.concat([features_1, kitchen_qual], axis=1)"
   ]
  },
  {
   "cell_type": "code",
   "execution_count": 17,
   "id": "5c0fef38-5d05-48a3-a649-3293625eb0e8",
   "metadata": {},
   "outputs": [
    {
     "data": {
      "text/html": [
       "<div>\n",
       "<style scoped>\n",
       "    .dataframe tbody tr th:only-of-type {\n",
       "        vertical-align: middle;\n",
       "    }\n",
       "\n",
       "    .dataframe tbody tr th {\n",
       "        vertical-align: top;\n",
       "    }\n",
       "\n",
       "    .dataframe thead th {\n",
       "        text-align: right;\n",
       "    }\n",
       "</style>\n",
       "<table border=\"1\" class=\"dataframe\">\n",
       "  <thead>\n",
       "    <tr style=\"text-align: right;\">\n",
       "      <th></th>\n",
       "      <th>gr_liv_area</th>\n",
       "      <th>bedroom_abvgr</th>\n",
       "      <th>age</th>\n",
       "      <th>overall_qual</th>\n",
       "      <th>gr_liv_area/totrms_abvgrd</th>\n",
       "      <th>since_remod/add</th>\n",
       "      <th>1st_flr_sf</th>\n",
       "      <th>garage_area</th>\n",
       "      <th>kitchen_qual_order</th>\n",
       "      <th>garage_cars</th>\n",
       "      <th>...</th>\n",
       "      <th>garage_area^2</th>\n",
       "      <th>garage_area kitchen_qual_order</th>\n",
       "      <th>garage_area garage_cars</th>\n",
       "      <th>garage_area total_bsmt_sf</th>\n",
       "      <th>kitchen_qual_order^2</th>\n",
       "      <th>kitchen_qual_order garage_cars</th>\n",
       "      <th>kitchen_qual_order total_bsmt_sf</th>\n",
       "      <th>garage_cars^2</th>\n",
       "      <th>garage_cars total_bsmt_sf</th>\n",
       "      <th>total_bsmt_sf^2</th>\n",
       "    </tr>\n",
       "  </thead>\n",
       "  <tbody>\n",
       "    <tr>\n",
       "      <th>0</th>\n",
       "      <td>841.0</td>\n",
       "      <td>2.0</td>\n",
       "      <td>60.0</td>\n",
       "      <td>4.0</td>\n",
       "      <td>210.250000</td>\n",
       "      <td>60.0</td>\n",
       "      <td>841.0</td>\n",
       "      <td>294.0</td>\n",
       "      <td>2.0</td>\n",
       "      <td>1.0</td>\n",
       "      <td>...</td>\n",
       "      <td>86436.0</td>\n",
       "      <td>588.0</td>\n",
       "      <td>294.0</td>\n",
       "      <td>211974.0</td>\n",
       "      <td>4.0</td>\n",
       "      <td>2.0</td>\n",
       "      <td>1442.0</td>\n",
       "      <td>1.0</td>\n",
       "      <td>721.0</td>\n",
       "      <td>519841.0</td>\n",
       "    </tr>\n",
       "    <tr>\n",
       "      <th>1</th>\n",
       "      <td>1630.0</td>\n",
       "      <td>3.0</td>\n",
       "      <td>6.0</td>\n",
       "      <td>7.0</td>\n",
       "      <td>232.857143</td>\n",
       "      <td>5.0</td>\n",
       "      <td>868.0</td>\n",
       "      <td>436.0</td>\n",
       "      <td>3.0</td>\n",
       "      <td>2.0</td>\n",
       "      <td>...</td>\n",
       "      <td>190096.0</td>\n",
       "      <td>1308.0</td>\n",
       "      <td>872.0</td>\n",
       "      <td>378448.0</td>\n",
       "      <td>9.0</td>\n",
       "      <td>6.0</td>\n",
       "      <td>2604.0</td>\n",
       "      <td>4.0</td>\n",
       "      <td>1736.0</td>\n",
       "      <td>753424.0</td>\n",
       "    </tr>\n",
       "    <tr>\n",
       "      <th>2</th>\n",
       "      <td>1246.0</td>\n",
       "      <td>3.0</td>\n",
       "      <td>46.0</td>\n",
       "      <td>6.0</td>\n",
       "      <td>207.666667</td>\n",
       "      <td>46.0</td>\n",
       "      <td>1246.0</td>\n",
       "      <td>441.0</td>\n",
       "      <td>2.0</td>\n",
       "      <td>2.0</td>\n",
       "      <td>...</td>\n",
       "      <td>194481.0</td>\n",
       "      <td>882.0</td>\n",
       "      <td>882.0</td>\n",
       "      <td>549486.0</td>\n",
       "      <td>4.0</td>\n",
       "      <td>4.0</td>\n",
       "      <td>2492.0</td>\n",
       "      <td>4.0</td>\n",
       "      <td>2492.0</td>\n",
       "      <td>1552516.0</td>\n",
       "    </tr>\n",
       "    <tr>\n",
       "      <th>3</th>\n",
       "      <td>1680.0</td>\n",
       "      <td>3.0</td>\n",
       "      <td>17.0</td>\n",
       "      <td>6.0</td>\n",
       "      <td>240.000000</td>\n",
       "      <td>16.0</td>\n",
       "      <td>886.0</td>\n",
       "      <td>474.0</td>\n",
       "      <td>3.0</td>\n",
       "      <td>2.0</td>\n",
       "      <td>...</td>\n",
       "      <td>224676.0</td>\n",
       "      <td>1422.0</td>\n",
       "      <td>948.0</td>\n",
       "      <td>419964.0</td>\n",
       "      <td>9.0</td>\n",
       "      <td>6.0</td>\n",
       "      <td>2658.0</td>\n",
       "      <td>4.0</td>\n",
       "      <td>1772.0</td>\n",
       "      <td>784996.0</td>\n",
       "    </tr>\n",
       "    <tr>\n",
       "      <th>4</th>\n",
       "      <td>2448.0</td>\n",
       "      <td>4.0</td>\n",
       "      <td>16.0</td>\n",
       "      <td>8.0</td>\n",
       "      <td>306.000000</td>\n",
       "      <td>5.0</td>\n",
       "      <td>1686.0</td>\n",
       "      <td>711.0</td>\n",
       "      <td>3.0</td>\n",
       "      <td>3.0</td>\n",
       "      <td>...</td>\n",
       "      <td>505521.0</td>\n",
       "      <td>2133.0</td>\n",
       "      <td>2133.0</td>\n",
       "      <td>1158219.0</td>\n",
       "      <td>9.0</td>\n",
       "      <td>9.0</td>\n",
       "      <td>4887.0</td>\n",
       "      <td>9.0</td>\n",
       "      <td>4887.0</td>\n",
       "      <td>2653641.0</td>\n",
       "    </tr>\n",
       "    <tr>\n",
       "      <th>...</th>\n",
       "      <td>...</td>\n",
       "      <td>...</td>\n",
       "      <td>...</td>\n",
       "      <td>...</td>\n",
       "      <td>...</td>\n",
       "      <td>...</td>\n",
       "      <td>...</td>\n",
       "      <td>...</td>\n",
       "      <td>...</td>\n",
       "      <td>...</td>\n",
       "      <td>...</td>\n",
       "      <td>...</td>\n",
       "      <td>...</td>\n",
       "      <td>...</td>\n",
       "      <td>...</td>\n",
       "      <td>...</td>\n",
       "      <td>...</td>\n",
       "      <td>...</td>\n",
       "      <td>...</td>\n",
       "      <td>...</td>\n",
       "      <td>...</td>\n",
       "    </tr>\n",
       "    <tr>\n",
       "      <th>506</th>\n",
       "      <td>1488.0</td>\n",
       "      <td>3.0</td>\n",
       "      <td>46.0</td>\n",
       "      <td>6.0</td>\n",
       "      <td>212.571429</td>\n",
       "      <td>46.0</td>\n",
       "      <td>1488.0</td>\n",
       "      <td>430.0</td>\n",
       "      <td>2.0</td>\n",
       "      <td>2.0</td>\n",
       "      <td>...</td>\n",
       "      <td>184900.0</td>\n",
       "      <td>860.0</td>\n",
       "      <td>860.0</td>\n",
       "      <td>433440.0</td>\n",
       "      <td>4.0</td>\n",
       "      <td>4.0</td>\n",
       "      <td>2016.0</td>\n",
       "      <td>4.0</td>\n",
       "      <td>2016.0</td>\n",
       "      <td>1016064.0</td>\n",
       "    </tr>\n",
       "    <tr>\n",
       "      <th>507</th>\n",
       "      <td>1072.0</td>\n",
       "      <td>2.0</td>\n",
       "      <td>5.0</td>\n",
       "      <td>6.0</td>\n",
       "      <td>214.400000</td>\n",
       "      <td>5.0</td>\n",
       "      <td>1072.0</td>\n",
       "      <td>525.0</td>\n",
       "      <td>3.0</td>\n",
       "      <td>2.0</td>\n",
       "      <td>...</td>\n",
       "      <td>275625.0</td>\n",
       "      <td>1575.0</td>\n",
       "      <td>1050.0</td>\n",
       "      <td>287175.0</td>\n",
       "      <td>9.0</td>\n",
       "      <td>6.0</td>\n",
       "      <td>1641.0</td>\n",
       "      <td>4.0</td>\n",
       "      <td>1094.0</td>\n",
       "      <td>299209.0</td>\n",
       "    </tr>\n",
       "    <tr>\n",
       "      <th>508</th>\n",
       "      <td>1224.0</td>\n",
       "      <td>3.0</td>\n",
       "      <td>62.0</td>\n",
       "      <td>6.0</td>\n",
       "      <td>244.800000</td>\n",
       "      <td>6.0</td>\n",
       "      <td>816.0</td>\n",
       "      <td>280.0</td>\n",
       "      <td>2.0</td>\n",
       "      <td>1.0</td>\n",
       "      <td>...</td>\n",
       "      <td>78400.0</td>\n",
       "      <td>560.0</td>\n",
       "      <td>280.0</td>\n",
       "      <td>228480.0</td>\n",
       "      <td>4.0</td>\n",
       "      <td>2.0</td>\n",
       "      <td>1632.0</td>\n",
       "      <td>1.0</td>\n",
       "      <td>816.0</td>\n",
       "      <td>665856.0</td>\n",
       "    </tr>\n",
       "    <tr>\n",
       "      <th>509</th>\n",
       "      <td>672.0</td>\n",
       "      <td>2.0</td>\n",
       "      <td>85.0</td>\n",
       "      <td>4.0</td>\n",
       "      <td>168.000000</td>\n",
       "      <td>60.0</td>\n",
       "      <td>672.0</td>\n",
       "      <td>0.0</td>\n",
       "      <td>2.0</td>\n",
       "      <td>0.0</td>\n",
       "      <td>...</td>\n",
       "      <td>0.0</td>\n",
       "      <td>0.0</td>\n",
       "      <td>0.0</td>\n",
       "      <td>0.0</td>\n",
       "      <td>4.0</td>\n",
       "      <td>0.0</td>\n",
       "      <td>864.0</td>\n",
       "      <td>0.0</td>\n",
       "      <td>0.0</td>\n",
       "      <td>186624.0</td>\n",
       "    </tr>\n",
       "    <tr>\n",
       "      <th>510</th>\n",
       "      <td>1495.0</td>\n",
       "      <td>3.0</td>\n",
       "      <td>4.0</td>\n",
       "      <td>6.0</td>\n",
       "      <td>213.571429</td>\n",
       "      <td>4.0</td>\n",
       "      <td>738.0</td>\n",
       "      <td>440.0</td>\n",
       "      <td>3.0</td>\n",
       "      <td>2.0</td>\n",
       "      <td>...</td>\n",
       "      <td>193600.0</td>\n",
       "      <td>1320.0</td>\n",
       "      <td>880.0</td>\n",
       "      <td>324720.0</td>\n",
       "      <td>9.0</td>\n",
       "      <td>6.0</td>\n",
       "      <td>2214.0</td>\n",
       "      <td>4.0</td>\n",
       "      <td>1476.0</td>\n",
       "      <td>544644.0</td>\n",
       "    </tr>\n",
       "  </tbody>\n",
       "</table>\n",
       "<p>511 rows × 77 columns</p>\n",
       "</div>"
      ],
      "text/plain": [
       "     gr_liv_area  bedroom_abvgr   age  overall_qual  \\\n",
       "0          841.0            2.0  60.0           4.0   \n",
       "1         1630.0            3.0   6.0           7.0   \n",
       "2         1246.0            3.0  46.0           6.0   \n",
       "3         1680.0            3.0  17.0           6.0   \n",
       "4         2448.0            4.0  16.0           8.0   \n",
       "..           ...            ...   ...           ...   \n",
       "506       1488.0            3.0  46.0           6.0   \n",
       "507       1072.0            2.0   5.0           6.0   \n",
       "508       1224.0            3.0  62.0           6.0   \n",
       "509        672.0            2.0  85.0           4.0   \n",
       "510       1495.0            3.0   4.0           6.0   \n",
       "\n",
       "     gr_liv_area/totrms_abvgrd  since_remod/add  1st_flr_sf  garage_area  \\\n",
       "0                   210.250000             60.0       841.0        294.0   \n",
       "1                   232.857143              5.0       868.0        436.0   \n",
       "2                   207.666667             46.0      1246.0        441.0   \n",
       "3                   240.000000             16.0       886.0        474.0   \n",
       "4                   306.000000              5.0      1686.0        711.0   \n",
       "..                         ...              ...         ...          ...   \n",
       "506                 212.571429             46.0      1488.0        430.0   \n",
       "507                 214.400000              5.0      1072.0        525.0   \n",
       "508                 244.800000              6.0       816.0        280.0   \n",
       "509                 168.000000             60.0       672.0          0.0   \n",
       "510                 213.571429              4.0       738.0        440.0   \n",
       "\n",
       "     kitchen_qual_order  garage_cars  ...  garage_area^2  \\\n",
       "0                   2.0          1.0  ...        86436.0   \n",
       "1                   3.0          2.0  ...       190096.0   \n",
       "2                   2.0          2.0  ...       194481.0   \n",
       "3                   3.0          2.0  ...       224676.0   \n",
       "4                   3.0          3.0  ...       505521.0   \n",
       "..                  ...          ...  ...            ...   \n",
       "506                 2.0          2.0  ...       184900.0   \n",
       "507                 3.0          2.0  ...       275625.0   \n",
       "508                 2.0          1.0  ...        78400.0   \n",
       "509                 2.0          0.0  ...            0.0   \n",
       "510                 3.0          2.0  ...       193600.0   \n",
       "\n",
       "     garage_area kitchen_qual_order  garage_area garage_cars  \\\n",
       "0                             588.0                    294.0   \n",
       "1                            1308.0                    872.0   \n",
       "2                             882.0                    882.0   \n",
       "3                            1422.0                    948.0   \n",
       "4                            2133.0                   2133.0   \n",
       "..                              ...                      ...   \n",
       "506                           860.0                    860.0   \n",
       "507                          1575.0                   1050.0   \n",
       "508                           560.0                    280.0   \n",
       "509                             0.0                      0.0   \n",
       "510                          1320.0                    880.0   \n",
       "\n",
       "     garage_area total_bsmt_sf  kitchen_qual_order^2  \\\n",
       "0                     211974.0                   4.0   \n",
       "1                     378448.0                   9.0   \n",
       "2                     549486.0                   4.0   \n",
       "3                     419964.0                   9.0   \n",
       "4                    1158219.0                   9.0   \n",
       "..                         ...                   ...   \n",
       "506                   433440.0                   4.0   \n",
       "507                   287175.0                   9.0   \n",
       "508                   228480.0                   4.0   \n",
       "509                        0.0                   4.0   \n",
       "510                   324720.0                   9.0   \n",
       "\n",
       "     kitchen_qual_order garage_cars  kitchen_qual_order total_bsmt_sf  \\\n",
       "0                               2.0                            1442.0   \n",
       "1                               6.0                            2604.0   \n",
       "2                               4.0                            2492.0   \n",
       "3                               6.0                            2658.0   \n",
       "4                               9.0                            4887.0   \n",
       "..                              ...                               ...   \n",
       "506                             4.0                            2016.0   \n",
       "507                             6.0                            1641.0   \n",
       "508                             2.0                            1632.0   \n",
       "509                             0.0                             864.0   \n",
       "510                             6.0                            2214.0   \n",
       "\n",
       "     garage_cars^2  garage_cars total_bsmt_sf  total_bsmt_sf^2  \n",
       "0              1.0                      721.0         519841.0  \n",
       "1              4.0                     1736.0         753424.0  \n",
       "2              4.0                     2492.0        1552516.0  \n",
       "3              4.0                     1772.0         784996.0  \n",
       "4              9.0                     4887.0        2653641.0  \n",
       "..             ...                        ...              ...  \n",
       "506            4.0                     2016.0        1016064.0  \n",
       "507            4.0                     1094.0         299209.0  \n",
       "508            1.0                      816.0         665856.0  \n",
       "509            0.0                        0.0         186624.0  \n",
       "510            4.0                     1476.0         544644.0  \n",
       "\n",
       "[511 rows x 77 columns]"
      ]
     },
     "execution_count": 17,
     "metadata": {},
     "output_type": "execute_result"
    }
   ],
   "source": [
    "X = tuning\n",
    "y = df['saleprice']\n",
    "X_train, X_test, y_train, y_test = train_test_split(X, y, random_state=42)\n",
    "pf = PolynomialFeatures(include_bias=False)\n",
    "pf.fit(X_train)\n",
    "X_train_pf = pf.transform(X_train)\n",
    "X_test_pf = pf.transform(X_test)\n",
    "pd.DataFrame(X_test_pf, columns=pf.get_feature_names(X.columns))"
   ]
  },
  {
   "cell_type": "code",
   "execution_count": 18,
   "id": "39b8968d-1dbd-4655-9391-404778749115",
   "metadata": {},
   "outputs": [],
   "source": [
    "ss = StandardScaler()                  \n",
    "ss.fit(X_train_pf)\n",
    "Z_train = ss.transform(X_train_pf)\n",
    "Z_test = ss.transform(X_test_pf)"
   ]
  },
  {
   "cell_type": "code",
   "execution_count": 19,
   "id": "92b57131-e4c5-4ba5-92bb-0fcd6c4e198e",
   "metadata": {},
   "outputs": [
    {
     "data": {
      "text/plain": [
       "(0.8972895222801519, 0.8906525970100949)"
      ]
     },
     "execution_count": 19,
     "metadata": {},
     "output_type": "execute_result"
    }
   ],
   "source": [
    "lr = LinearRegression()\n",
    "lr.fit(Z_train, y_train)\n",
    "lr.score(Z_train, y_train), lr.score(Z_test, y_test)"
   ]
  },
  {
   "cell_type": "code",
   "execution_count": 17,
   "id": "46a8590c-594e-4996-93ea-5bb4564b82df",
   "metadata": {},
   "outputs": [
    {
     "data": {
      "text/html": [
       "<div>\n",
       "<style scoped>\n",
       "    .dataframe tbody tr th:only-of-type {\n",
       "        vertical-align: middle;\n",
       "    }\n",
       "\n",
       "    .dataframe tbody tr th {\n",
       "        vertical-align: top;\n",
       "    }\n",
       "\n",
       "    .dataframe thead th {\n",
       "        text-align: right;\n",
       "    }\n",
       "</style>\n",
       "<table border=\"1\" class=\"dataframe\">\n",
       "  <thead>\n",
       "    <tr style=\"text-align: right;\">\n",
       "      <th></th>\n",
       "      <th>gr_liv_area</th>\n",
       "      <th>bedroom_abvgr</th>\n",
       "      <th>age</th>\n",
       "      <th>overall_qual</th>\n",
       "      <th>gr_liv_area/totrms_abvgrd</th>\n",
       "      <th>since_remod/add</th>\n",
       "      <th>1st_flr_sf</th>\n",
       "      <th>garage_area</th>\n",
       "      <th>kitchen_qual_order</th>\n",
       "      <th>garage_cars</th>\n",
       "      <th>...</th>\n",
       "      <th>garage_area^2</th>\n",
       "      <th>garage_area kitchen_qual_order</th>\n",
       "      <th>garage_area garage_cars</th>\n",
       "      <th>garage_area total_bsmt_sf</th>\n",
       "      <th>kitchen_qual_order^2</th>\n",
       "      <th>kitchen_qual_order garage_cars</th>\n",
       "      <th>kitchen_qual_order total_bsmt_sf</th>\n",
       "      <th>garage_cars^2</th>\n",
       "      <th>garage_cars total_bsmt_sf</th>\n",
       "      <th>total_bsmt_sf^2</th>\n",
       "    </tr>\n",
       "  </thead>\n",
       "  <tbody>\n",
       "    <tr>\n",
       "      <th>0</th>\n",
       "      <td>841.0</td>\n",
       "      <td>2.0</td>\n",
       "      <td>60.0</td>\n",
       "      <td>4.0</td>\n",
       "      <td>210.250000</td>\n",
       "      <td>60.0</td>\n",
       "      <td>841.0</td>\n",
       "      <td>294.0</td>\n",
       "      <td>2.0</td>\n",
       "      <td>1.0</td>\n",
       "      <td>...</td>\n",
       "      <td>86436.0</td>\n",
       "      <td>588.0</td>\n",
       "      <td>294.0</td>\n",
       "      <td>211974.0</td>\n",
       "      <td>4.0</td>\n",
       "      <td>2.0</td>\n",
       "      <td>1442.0</td>\n",
       "      <td>1.0</td>\n",
       "      <td>721.0</td>\n",
       "      <td>519841.0</td>\n",
       "    </tr>\n",
       "    <tr>\n",
       "      <th>1</th>\n",
       "      <td>1630.0</td>\n",
       "      <td>3.0</td>\n",
       "      <td>6.0</td>\n",
       "      <td>7.0</td>\n",
       "      <td>232.857143</td>\n",
       "      <td>5.0</td>\n",
       "      <td>868.0</td>\n",
       "      <td>436.0</td>\n",
       "      <td>3.0</td>\n",
       "      <td>2.0</td>\n",
       "      <td>...</td>\n",
       "      <td>190096.0</td>\n",
       "      <td>1308.0</td>\n",
       "      <td>872.0</td>\n",
       "      <td>378448.0</td>\n",
       "      <td>9.0</td>\n",
       "      <td>6.0</td>\n",
       "      <td>2604.0</td>\n",
       "      <td>4.0</td>\n",
       "      <td>1736.0</td>\n",
       "      <td>753424.0</td>\n",
       "    </tr>\n",
       "    <tr>\n",
       "      <th>2</th>\n",
       "      <td>1246.0</td>\n",
       "      <td>3.0</td>\n",
       "      <td>46.0</td>\n",
       "      <td>6.0</td>\n",
       "      <td>207.666667</td>\n",
       "      <td>46.0</td>\n",
       "      <td>1246.0</td>\n",
       "      <td>441.0</td>\n",
       "      <td>2.0</td>\n",
       "      <td>2.0</td>\n",
       "      <td>...</td>\n",
       "      <td>194481.0</td>\n",
       "      <td>882.0</td>\n",
       "      <td>882.0</td>\n",
       "      <td>549486.0</td>\n",
       "      <td>4.0</td>\n",
       "      <td>4.0</td>\n",
       "      <td>2492.0</td>\n",
       "      <td>4.0</td>\n",
       "      <td>2492.0</td>\n",
       "      <td>1552516.0</td>\n",
       "    </tr>\n",
       "    <tr>\n",
       "      <th>3</th>\n",
       "      <td>1680.0</td>\n",
       "      <td>3.0</td>\n",
       "      <td>17.0</td>\n",
       "      <td>6.0</td>\n",
       "      <td>240.000000</td>\n",
       "      <td>16.0</td>\n",
       "      <td>886.0</td>\n",
       "      <td>474.0</td>\n",
       "      <td>3.0</td>\n",
       "      <td>2.0</td>\n",
       "      <td>...</td>\n",
       "      <td>224676.0</td>\n",
       "      <td>1422.0</td>\n",
       "      <td>948.0</td>\n",
       "      <td>419964.0</td>\n",
       "      <td>9.0</td>\n",
       "      <td>6.0</td>\n",
       "      <td>2658.0</td>\n",
       "      <td>4.0</td>\n",
       "      <td>1772.0</td>\n",
       "      <td>784996.0</td>\n",
       "    </tr>\n",
       "    <tr>\n",
       "      <th>4</th>\n",
       "      <td>2448.0</td>\n",
       "      <td>4.0</td>\n",
       "      <td>16.0</td>\n",
       "      <td>8.0</td>\n",
       "      <td>306.000000</td>\n",
       "      <td>5.0</td>\n",
       "      <td>1686.0</td>\n",
       "      <td>711.0</td>\n",
       "      <td>3.0</td>\n",
       "      <td>3.0</td>\n",
       "      <td>...</td>\n",
       "      <td>505521.0</td>\n",
       "      <td>2133.0</td>\n",
       "      <td>2133.0</td>\n",
       "      <td>1158219.0</td>\n",
       "      <td>9.0</td>\n",
       "      <td>9.0</td>\n",
       "      <td>4887.0</td>\n",
       "      <td>9.0</td>\n",
       "      <td>4887.0</td>\n",
       "      <td>2653641.0</td>\n",
       "    </tr>\n",
       "    <tr>\n",
       "      <th>...</th>\n",
       "      <td>...</td>\n",
       "      <td>...</td>\n",
       "      <td>...</td>\n",
       "      <td>...</td>\n",
       "      <td>...</td>\n",
       "      <td>...</td>\n",
       "      <td>...</td>\n",
       "      <td>...</td>\n",
       "      <td>...</td>\n",
       "      <td>...</td>\n",
       "      <td>...</td>\n",
       "      <td>...</td>\n",
       "      <td>...</td>\n",
       "      <td>...</td>\n",
       "      <td>...</td>\n",
       "      <td>...</td>\n",
       "      <td>...</td>\n",
       "      <td>...</td>\n",
       "      <td>...</td>\n",
       "      <td>...</td>\n",
       "      <td>...</td>\n",
       "    </tr>\n",
       "    <tr>\n",
       "      <th>506</th>\n",
       "      <td>1488.0</td>\n",
       "      <td>3.0</td>\n",
       "      <td>46.0</td>\n",
       "      <td>6.0</td>\n",
       "      <td>212.571429</td>\n",
       "      <td>46.0</td>\n",
       "      <td>1488.0</td>\n",
       "      <td>430.0</td>\n",
       "      <td>2.0</td>\n",
       "      <td>2.0</td>\n",
       "      <td>...</td>\n",
       "      <td>184900.0</td>\n",
       "      <td>860.0</td>\n",
       "      <td>860.0</td>\n",
       "      <td>433440.0</td>\n",
       "      <td>4.0</td>\n",
       "      <td>4.0</td>\n",
       "      <td>2016.0</td>\n",
       "      <td>4.0</td>\n",
       "      <td>2016.0</td>\n",
       "      <td>1016064.0</td>\n",
       "    </tr>\n",
       "    <tr>\n",
       "      <th>507</th>\n",
       "      <td>1072.0</td>\n",
       "      <td>2.0</td>\n",
       "      <td>5.0</td>\n",
       "      <td>6.0</td>\n",
       "      <td>214.400000</td>\n",
       "      <td>5.0</td>\n",
       "      <td>1072.0</td>\n",
       "      <td>525.0</td>\n",
       "      <td>3.0</td>\n",
       "      <td>2.0</td>\n",
       "      <td>...</td>\n",
       "      <td>275625.0</td>\n",
       "      <td>1575.0</td>\n",
       "      <td>1050.0</td>\n",
       "      <td>287175.0</td>\n",
       "      <td>9.0</td>\n",
       "      <td>6.0</td>\n",
       "      <td>1641.0</td>\n",
       "      <td>4.0</td>\n",
       "      <td>1094.0</td>\n",
       "      <td>299209.0</td>\n",
       "    </tr>\n",
       "    <tr>\n",
       "      <th>508</th>\n",
       "      <td>1224.0</td>\n",
       "      <td>3.0</td>\n",
       "      <td>62.0</td>\n",
       "      <td>6.0</td>\n",
       "      <td>244.800000</td>\n",
       "      <td>6.0</td>\n",
       "      <td>816.0</td>\n",
       "      <td>280.0</td>\n",
       "      <td>2.0</td>\n",
       "      <td>1.0</td>\n",
       "      <td>...</td>\n",
       "      <td>78400.0</td>\n",
       "      <td>560.0</td>\n",
       "      <td>280.0</td>\n",
       "      <td>228480.0</td>\n",
       "      <td>4.0</td>\n",
       "      <td>2.0</td>\n",
       "      <td>1632.0</td>\n",
       "      <td>1.0</td>\n",
       "      <td>816.0</td>\n",
       "      <td>665856.0</td>\n",
       "    </tr>\n",
       "    <tr>\n",
       "      <th>509</th>\n",
       "      <td>672.0</td>\n",
       "      <td>2.0</td>\n",
       "      <td>85.0</td>\n",
       "      <td>4.0</td>\n",
       "      <td>168.000000</td>\n",
       "      <td>60.0</td>\n",
       "      <td>672.0</td>\n",
       "      <td>0.0</td>\n",
       "      <td>2.0</td>\n",
       "      <td>0.0</td>\n",
       "      <td>...</td>\n",
       "      <td>0.0</td>\n",
       "      <td>0.0</td>\n",
       "      <td>0.0</td>\n",
       "      <td>0.0</td>\n",
       "      <td>4.0</td>\n",
       "      <td>0.0</td>\n",
       "      <td>864.0</td>\n",
       "      <td>0.0</td>\n",
       "      <td>0.0</td>\n",
       "      <td>186624.0</td>\n",
       "    </tr>\n",
       "    <tr>\n",
       "      <th>510</th>\n",
       "      <td>1495.0</td>\n",
       "      <td>3.0</td>\n",
       "      <td>4.0</td>\n",
       "      <td>6.0</td>\n",
       "      <td>213.571429</td>\n",
       "      <td>4.0</td>\n",
       "      <td>738.0</td>\n",
       "      <td>440.0</td>\n",
       "      <td>3.0</td>\n",
       "      <td>2.0</td>\n",
       "      <td>...</td>\n",
       "      <td>193600.0</td>\n",
       "      <td>1320.0</td>\n",
       "      <td>880.0</td>\n",
       "      <td>324720.0</td>\n",
       "      <td>9.0</td>\n",
       "      <td>6.0</td>\n",
       "      <td>2214.0</td>\n",
       "      <td>4.0</td>\n",
       "      <td>1476.0</td>\n",
       "      <td>544644.0</td>\n",
       "    </tr>\n",
       "  </tbody>\n",
       "</table>\n",
       "<p>511 rows × 77 columns</p>\n",
       "</div>"
      ],
      "text/plain": [
       "     gr_liv_area  bedroom_abvgr   age  overall_qual  \\\n",
       "0          841.0            2.0  60.0           4.0   \n",
       "1         1630.0            3.0   6.0           7.0   \n",
       "2         1246.0            3.0  46.0           6.0   \n",
       "3         1680.0            3.0  17.0           6.0   \n",
       "4         2448.0            4.0  16.0           8.0   \n",
       "..           ...            ...   ...           ...   \n",
       "506       1488.0            3.0  46.0           6.0   \n",
       "507       1072.0            2.0   5.0           6.0   \n",
       "508       1224.0            3.0  62.0           6.0   \n",
       "509        672.0            2.0  85.0           4.0   \n",
       "510       1495.0            3.0   4.0           6.0   \n",
       "\n",
       "     gr_liv_area/totrms_abvgrd  since_remod/add  1st_flr_sf  garage_area  \\\n",
       "0                   210.250000             60.0       841.0        294.0   \n",
       "1                   232.857143              5.0       868.0        436.0   \n",
       "2                   207.666667             46.0      1246.0        441.0   \n",
       "3                   240.000000             16.0       886.0        474.0   \n",
       "4                   306.000000              5.0      1686.0        711.0   \n",
       "..                         ...              ...         ...          ...   \n",
       "506                 212.571429             46.0      1488.0        430.0   \n",
       "507                 214.400000              5.0      1072.0        525.0   \n",
       "508                 244.800000              6.0       816.0        280.0   \n",
       "509                 168.000000             60.0       672.0          0.0   \n",
       "510                 213.571429              4.0       738.0        440.0   \n",
       "\n",
       "     kitchen_qual_order  garage_cars  ...  garage_area^2  \\\n",
       "0                   2.0          1.0  ...        86436.0   \n",
       "1                   3.0          2.0  ...       190096.0   \n",
       "2                   2.0          2.0  ...       194481.0   \n",
       "3                   3.0          2.0  ...       224676.0   \n",
       "4                   3.0          3.0  ...       505521.0   \n",
       "..                  ...          ...  ...            ...   \n",
       "506                 2.0          2.0  ...       184900.0   \n",
       "507                 3.0          2.0  ...       275625.0   \n",
       "508                 2.0          1.0  ...        78400.0   \n",
       "509                 2.0          0.0  ...            0.0   \n",
       "510                 3.0          2.0  ...       193600.0   \n",
       "\n",
       "     garage_area kitchen_qual_order  garage_area garage_cars  \\\n",
       "0                             588.0                    294.0   \n",
       "1                            1308.0                    872.0   \n",
       "2                             882.0                    882.0   \n",
       "3                            1422.0                    948.0   \n",
       "4                            2133.0                   2133.0   \n",
       "..                              ...                      ...   \n",
       "506                           860.0                    860.0   \n",
       "507                          1575.0                   1050.0   \n",
       "508                           560.0                    280.0   \n",
       "509                             0.0                      0.0   \n",
       "510                          1320.0                    880.0   \n",
       "\n",
       "     garage_area total_bsmt_sf  kitchen_qual_order^2  \\\n",
       "0                     211974.0                   4.0   \n",
       "1                     378448.0                   9.0   \n",
       "2                     549486.0                   4.0   \n",
       "3                     419964.0                   9.0   \n",
       "4                    1158219.0                   9.0   \n",
       "..                         ...                   ...   \n",
       "506                   433440.0                   4.0   \n",
       "507                   287175.0                   9.0   \n",
       "508                   228480.0                   4.0   \n",
       "509                        0.0                   4.0   \n",
       "510                   324720.0                   9.0   \n",
       "\n",
       "     kitchen_qual_order garage_cars  kitchen_qual_order total_bsmt_sf  \\\n",
       "0                               2.0                            1442.0   \n",
       "1                               6.0                            2604.0   \n",
       "2                               4.0                            2492.0   \n",
       "3                               6.0                            2658.0   \n",
       "4                               9.0                            4887.0   \n",
       "..                              ...                               ...   \n",
       "506                             4.0                            2016.0   \n",
       "507                             6.0                            1641.0   \n",
       "508                             2.0                            1632.0   \n",
       "509                             0.0                             864.0   \n",
       "510                             6.0                            2214.0   \n",
       "\n",
       "     garage_cars^2  garage_cars total_bsmt_sf  total_bsmt_sf^2  \n",
       "0              1.0                      721.0         519841.0  \n",
       "1              4.0                     1736.0         753424.0  \n",
       "2              4.0                     2492.0        1552516.0  \n",
       "3              4.0                     1772.0         784996.0  \n",
       "4              9.0                     4887.0        2653641.0  \n",
       "..             ...                        ...              ...  \n",
       "506            4.0                     2016.0        1016064.0  \n",
       "507            4.0                     1094.0         299209.0  \n",
       "508            1.0                      816.0         665856.0  \n",
       "509            0.0                        0.0         186624.0  \n",
       "510            4.0                     1476.0         544644.0  \n",
       "\n",
       "[511 rows x 77 columns]"
      ]
     },
     "execution_count": 17,
     "metadata": {},
     "output_type": "execute_result"
    }
   ],
   "source": [
    "X = tuning\n",
    "y = df['saleprice']\n",
    "X_train, X_test, y_train, y_test = train_test_split(X, y, random_state=42)\n",
    "pf = PolynomialFeatures(include_bias=False)\n",
    "pf.fit(X_train)\n",
    "X_train_pf = pf.transform(X_train)\n",
    "X_test_pf = pf.transform(X_test)\n",
    "pd.DataFrame(X_test_pf, columns=pf.get_feature_names(X.columns))"
   ]
  },
  {
   "cell_type": "code",
   "execution_count": 18,
   "id": "e5a0c5ab-d3bc-4ebe-9c0f-745231c21ce7",
   "metadata": {},
   "outputs": [],
   "source": [
    "ss = StandardScaler()                  \n",
    "ss.fit(X_train_pf)\n",
    "Z_train = ss.transform(X_train_pf)\n",
    "Z_test = ss.transform(X_test_pf)"
   ]
  },
  {
   "cell_type": "code",
   "execution_count": 19,
   "id": "961e645a-d333-4141-944b-e730e08a2409",
   "metadata": {},
   "outputs": [
    {
     "data": {
      "text/plain": [
       "(0.8972895222801519, 0.8906525970100949)"
      ]
     },
     "execution_count": 19,
     "metadata": {},
     "output_type": "execute_result"
    }
   ],
   "source": [
    "lr = LinearRegression()\n",
    "lr.fit(Z_train, y_train)\n",
    "lr.score(Z_train, y_train), lr.score(Z_test, y_test)"
   ]
  },
  {
   "cell_type": "code",
   "execution_count": 20,
   "id": "f0aff6ad-e266-433d-9132-795b2edd23ab",
   "metadata": {},
   "outputs": [
    {
     "name": "stderr",
     "output_type": "stream",
     "text": [
      "C:\\Users\\mmoli\\anaconda3\\lib\\site-packages\\sklearn\\linear_model\\_coordinate_descent.py:526: ConvergenceWarning: Objective did not converge. You might want to increase the number of iterations. Duality gap: 1111026179.9621582, tolerance: 765580492.3744174\n",
      "  model = cd_fast.enet_coordinate_descent_gram(\n",
      "C:\\Users\\mmoli\\anaconda3\\lib\\site-packages\\sklearn\\linear_model\\_coordinate_descent.py:526: ConvergenceWarning: Objective did not converge. You might want to increase the number of iterations. Duality gap: 794352895.3261719, tolerance: 765580492.3744174\n",
      "  model = cd_fast.enet_coordinate_descent_gram(\n",
      "C:\\Users\\mmoli\\anaconda3\\lib\\site-packages\\sklearn\\linear_model\\_coordinate_descent.py:526: ConvergenceWarning: Objective did not converge. You might want to increase the number of iterations. Duality gap: 917188855.4278564, tolerance: 765580492.3744174\n",
      "  model = cd_fast.enet_coordinate_descent_gram(\n",
      "C:\\Users\\mmoli\\anaconda3\\lib\\site-packages\\sklearn\\linear_model\\_coordinate_descent.py:526: ConvergenceWarning: Objective did not converge. You might want to increase the number of iterations. Duality gap: 1142011854.6152344, tolerance: 765580492.3744174\n",
      "  model = cd_fast.enet_coordinate_descent_gram(\n",
      "C:\\Users\\mmoli\\anaconda3\\lib\\site-packages\\sklearn\\linear_model\\_coordinate_descent.py:526: ConvergenceWarning: Objective did not converge. You might want to increase the number of iterations. Duality gap: 1122002073.1705322, tolerance: 765580492.3744174\n",
      "  model = cd_fast.enet_coordinate_descent_gram(\n",
      "C:\\Users\\mmoli\\anaconda3\\lib\\site-packages\\sklearn\\linear_model\\_coordinate_descent.py:526: ConvergenceWarning: Objective did not converge. You might want to increase the number of iterations. Duality gap: 1115558865.295288, tolerance: 765580492.3744174\n",
      "  model = cd_fast.enet_coordinate_descent_gram(\n",
      "C:\\Users\\mmoli\\anaconda3\\lib\\site-packages\\sklearn\\linear_model\\_coordinate_descent.py:526: ConvergenceWarning: Objective did not converge. You might want to increase the number of iterations. Duality gap: 1239109968.723755, tolerance: 765580492.3744174\n",
      "  model = cd_fast.enet_coordinate_descent_gram(\n",
      "C:\\Users\\mmoli\\anaconda3\\lib\\site-packages\\sklearn\\linear_model\\_coordinate_descent.py:526: ConvergenceWarning: Objective did not converge. You might want to increase the number of iterations. Duality gap: 1306488715.3847656, tolerance: 765580492.3744174\n",
      "  model = cd_fast.enet_coordinate_descent_gram(\n",
      "C:\\Users\\mmoli\\anaconda3\\lib\\site-packages\\sklearn\\linear_model\\_coordinate_descent.py:526: ConvergenceWarning: Objective did not converge. You might want to increase the number of iterations. Duality gap: 1308579492.3271484, tolerance: 765580492.3744174\n",
      "  model = cd_fast.enet_coordinate_descent_gram(\n",
      "C:\\Users\\mmoli\\anaconda3\\lib\\site-packages\\sklearn\\linear_model\\_coordinate_descent.py:526: ConvergenceWarning: Objective did not converge. You might want to increase the number of iterations. Duality gap: 1339571032.4923096, tolerance: 765580492.3744174\n",
      "  model = cd_fast.enet_coordinate_descent_gram(\n",
      "C:\\Users\\mmoli\\anaconda3\\lib\\site-packages\\sklearn\\linear_model\\_coordinate_descent.py:526: ConvergenceWarning: Objective did not converge. You might want to increase the number of iterations. Duality gap: 1135761003.3078613, tolerance: 773357558.4401879\n",
      "  model = cd_fast.enet_coordinate_descent_gram(\n",
      "C:\\Users\\mmoli\\anaconda3\\lib\\site-packages\\sklearn\\linear_model\\_coordinate_descent.py:526: ConvergenceWarning: Objective did not converge. You might want to increase the number of iterations. Duality gap: 1017916930.5241699, tolerance: 773357558.4401879\n",
      "  model = cd_fast.enet_coordinate_descent_gram(\n",
      "C:\\Users\\mmoli\\anaconda3\\lib\\site-packages\\sklearn\\linear_model\\_coordinate_descent.py:526: ConvergenceWarning: Objective did not converge. You might want to increase the number of iterations. Duality gap: 761441252.9151611, tolerance: 757584638.1419567\n",
      "  model = cd_fast.enet_coordinate_descent_gram(\n",
      "C:\\Users\\mmoli\\anaconda3\\lib\\site-packages\\sklearn\\linear_model\\_coordinate_descent.py:526: ConvergenceWarning: Objective did not converge. You might want to increase the number of iterations. Duality gap: 749817560.9249268, tolerance: 705425100.1128777\n",
      "  model = cd_fast.enet_coordinate_descent_gram(\n",
      "C:\\Users\\mmoli\\anaconda3\\lib\\site-packages\\sklearn\\linear_model\\_coordinate_descent.py:526: ConvergenceWarning: Objective did not converge. You might want to increase the number of iterations. Duality gap: 1094118262.1955566, tolerance: 705425100.1128777\n",
      "  model = cd_fast.enet_coordinate_descent_gram(\n",
      "C:\\Users\\mmoli\\anaconda3\\lib\\site-packages\\sklearn\\linear_model\\_coordinate_descent.py:526: ConvergenceWarning: Objective did not converge. You might want to increase the number of iterations. Duality gap: 822665310.9807129, tolerance: 705425100.1128777\n",
      "  model = cd_fast.enet_coordinate_descent_gram(\n",
      "C:\\Users\\mmoli\\anaconda3\\lib\\site-packages\\sklearn\\linear_model\\_coordinate_descent.py:526: ConvergenceWarning: Objective did not converge. You might want to increase the number of iterations. Duality gap: 1406010683.057129, tolerance: 705425100.1128777\n",
      "  model = cd_fast.enet_coordinate_descent_gram(\n",
      "C:\\Users\\mmoli\\anaconda3\\lib\\site-packages\\sklearn\\linear_model\\_coordinate_descent.py:526: ConvergenceWarning: Objective did not converge. You might want to increase the number of iterations. Duality gap: 2116042561.753418, tolerance: 705425100.1128777\n",
      "  model = cd_fast.enet_coordinate_descent_gram(\n",
      "C:\\Users\\mmoli\\anaconda3\\lib\\site-packages\\sklearn\\linear_model\\_coordinate_descent.py:526: ConvergenceWarning: Objective did not converge. You might want to increase the number of iterations. Duality gap: 2869436492.928955, tolerance: 705425100.1128777\n",
      "  model = cd_fast.enet_coordinate_descent_gram(\n",
      "C:\\Users\\mmoli\\anaconda3\\lib\\site-packages\\sklearn\\linear_model\\_coordinate_descent.py:526: ConvergenceWarning: Objective did not converge. You might want to increase the number of iterations. Duality gap: 1234035597.2717285, tolerance: 775979728.4691886\n",
      "  model = cd_fast.enet_coordinate_descent_gram(\n",
      "C:\\Users\\mmoli\\anaconda3\\lib\\site-packages\\sklearn\\linear_model\\_coordinate_descent.py:526: ConvergenceWarning: Objective did not converge. You might want to increase the number of iterations. Duality gap: 779349147.8132324, tolerance: 775979728.4691886\n",
      "  model = cd_fast.enet_coordinate_descent_gram(\n",
      "C:\\Users\\mmoli\\anaconda3\\lib\\site-packages\\sklearn\\linear_model\\_coordinate_descent.py:526: ConvergenceWarning: Objective did not converge. You might want to increase the number of iterations. Duality gap: 810150053.9404297, tolerance: 775979728.4691886\n",
      "  model = cd_fast.enet_coordinate_descent_gram(\n",
      "C:\\Users\\mmoli\\anaconda3\\lib\\site-packages\\sklearn\\linear_model\\_coordinate_descent.py:530: ConvergenceWarning: Objective did not converge. You might want to increase the number of iterations. Duality gap: 23072146675.974976, tolerance: 944704138.8790245\n",
      "  model = cd_fast.enet_coordinate_descent(\n"
     ]
    },
    {
     "data": {
      "text/plain": [
       "(0.8912144243999623, 0.8920241486148004)"
      ]
     },
     "execution_count": 20,
     "metadata": {},
     "output_type": "execute_result"
    }
   ],
   "source": [
    "l_alphas = np.linspace(0.000001, .3, 300)\n",
    "lcv = LassoCV()\n",
    "lcv.fit(Z_train, y_train)\n",
    "lcv.score(Z_train, y_train), lcv.score(Z_test, y_test)"
   ]
  },
  {
   "cell_type": "code",
   "execution_count": 21,
   "id": "ff20f14a-9c7f-4988-921f-af64d762d3b8",
   "metadata": {},
   "outputs": [
    {
     "data": {
      "text/plain": [
       "69.55585725614894"
      ]
     },
     "execution_count": 21,
     "metadata": {},
     "output_type": "execute_result"
    }
   ],
   "source": [
    "lcv.alpha_"
   ]
  },
  {
   "cell_type": "code",
   "execution_count": 22,
   "id": "f303a284-cb1a-4465-afbc-58d033fc2287",
   "metadata": {},
   "outputs": [
    {
     "data": {
      "text/plain": [
       "<bound method RegressorMixin.score of LassoCV()>"
      ]
     },
     "execution_count": 22,
     "metadata": {},
     "output_type": "execute_result"
    }
   ],
   "source": [
    "lcv.score"
   ]
  },
  {
   "cell_type": "code",
   "execution_count": 23,
   "id": "78236fa1-5759-4e42-8923-7e2c389773d3",
   "metadata": {},
   "outputs": [
    {
     "data": {
      "text/plain": [
       "-129.12136221157374"
      ]
     },
     "execution_count": 23,
     "metadata": {},
     "output_type": "execute_result"
    }
   ],
   "source": [
    "y_preds = lcv.predict(Z_test)\n",
    "resids = y_test-y_preds                     \n",
    "resids.mean()"
   ]
  },
  {
   "cell_type": "code",
   "execution_count": 24,
   "id": "d51ae5a7-3e14-4c16-a92a-e8b47881b93a",
   "metadata": {
    "tags": []
   },
   "outputs": [
    {
     "name": "stdout",
     "output_type": "stream",
     "text": [
      "MAE = 18468.25946140892\n",
      "RMSE = 26540.355580231953\n",
      "CVS = [0.76522728 0.64272481 0.76567162 0.74047962 0.5922523 ]\n"
     ]
    }
   ],
   "source": [
    "mae = mean_absolute_error(y_test, y_preds)\n",
    "print(f'MAE = {mae}')\n",
    "mse = mean_squared_error(y_test, y_preds, squared=False) \n",
    "print(f'RMSE = {mse}')\n",
    "cvs = cross_val_score(lcv, X_train, y_train, cv=5)\n",
    "print(f'CVS = {cvs}')"
   ]
  },
  {
   "cell_type": "code",
   "execution_count": 25,
   "id": "bdd46381-5920-4900-9c51-f3fff36a6f5b",
   "metadata": {},
   "outputs": [],
   "source": [
    "df['resids'] = resids"
   ]
  },
  {
   "cell_type": "code",
   "execution_count": 26,
   "id": "f7854686-2a97-42cb-b213-491d704b2a78",
   "metadata": {},
   "outputs": [
    {
     "data": {
      "text/plain": [
       "resids                       1.000000\n",
       "saleprice                    0.295396\n",
       "bsmtfin_sf_1                 0.291538\n",
       "bsmt_full_bath               0.218751\n",
       "lot_area                     0.195167\n",
       "overall_cond                 0.176622\n",
       "lot_frontage                 0.153868\n",
       "fireplaces                   0.151501\n",
       "screen_porch                 0.144582\n",
       "mas_vnr_area                 0.086192\n",
       "wood_deck_sf                 0.072533\n",
       "bsmt_half_bath               0.068036\n",
       "year_built                   0.056236\n",
       "gr_liv_area/bedroom_abvgr    0.056102\n",
       "year_remod/add               0.037129\n",
       "id                           0.032604\n",
       "bsmtfin_sf_2                 0.029833\n",
       "misc_val                     0.028219\n",
       "garage_yr_blt                0.012445\n",
       "enclosed_porch               0.000524\n",
       "3ssn_porch                  -0.010084\n",
       "half_bath                   -0.018378\n",
       "pid                         -0.020660\n",
       "open_porch_sf               -0.022733\n",
       "mo_sold                     -0.023388\n",
       "low_qual_fin_sf             -0.027562\n",
       "yr_sold                     -0.040469\n",
       "full_bath                   -0.051966\n",
       "totrms_abvgrd               -0.055280\n",
       "kitchen_abvgr               -0.079863\n",
       "ms_subclass                 -0.097702\n",
       "2nd_flr_sf                  -0.110359\n",
       "bsmt_unf_sf                 -0.293765\n",
       "pool_area                         NaN\n",
       "Name: resids, dtype: float64"
      ]
     },
     "execution_count": 26,
     "metadata": {},
     "output_type": "execute_result"
    }
   ],
   "source": [
    "# correlate \n",
    "df.drop(columns=['gr_liv_area', 'bedroom_abvgr', 'age', 'overall_qual',\n",
    "           'age*overall_qual', 'gr_liv_area/totrms_abvgrd', 'since_remod/add',\n",
    "           '1st_flr_sf', 'garage_area', 'kitchen_qual_order', 'garage_cars', 'total_bsmt_sf']).corr()['resids'].sort_values(ascending=False)"
   ]
  },
  {
   "cell_type": "code",
   "execution_count": null,
   "id": "0aa2f917-8a7d-4983-8037-16c1614d3b1f",
   "metadata": {},
   "outputs": [],
   "source": []
  },
  {
   "cell_type": "code",
   "execution_count": null,
   "id": "f43b0cb0-bfbb-4b79-96b4-9942e4ae123f",
   "metadata": {},
   "outputs": [],
   "source": []
  },
  {
   "cell_type": "code",
   "execution_count": null,
   "id": "f9be0065-95e2-43a4-99a0-43249ad569d6",
   "metadata": {},
   "outputs": [],
   "source": []
  },
  {
   "cell_type": "code",
   "execution_count": 494,
   "id": "50b48ab7-3eb3-4ef6-8241-6ac86631e8ec",
   "metadata": {},
   "outputs": [],
   "source": [
    "df = pd.read_csv('datasets/train.csv')\n",
    "df = df.rename(str.lower, axis=1)\n",
    "df.columns = [name.replace(' ', '_') if ' ' in name else name for name in df.columns]\n",
    "\n",
    "# Model 2\n",
    "df['age'] = [df['year_built'].max()-year for year in df['year_built']]\n",
    "df['age*overall_qual'] = df['age']*df['overall_qual']\n",
    "\n",
    "# Model 3\n",
    "kitchen_qual_order = {'Po': 0, 'Fa': 1, 'TA': 2, 'Gd': 3, 'Ex': 4}\n",
    "df['kitchen_qual_order'] = [kitchen_qual_order[n] for n in df['kitchen_qual']]\n",
    "\n",
    "# Model 4\n",
    "df['gr_liv_area/totrms_abvgrd'] = df['gr_liv_area']/df['totrms_abvgrd']\n",
    "df['since_remod/add'] = [2010-year for year in df['year_remod/add']]\n",
    "\n",
    "# Model 5\n",
    "df.drop(index=1712, inplace=True)\n",
    "df.drop(index=1327, inplace=True)\n",
    "\n",
    "# Model 6\n",
    "df['before_1940'] = [1 if year < 1940 else 0 for year in df['year_built']]\n",
    "df['over_10'] = [1 if age > 10 else 0 for age in df['age']]\n",
    "\n",
    "# Model 7\n",
    "df['before_1940'] = [1 if year < 1940 else 0 for year in df['year_built']]\n",
    "df['over_10'] = [1 if age > 10 else 0 for age in df['age']]"
   ]
  },
  {
   "cell_type": "code",
   "execution_count": 8,
   "id": "45929f40-4b0f-4d04-bfa2-19ffdb8b4a9c",
   "metadata": {},
   "outputs": [],
   "source": [
    "features_7 = df[['gr_liv_area', 'bedroom_abvgr', 'age', 'overall_qual', 'gr_liv_area/totrms_abvgrd', 'since_remod/add',\n",
    "       '1st_flr_sf', 'garage_area', 'kitchen_qual_order', 'garage_cars', 'total_bsmt_sf', 'before_1940', 'over_10', 'bsmtfin_sf_1', 'neighborhood']]\n",
    "\n",
    "features_7 = pd.get_dummies(features_7, columns=['neighborhood'], drop_first=True);"
   ]
  },
  {
   "cell_type": "code",
   "execution_count": 9,
   "id": "a0646489-a0d8-4aed-959f-8fb616a47958",
   "metadata": {},
   "outputs": [],
   "source": [
    "X = features_7\n",
    "y = df['saleprice']\n",
    "X_train, X_test, y_train, y_test = train_test_split(X, y, random_state=42)\n",
    "pf = PolynomialFeatures(include_bias=False)\n",
    "pf.fit(X_train)\n",
    "X_train_pf = pf.transform(X_train)\n",
    "X_test_pf = pf.transform(X_test)\n",
    "pd.DataFrame(X_test_pf, columns=pf.get_feature_names(X.columns));"
   ]
  },
  {
   "cell_type": "code",
   "execution_count": 10,
   "id": "104bd06f-2bd1-44a0-888f-c2acedcd7138",
   "metadata": {},
   "outputs": [],
   "source": [
    "ss = StandardScaler()                  \n",
    "ss.fit(X_train_pf)\n",
    "Z_train = ss.transform(X_train_pf)\n",
    "Z_test = ss.transform(X_test_pf)"
   ]
  },
  {
   "cell_type": "code",
   "execution_count": 11,
   "id": "0fb20f13-91da-4a50-9af5-977a8a2d0748",
   "metadata": {},
   "outputs": [
    {
     "data": {
      "text/plain": [
       "(0.9552268304141633, -4.6198145768435135e+20)"
      ]
     },
     "execution_count": 11,
     "metadata": {},
     "output_type": "execute_result"
    }
   ],
   "source": [
    "lr = LinearRegression()\n",
    "lr.fit(Z_train, y_train)\n",
    "lr.score(Z_train, y_train), lr.score(Z_test, y_test)"
   ]
  },
  {
   "cell_type": "code",
   "execution_count": 12,
   "id": "9819bbcc-31a2-478e-98c1-a492d29ae4c2",
   "metadata": {},
   "outputs": [
    {
     "name": "stderr",
     "output_type": "stream",
     "text": [
      "C:\\Users\\mmoli\\anaconda3\\lib\\site-packages\\sklearn\\linear_model\\_coordinate_descent.py:526: ConvergenceWarning: Objective did not converge. You might want to increase the number of iterations. Duality gap: 850591348.1010742, tolerance: 770758974.6212007\n",
      "  model = cd_fast.enet_coordinate_descent_gram(\n",
      "C:\\Users\\mmoli\\anaconda3\\lib\\site-packages\\sklearn\\linear_model\\_coordinate_descent.py:526: ConvergenceWarning: Objective did not converge. You might want to increase the number of iterations. Duality gap: 970887978.5209961, tolerance: 770758974.6212007\n",
      "  model = cd_fast.enet_coordinate_descent_gram(\n",
      "C:\\Users\\mmoli\\anaconda3\\lib\\site-packages\\sklearn\\linear_model\\_coordinate_descent.py:526: ConvergenceWarning: Objective did not converge. You might want to increase the number of iterations. Duality gap: 1160289049.2369385, tolerance: 770758974.6212007\n",
      "  model = cd_fast.enet_coordinate_descent_gram(\n",
      "C:\\Users\\mmoli\\anaconda3\\lib\\site-packages\\sklearn\\linear_model\\_coordinate_descent.py:526: ConvergenceWarning: Objective did not converge. You might want to increase the number of iterations. Duality gap: 1231250131.3084106, tolerance: 787358189.9797889\n",
      "  model = cd_fast.enet_coordinate_descent_gram(\n",
      "C:\\Users\\mmoli\\anaconda3\\lib\\site-packages\\sklearn\\linear_model\\_coordinate_descent.py:526: ConvergenceWarning: Objective did not converge. You might want to increase the number of iterations. Duality gap: 1706775864.2476807, tolerance: 787358189.9797889\n",
      "  model = cd_fast.enet_coordinate_descent_gram(\n",
      "C:\\Users\\mmoli\\anaconda3\\lib\\site-packages\\sklearn\\linear_model\\_coordinate_descent.py:526: ConvergenceWarning: Objective did not converge. You might want to increase the number of iterations. Duality gap: 709369301.2949829, tolerance: 687564697.385119\n",
      "  model = cd_fast.enet_coordinate_descent_gram(\n",
      "C:\\Users\\mmoli\\anaconda3\\lib\\site-packages\\sklearn\\linear_model\\_coordinate_descent.py:530: ConvergenceWarning: Objective did not converge. You might want to increase the number of iterations. Duality gap: 5078221961.916382, tolerance: 960340167.395799\n",
      "  model = cd_fast.enet_coordinate_descent(\n"
     ]
    },
    {
     "data": {
      "text/plain": [
       "(0.9369562532113769, 0.9189566187239347)"
      ]
     },
     "execution_count": 12,
     "metadata": {},
     "output_type": "execute_result"
    }
   ],
   "source": [
    "l_alphas = np.linspace(0.000001, .3, 300)\n",
    "lcv = LassoCV()\n",
    "lcv.fit(Z_train, y_train)\n",
    "lcv.score(Z_train, y_train), lcv.score(Z_test, y_test)"
   ]
  },
  {
   "cell_type": "code",
   "execution_count": 13,
   "id": "f9dac951-2229-4540-93cc-b5056feee860",
   "metadata": {},
   "outputs": [
    {
     "data": {
      "text/plain": [
       "106.51037666887729"
      ]
     },
     "execution_count": 13,
     "metadata": {},
     "output_type": "execute_result"
    }
   ],
   "source": [
    "lcv.alpha_"
   ]
  },
  {
   "cell_type": "code",
   "execution_count": 14,
   "id": "1e1f6be7-95dd-40f7-8e26-b00710010136",
   "metadata": {},
   "outputs": [
    {
     "data": {
      "text/plain": [
       "<bound method RegressorMixin.score of LassoCV()>"
      ]
     },
     "execution_count": 14,
     "metadata": {},
     "output_type": "execute_result"
    }
   ],
   "source": [
    "lcv.score"
   ]
  },
  {
   "cell_type": "code",
   "execution_count": 15,
   "id": "a1b0b2a2-ed7b-48c2-9e32-09fdfc80aa25",
   "metadata": {},
   "outputs": [
    {
     "data": {
      "text/plain": [
       "-690.0551619891331"
      ]
     },
     "execution_count": 15,
     "metadata": {},
     "output_type": "execute_result"
    }
   ],
   "source": [
    "y_preds = lcv.predict(Z_test)\n",
    "resids = y_test-y_preds                     \n",
    "resids.mean()"
   ]
  },
  {
   "cell_type": "code",
   "execution_count": 16,
   "id": "bef87cb7-96e7-467a-8218-dcfeac367f28",
   "metadata": {
    "tags": []
   },
   "outputs": [
    {
     "name": "stdout",
     "output_type": "stream",
     "text": [
      "MAE = 16020.614922399329\n",
      "RMSE = 22703.169003555427\n",
      "CVS = [0.79777466 0.77696863 0.7583535  0.7042485  0.47639302]\n"
     ]
    }
   ],
   "source": [
    "mae = mean_absolute_error(y_test, y_preds)\n",
    "print(f'MAE = {mae}')\n",
    "mse = mean_squared_error(y_test, y_preds, squared=False) \n",
    "print(f'RMSE = {mse}')\n",
    "cvs = cross_val_score(lcv, X_train, y_train, cv=5)\n",
    "print(f'CVS = {cvs}')"
   ]
  },
  {
   "cell_type": "code",
   "execution_count": null,
   "id": "697bb098-0fa2-4c77-ab60-dbe9f68758b8",
   "metadata": {},
   "outputs": [],
   "source": []
  },
  {
   "cell_type": "code",
   "execution_count": null,
   "id": "0a9b0a62-9752-4c33-afb8-c0be16411fde",
   "metadata": {},
   "outputs": [],
   "source": []
  },
  {
   "cell_type": "code",
   "execution_count": 17,
   "id": "c680b05b-e1df-43b9-8291-c5e499e0d15b",
   "metadata": {},
   "outputs": [
    {
     "data": {
      "text/plain": [
       "(513,)"
      ]
     },
     "execution_count": 17,
     "metadata": {},
     "output_type": "execute_result"
    }
   ],
   "source": [
    "y_preds.shape"
   ]
  },
  {
   "cell_type": "code",
   "execution_count": 18,
   "id": "6c955ef6-6ef5-49f5-a522-0b8cfabadfa7",
   "metadata": {},
   "outputs": [
    {
     "data": {
      "text/plain": [
       "0       130500\n",
       "1       220000\n",
       "2       109000\n",
       "3       174000\n",
       "4       138500\n",
       "         ...  \n",
       "2046    298751\n",
       "2047     82500\n",
       "2048    177000\n",
       "2049    144000\n",
       "2050    189000\n",
       "Name: saleprice, Length: 2049, dtype: int64"
      ]
     },
     "execution_count": 18,
     "metadata": {},
     "output_type": "execute_result"
    }
   ],
   "source": [
    "df['saleprice']"
   ]
  },
  {
   "cell_type": "code",
   "execution_count": 19,
   "id": "e2254b56-edc8-4edc-852b-744fc58a17b4",
   "metadata": {},
   "outputs": [
    {
     "ename": "ValueError",
     "evalue": "x and y must be the same size",
     "output_type": "error",
     "traceback": [
      "\u001b[1;31m---------------------------------------------------------------------------\u001b[0m",
      "\u001b[1;31mValueError\u001b[0m                                Traceback (most recent call last)",
      "\u001b[1;32m~\\AppData\\Local\\Temp/ipykernel_31980/3605773198.py\u001b[0m in \u001b[0;36m<module>\u001b[1;34m\u001b[0m\n\u001b[1;32m----> 1\u001b[1;33m \u001b[0mplt\u001b[0m\u001b[1;33m.\u001b[0m\u001b[0mscatter\u001b[0m\u001b[1;33m(\u001b[0m\u001b[0mx\u001b[0m\u001b[1;33m=\u001b[0m\u001b[0my_preds\u001b[0m\u001b[1;33m,\u001b[0m \u001b[0my\u001b[0m\u001b[1;33m=\u001b[0m\u001b[0mdf\u001b[0m\u001b[1;33m[\u001b[0m\u001b[1;34m'saleprice'\u001b[0m\u001b[1;33m]\u001b[0m\u001b[1;33m)\u001b[0m\u001b[1;33m\u001b[0m\u001b[1;33m\u001b[0m\u001b[0m\n\u001b[0m",
      "\u001b[1;32m~\\anaconda3\\lib\\site-packages\\matplotlib\\pyplot.py\u001b[0m in \u001b[0;36mscatter\u001b[1;34m(x, y, s, c, marker, cmap, norm, vmin, vmax, alpha, linewidths, edgecolors, plotnonfinite, data, **kwargs)\u001b[0m\n\u001b[0;32m   3066\u001b[0m         \u001b[0mvmin\u001b[0m\u001b[1;33m=\u001b[0m\u001b[1;32mNone\u001b[0m\u001b[1;33m,\u001b[0m \u001b[0mvmax\u001b[0m\u001b[1;33m=\u001b[0m\u001b[1;32mNone\u001b[0m\u001b[1;33m,\u001b[0m \u001b[0malpha\u001b[0m\u001b[1;33m=\u001b[0m\u001b[1;32mNone\u001b[0m\u001b[1;33m,\u001b[0m \u001b[0mlinewidths\u001b[0m\u001b[1;33m=\u001b[0m\u001b[1;32mNone\u001b[0m\u001b[1;33m,\u001b[0m \u001b[1;33m*\u001b[0m\u001b[1;33m,\u001b[0m\u001b[1;33m\u001b[0m\u001b[1;33m\u001b[0m\u001b[0m\n\u001b[0;32m   3067\u001b[0m         edgecolors=None, plotnonfinite=False, data=None, **kwargs):\n\u001b[1;32m-> 3068\u001b[1;33m     __ret = gca().scatter(\n\u001b[0m\u001b[0;32m   3069\u001b[0m         \u001b[0mx\u001b[0m\u001b[1;33m,\u001b[0m \u001b[0my\u001b[0m\u001b[1;33m,\u001b[0m \u001b[0ms\u001b[0m\u001b[1;33m=\u001b[0m\u001b[0ms\u001b[0m\u001b[1;33m,\u001b[0m \u001b[0mc\u001b[0m\u001b[1;33m=\u001b[0m\u001b[0mc\u001b[0m\u001b[1;33m,\u001b[0m \u001b[0mmarker\u001b[0m\u001b[1;33m=\u001b[0m\u001b[0mmarker\u001b[0m\u001b[1;33m,\u001b[0m \u001b[0mcmap\u001b[0m\u001b[1;33m=\u001b[0m\u001b[0mcmap\u001b[0m\u001b[1;33m,\u001b[0m \u001b[0mnorm\u001b[0m\u001b[1;33m=\u001b[0m\u001b[0mnorm\u001b[0m\u001b[1;33m,\u001b[0m\u001b[1;33m\u001b[0m\u001b[1;33m\u001b[0m\u001b[0m\n\u001b[0;32m   3070\u001b[0m         \u001b[0mvmin\u001b[0m\u001b[1;33m=\u001b[0m\u001b[0mvmin\u001b[0m\u001b[1;33m,\u001b[0m \u001b[0mvmax\u001b[0m\u001b[1;33m=\u001b[0m\u001b[0mvmax\u001b[0m\u001b[1;33m,\u001b[0m \u001b[0malpha\u001b[0m\u001b[1;33m=\u001b[0m\u001b[0malpha\u001b[0m\u001b[1;33m,\u001b[0m \u001b[0mlinewidths\u001b[0m\u001b[1;33m=\u001b[0m\u001b[0mlinewidths\u001b[0m\u001b[1;33m,\u001b[0m\u001b[1;33m\u001b[0m\u001b[1;33m\u001b[0m\u001b[0m\n",
      "\u001b[1;32m~\\anaconda3\\lib\\site-packages\\matplotlib\\__init__.py\u001b[0m in \u001b[0;36minner\u001b[1;34m(ax, data, *args, **kwargs)\u001b[0m\n\u001b[0;32m   1359\u001b[0m     \u001b[1;32mdef\u001b[0m \u001b[0minner\u001b[0m\u001b[1;33m(\u001b[0m\u001b[0max\u001b[0m\u001b[1;33m,\u001b[0m \u001b[1;33m*\u001b[0m\u001b[0margs\u001b[0m\u001b[1;33m,\u001b[0m \u001b[0mdata\u001b[0m\u001b[1;33m=\u001b[0m\u001b[1;32mNone\u001b[0m\u001b[1;33m,\u001b[0m \u001b[1;33m**\u001b[0m\u001b[0mkwargs\u001b[0m\u001b[1;33m)\u001b[0m\u001b[1;33m:\u001b[0m\u001b[1;33m\u001b[0m\u001b[1;33m\u001b[0m\u001b[0m\n\u001b[0;32m   1360\u001b[0m         \u001b[1;32mif\u001b[0m \u001b[0mdata\u001b[0m \u001b[1;32mis\u001b[0m \u001b[1;32mNone\u001b[0m\u001b[1;33m:\u001b[0m\u001b[1;33m\u001b[0m\u001b[1;33m\u001b[0m\u001b[0m\n\u001b[1;32m-> 1361\u001b[1;33m             \u001b[1;32mreturn\u001b[0m \u001b[0mfunc\u001b[0m\u001b[1;33m(\u001b[0m\u001b[0max\u001b[0m\u001b[1;33m,\u001b[0m \u001b[1;33m*\u001b[0m\u001b[0mmap\u001b[0m\u001b[1;33m(\u001b[0m\u001b[0msanitize_sequence\u001b[0m\u001b[1;33m,\u001b[0m \u001b[0margs\u001b[0m\u001b[1;33m)\u001b[0m\u001b[1;33m,\u001b[0m \u001b[1;33m**\u001b[0m\u001b[0mkwargs\u001b[0m\u001b[1;33m)\u001b[0m\u001b[1;33m\u001b[0m\u001b[1;33m\u001b[0m\u001b[0m\n\u001b[0m\u001b[0;32m   1362\u001b[0m \u001b[1;33m\u001b[0m\u001b[0m\n\u001b[0;32m   1363\u001b[0m         \u001b[0mbound\u001b[0m \u001b[1;33m=\u001b[0m \u001b[0mnew_sig\u001b[0m\u001b[1;33m.\u001b[0m\u001b[0mbind\u001b[0m\u001b[1;33m(\u001b[0m\u001b[0max\u001b[0m\u001b[1;33m,\u001b[0m \u001b[1;33m*\u001b[0m\u001b[0margs\u001b[0m\u001b[1;33m,\u001b[0m \u001b[1;33m**\u001b[0m\u001b[0mkwargs\u001b[0m\u001b[1;33m)\u001b[0m\u001b[1;33m\u001b[0m\u001b[1;33m\u001b[0m\u001b[0m\n",
      "\u001b[1;32m~\\anaconda3\\lib\\site-packages\\matplotlib\\axes\\_axes.py\u001b[0m in \u001b[0;36mscatter\u001b[1;34m(self, x, y, s, c, marker, cmap, norm, vmin, vmax, alpha, linewidths, edgecolors, plotnonfinite, **kwargs)\u001b[0m\n\u001b[0;32m   4496\u001b[0m         \u001b[0my\u001b[0m \u001b[1;33m=\u001b[0m \u001b[0mnp\u001b[0m\u001b[1;33m.\u001b[0m\u001b[0mma\u001b[0m\u001b[1;33m.\u001b[0m\u001b[0mravel\u001b[0m\u001b[1;33m(\u001b[0m\u001b[0my\u001b[0m\u001b[1;33m)\u001b[0m\u001b[1;33m\u001b[0m\u001b[1;33m\u001b[0m\u001b[0m\n\u001b[0;32m   4497\u001b[0m         \u001b[1;32mif\u001b[0m \u001b[0mx\u001b[0m\u001b[1;33m.\u001b[0m\u001b[0msize\u001b[0m \u001b[1;33m!=\u001b[0m \u001b[0my\u001b[0m\u001b[1;33m.\u001b[0m\u001b[0msize\u001b[0m\u001b[1;33m:\u001b[0m\u001b[1;33m\u001b[0m\u001b[1;33m\u001b[0m\u001b[0m\n\u001b[1;32m-> 4498\u001b[1;33m             \u001b[1;32mraise\u001b[0m \u001b[0mValueError\u001b[0m\u001b[1;33m(\u001b[0m\u001b[1;34m\"x and y must be the same size\"\u001b[0m\u001b[1;33m)\u001b[0m\u001b[1;33m\u001b[0m\u001b[1;33m\u001b[0m\u001b[0m\n\u001b[0m\u001b[0;32m   4499\u001b[0m \u001b[1;33m\u001b[0m\u001b[0m\n\u001b[0;32m   4500\u001b[0m         \u001b[1;32mif\u001b[0m \u001b[0ms\u001b[0m \u001b[1;32mis\u001b[0m \u001b[1;32mNone\u001b[0m\u001b[1;33m:\u001b[0m\u001b[1;33m\u001b[0m\u001b[1;33m\u001b[0m\u001b[0m\n",
      "\u001b[1;31mValueError\u001b[0m: x and y must be the same size"
     ]
    },
    {
     "data": {
      "image/png": "[encoded data removed]",
      "text/plain": [
       "<Figure size 432x288 with 1 Axes>"
      ]
     },
     "metadata": {
      "needs_background": "light"
     },
     "output_type": "display_data"
    }
   ],
   "source": [
    "plt.scatter(x=y_preds, y=df['saleprice'])"
   ]
  },
  {
   "cell_type": "code",
   "execution_count": null,
   "id": "1c0a0cd2-1d33-4581-9c23-c952849ea160",
   "metadata": {},
   "outputs": [],
   "source": [
    "features_7 = df[['gr_liv_area', 'bedroom_abvgr', 'age', 'overall_qual', 'gr_liv_area/totrms_abvgrd', 'since_remod/add',\n",
    "       '1st_flr_sf', 'garage_area', 'kitchen_qual_order', 'garage_cars', 'total_bsmt_sf', 'before_1940', 'over_10', 'bsmtfin_sf_1',]]\n",
    "\n",
    "# features_7 = pd.get_dummies(features_7, columns=['neighborhood'], drop_first=True);"
   ]
  },
  {
   "cell_type": "code",
   "execution_count": null,
   "id": "4dae74cb-1d59-4ef0-b5ff-fb1f065a73c5",
   "metadata": {},
   "outputs": [],
   "source": [
    "X = features_7\n",
    "y = df['saleprice']\n",
    "X_train, X_test, y_train, y_test = train_test_split(X, y, random_state=42)\n",
    "pf = PolynomialFeatures(include_bias=False)\n",
    "pf.fit(X_train)\n",
    "X_train_pf = pf.transform(X_train)\n",
    "X_test_pf = pf.transform(X_test)\n",
    "pd.DataFrame(X_test_pf, columns=pf.get_feature_names(X.columns));"
   ]
  },
  {
   "cell_type": "code",
   "execution_count": null,
   "id": "bdda859a-8c3d-42be-9ecd-5c81f752f9b0",
   "metadata": {},
   "outputs": [],
   "source": [
    "ss = StandardScaler()                  \n",
    "ss.fit(X_train_pf)\n",
    "Z_train = ss.transform(X_train_pf)\n",
    "Z_test = ss.transform(X_test_pf)"
   ]
  },
  {
   "cell_type": "code",
   "execution_count": null,
   "id": "e71af6c2-e9a8-4eac-91d0-9eaf367edf2a",
   "metadata": {},
   "outputs": [],
   "source": [
    "l_alphas = np.linspace(0.000001, .3, 300)\n",
    "lcv = LassoCV()\n",
    "lcv.fit(Z_train, y_train)\n",
    "lcv.score(Z_train, y_train), lcv.score(Z_test, y_test)"
   ]
  },
  {
   "cell_type": "code",
   "execution_count": null,
   "id": "bf9b5385-ff60-42fb-9ab0-cd49102b6566",
   "metadata": {},
   "outputs": [],
   "source": []
  },
  {
   "cell_type": "code",
   "execution_count": null,
   "id": "635600d8-b691-40d1-a729-016cc73ed442",
   "metadata": {},
   "outputs": [],
   "source": [
    "y_preds = lcv.predict(Z_test)\n",
    "resids = y_test-y_preds                     \n",
    "resids.mean()"
   ]
  },
  {
   "cell_type": "code",
   "execution_count": null,
   "id": "b26fa464-6074-40bc-86d9-d13752626550",
   "metadata": {
    "tags": []
   },
   "outputs": [],
   "source": [
    "mae = mean_absolute_error(y_test, y_preds)\n",
    "print(f'MAE = {mae}')\n",
    "mse = mean_squared_error(y_test, y_preds, squared=False) \n",
    "print(f'RMSE = {mse}')\n",
    "cvs = cross_val_score(lcv, X_train, y_train, cv=5)\n",
    "print(f'CVS = {cvs}')"
   ]
  },
  {
   "cell_type": "code",
   "execution_count": null,
   "id": "aff47e7d-27d4-4954-a1ab-c16866aa48bb",
   "metadata": {},
   "outputs": [],
   "source": []
  },
  {
   "cell_type": "code",
   "execution_count": null,
   "id": "9fd06098-f9ee-4955-acc9-a40e28ea4c17",
   "metadata": {},
   "outputs": [],
   "source": [
    "features_7.shape"
   ]
  },
  {
   "cell_type": "code",
   "execution_count": null,
   "id": "631e7684-0240-4c0e-b0a4-384aba23be00",
   "metadata": {},
   "outputs": [],
   "source": [
    "plt.hist(resids, bins=10)"
   ]
  },
  {
   "cell_type": "code",
   "execution_count": null,
   "id": "f98a860c-46be-4628-89dd-4ad6460f65bd",
   "metadata": {},
   "outputs": [],
   "source": [
    "### Old inefficient use one below\n",
    "features_7 = df[['gr_liv_area', 'bedroom_abvgr', 'age', 'overall_qual', 'gr_liv_area/totrms_abvgrd', 'since_remod/add',\n",
    "       '1st_flr_sf', 'garage_area', 'kitchen_qual_order', 'garage_cars', 'total_bsmt_sf', 'before_1940', 'over_10', 'bsmtfin_sf_1',]]\n",
    "\n",
    "# features_7 = pd.get_dummies(features_7, columns=['neighborhood'], drop_first=True);"
   ]
  },
  {
   "cell_type": "code",
   "execution_count": 410,
   "id": "a6cf2d8d-0945-4507-a0b5-d8cb3ef85993",
   "metadata": {},
   "outputs": [],
   "source": [
    "features_7 = df[['gr_liv_area', 'age', 'age*overall_qual', 'overall_qual', 'gr_liv_area/totrms_abvgrd',\n",
    "                 'since_remod/add', 'garage_area', 'kitchen_qual_order', 'total_bsmt_sf', 'before_1940', 'over_10', 'bsmtfin_sf_1', 'fireplaces']]\n",
    "\n",
    "# features_7 = pd.get_dummies(features_7, columns=['neighborhood'], drop_first=True);"
   ]
  },
  {
   "cell_type": "code",
   "execution_count": 21,
   "id": "3bac4f1c-c677-4f7e-b338-f2958eb0ccce",
   "metadata": {},
   "outputs": [],
   "source": [
    "features_7 = df[['gr_liv_area', 'age', 'overall_qual', 'gr_liv_area/totrms_abvgrd',\n",
    "                 'since_remod/add', 'garage_area', 'kitchen_qual_order', 'total_bsmt_sf', 'before_1940', 'over_10', 'bsmtfin_sf_1', 'neighborhood']]\n",
    "\n",
    "features_7 = pd.get_dummies(features_7, columns=['neighborhood'], drop_first=True);"
   ]
  },
  {
   "cell_type": "code",
   "execution_count": 32,
   "id": "680831b3-95b2-4aa0-9f52-85d8c3b2d998",
   "metadata": {},
   "outputs": [],
   "source": [
    "features_7 = df[['gr_liv_area', 'age', 'overall_qual', 'gr_liv_area/totrms_abvgrd',\n",
    "                 'since_remod/add', 'garage_area', 'kitchen_qual_order', 'total_bsmt_sf', 'bsmtfin_sf_1', 'neighborhood' ]]\n",
    "\n",
    "features_7 = pd.get_dummies(features_7, columns=['neighborhood'], drop_first=True);"
   ]
  },
  {
   "cell_type": "code",
   "execution_count": 402,
   "id": "e7c60b79-7dcc-4e8d-b724-693c10659dc3",
   "metadata": {},
   "outputs": [],
   "source": [
    "X = features_7\n",
    "y = df['saleprice']\n",
    "X_train, X_test, y_train, y_test = train_test_split(X, y, random_state=42)"
   ]
  },
  {
   "cell_type": "code",
   "execution_count": 403,
   "id": "0a15fa43-26c7-4d10-9b0a-ba9b5499e648",
   "metadata": {},
   "outputs": [
    {
     "data": {
      "text/plain": [
       "(0.8091888468343849, 0.8646146537686296)"
      ]
     },
     "execution_count": 403,
     "metadata": {},
     "output_type": "execute_result"
    }
   ],
   "source": [
    "lr = LinearRegression()\n",
    "lr.fit(X_train, y_train)\n",
    "lr.score(X_train, y_train), lr.score(X_test, y_test)"
   ]
  },
  {
   "cell_type": "code",
   "execution_count": 376,
   "id": "e94d6791-8621-446b-bed1-d1fd5287335b",
   "metadata": {
    "jupyter": {
     "source_hidden": true
    },
    "tags": []
   },
   "outputs": [],
   "source": [
    "from sklearn.pipeline import Pipeline\n",
    "from sklearn.model_selection import GridSearchCV\n",
    "\n",
    "# pipe lines\n",
    "pipe_lr = Pipeline([\n",
    "     ('pf', PolynomialFeatures(include_bias=False)),\n",
    "     ('ss', StandardScaler()),\n",
    "     ('lr', LinearRegression())\n",
    "])\n",
    "\n",
    "pipe_lcv = Pipeline([\n",
    "     ('pf', PolynomialFeatures(include_bias=False)),\n",
    "     ('ss', StandardScaler()),\n",
    "     ('lcv', LassoCV())\n",
    "])\n",
    "\n",
    "pipe_lr.fit(X_train, y_train)\n",
    "\n",
    "params = {\n",
    "    'lr__penalty': ['l1', 'l2']\n",
    "}\n",
    "\n",
    "pipe_lr.score(X_train, y_train), pipe_lr.score(X_test, y_test)"
   ]
  },
  {
   "cell_type": "code",
   "execution_count": 404,
   "id": "1126cc0a-252f-4aec-8c5c-90a75acee7be",
   "metadata": {},
   "outputs": [
    {
     "data": {
      "text/html": [
       "<div>\n",
       "<style scoped>\n",
       "    .dataframe tbody tr th:only-of-type {\n",
       "        vertical-align: middle;\n",
       "    }\n",
       "\n",
       "    .dataframe tbody tr th {\n",
       "        vertical-align: top;\n",
       "    }\n",
       "\n",
       "    .dataframe thead th {\n",
       "        text-align: right;\n",
       "    }\n",
       "</style>\n",
       "<table border=\"1\" class=\"dataframe\">\n",
       "  <thead>\n",
       "    <tr style=\"text-align: right;\">\n",
       "      <th></th>\n",
       "      <th>gr_liv_area</th>\n",
       "      <th>age</th>\n",
       "      <th>age*overall_qual</th>\n",
       "      <th>overall_qual</th>\n",
       "      <th>gr_liv_area/totrms_abvgrd</th>\n",
       "      <th>since_remod/add</th>\n",
       "      <th>garage_area</th>\n",
       "      <th>kitchen_qual_order</th>\n",
       "      <th>total_bsmt_sf</th>\n",
       "      <th>before_1940</th>\n",
       "      <th>...</th>\n",
       "      <th>before_1940^2</th>\n",
       "      <th>before_1940 over_10</th>\n",
       "      <th>before_1940 bsmtfin_sf_1</th>\n",
       "      <th>before_1940 fireplaces</th>\n",
       "      <th>over_10^2</th>\n",
       "      <th>over_10 bsmtfin_sf_1</th>\n",
       "      <th>over_10 fireplaces</th>\n",
       "      <th>bsmtfin_sf_1^2</th>\n",
       "      <th>bsmtfin_sf_1 fireplaces</th>\n",
       "      <th>fireplaces^2</th>\n",
       "    </tr>\n",
       "  </thead>\n",
       "  <tbody>\n",
       "    <tr>\n",
       "      <th>0</th>\n",
       "      <td>1077.0</td>\n",
       "      <td>71.0</td>\n",
       "      <td>355.0</td>\n",
       "      <td>5.0</td>\n",
       "      <td>215.400000</td>\n",
       "      <td>60.0</td>\n",
       "      <td>205.0</td>\n",
       "      <td>2.0</td>\n",
       "      <td>991.0</td>\n",
       "      <td>1.0</td>\n",
       "      <td>...</td>\n",
       "      <td>1.0</td>\n",
       "      <td>1.0</td>\n",
       "      <td>851.0</td>\n",
       "      <td>2.0</td>\n",
       "      <td>1.0</td>\n",
       "      <td>851.0</td>\n",
       "      <td>2.0</td>\n",
       "      <td>724201.0</td>\n",
       "      <td>1702.0</td>\n",
       "      <td>4.0</td>\n",
       "    </tr>\n",
       "    <tr>\n",
       "      <th>1</th>\n",
       "      <td>1824.0</td>\n",
       "      <td>39.0</td>\n",
       "      <td>273.0</td>\n",
       "      <td>7.0</td>\n",
       "      <td>364.800000</td>\n",
       "      <td>8.0</td>\n",
       "      <td>739.0</td>\n",
       "      <td>3.0</td>\n",
       "      <td>1643.0</td>\n",
       "      <td>0.0</td>\n",
       "      <td>...</td>\n",
       "      <td>0.0</td>\n",
       "      <td>0.0</td>\n",
       "      <td>0.0</td>\n",
       "      <td>0.0</td>\n",
       "      <td>1.0</td>\n",
       "      <td>1219.0</td>\n",
       "      <td>2.0</td>\n",
       "      <td>1485961.0</td>\n",
       "      <td>2438.0</td>\n",
       "      <td>4.0</td>\n",
       "    </tr>\n",
       "    <tr>\n",
       "      <th>2</th>\n",
       "      <td>987.0</td>\n",
       "      <td>38.0</td>\n",
       "      <td>228.0</td>\n",
       "      <td>6.0</td>\n",
       "      <td>197.400000</td>\n",
       "      <td>38.0</td>\n",
       "      <td>288.0</td>\n",
       "      <td>2.0</td>\n",
       "      <td>483.0</td>\n",
       "      <td>0.0</td>\n",
       "      <td>...</td>\n",
       "      <td>0.0</td>\n",
       "      <td>0.0</td>\n",
       "      <td>0.0</td>\n",
       "      <td>0.0</td>\n",
       "      <td>1.0</td>\n",
       "      <td>110.0</td>\n",
       "      <td>0.0</td>\n",
       "      <td>12100.0</td>\n",
       "      <td>0.0</td>\n",
       "      <td>0.0</td>\n",
       "    </tr>\n",
       "    <tr>\n",
       "      <th>3</th>\n",
       "      <td>1798.0</td>\n",
       "      <td>110.0</td>\n",
       "      <td>440.0</td>\n",
       "      <td>4.0</td>\n",
       "      <td>256.857143</td>\n",
       "      <td>60.0</td>\n",
       "      <td>342.0</td>\n",
       "      <td>2.0</td>\n",
       "      <td>1075.0</td>\n",
       "      <td>1.0</td>\n",
       "      <td>...</td>\n",
       "      <td>1.0</td>\n",
       "      <td>1.0</td>\n",
       "      <td>0.0</td>\n",
       "      <td>0.0</td>\n",
       "      <td>1.0</td>\n",
       "      <td>0.0</td>\n",
       "      <td>0.0</td>\n",
       "      <td>0.0</td>\n",
       "      <td>0.0</td>\n",
       "      <td>0.0</td>\n",
       "    </tr>\n",
       "    <tr>\n",
       "      <th>4</th>\n",
       "      <td>1750.0</td>\n",
       "      <td>70.0</td>\n",
       "      <td>420.0</td>\n",
       "      <td>6.0</td>\n",
       "      <td>250.000000</td>\n",
       "      <td>25.0</td>\n",
       "      <td>423.0</td>\n",
       "      <td>2.0</td>\n",
       "      <td>983.0</td>\n",
       "      <td>0.0</td>\n",
       "      <td>...</td>\n",
       "      <td>0.0</td>\n",
       "      <td>0.0</td>\n",
       "      <td>0.0</td>\n",
       "      <td>0.0</td>\n",
       "      <td>1.0</td>\n",
       "      <td>660.0</td>\n",
       "      <td>0.0</td>\n",
       "      <td>435600.0</td>\n",
       "      <td>0.0</td>\n",
       "      <td>0.0</td>\n",
       "    </tr>\n",
       "    <tr>\n",
       "      <th>...</th>\n",
       "      <td>...</td>\n",
       "      <td>...</td>\n",
       "      <td>...</td>\n",
       "      <td>...</td>\n",
       "      <td>...</td>\n",
       "      <td>...</td>\n",
       "      <td>...</td>\n",
       "      <td>...</td>\n",
       "      <td>...</td>\n",
       "      <td>...</td>\n",
       "      <td>...</td>\n",
       "      <td>...</td>\n",
       "      <td>...</td>\n",
       "      <td>...</td>\n",
       "      <td>...</td>\n",
       "      <td>...</td>\n",
       "      <td>...</td>\n",
       "      <td>...</td>\n",
       "      <td>...</td>\n",
       "      <td>...</td>\n",
       "      <td>...</td>\n",
       "    </tr>\n",
       "    <tr>\n",
       "      <th>508</th>\n",
       "      <td>1025.0</td>\n",
       "      <td>48.0</td>\n",
       "      <td>240.0</td>\n",
       "      <td>5.0</td>\n",
       "      <td>170.833333</td>\n",
       "      <td>48.0</td>\n",
       "      <td>0.0</td>\n",
       "      <td>2.0</td>\n",
       "      <td>1025.0</td>\n",
       "      <td>0.0</td>\n",
       "      <td>...</td>\n",
       "      <td>0.0</td>\n",
       "      <td>0.0</td>\n",
       "      <td>0.0</td>\n",
       "      <td>0.0</td>\n",
       "      <td>1.0</td>\n",
       "      <td>953.0</td>\n",
       "      <td>0.0</td>\n",
       "      <td>908209.0</td>\n",
       "      <td>0.0</td>\n",
       "      <td>0.0</td>\n",
       "    </tr>\n",
       "    <tr>\n",
       "      <th>509</th>\n",
       "      <td>1646.0</td>\n",
       "      <td>6.0</td>\n",
       "      <td>42.0</td>\n",
       "      <td>7.0</td>\n",
       "      <td>329.200000</td>\n",
       "      <td>5.0</td>\n",
       "      <td>482.0</td>\n",
       "      <td>4.0</td>\n",
       "      <td>1594.0</td>\n",
       "      <td>0.0</td>\n",
       "      <td>...</td>\n",
       "      <td>0.0</td>\n",
       "      <td>0.0</td>\n",
       "      <td>0.0</td>\n",
       "      <td>0.0</td>\n",
       "      <td>0.0</td>\n",
       "      <td>0.0</td>\n",
       "      <td>0.0</td>\n",
       "      <td>2172676.0</td>\n",
       "      <td>1474.0</td>\n",
       "      <td>1.0</td>\n",
       "    </tr>\n",
       "    <tr>\n",
       "      <th>510</th>\n",
       "      <td>1652.0</td>\n",
       "      <td>95.0</td>\n",
       "      <td>475.0</td>\n",
       "      <td>5.0</td>\n",
       "      <td>236.000000</td>\n",
       "      <td>60.0</td>\n",
       "      <td>416.0</td>\n",
       "      <td>2.0</td>\n",
       "      <td>686.0</td>\n",
       "      <td>1.0</td>\n",
       "      <td>...</td>\n",
       "      <td>1.0</td>\n",
       "      <td>1.0</td>\n",
       "      <td>686.0</td>\n",
       "      <td>0.0</td>\n",
       "      <td>1.0</td>\n",
       "      <td>686.0</td>\n",
       "      <td>0.0</td>\n",
       "      <td>470596.0</td>\n",
       "      <td>0.0</td>\n",
       "      <td>0.0</td>\n",
       "    </tr>\n",
       "    <tr>\n",
       "      <th>511</th>\n",
       "      <td>1920.0</td>\n",
       "      <td>52.0</td>\n",
       "      <td>260.0</td>\n",
       "      <td>5.0</td>\n",
       "      <td>240.000000</td>\n",
       "      <td>52.0</td>\n",
       "      <td>451.0</td>\n",
       "      <td>3.0</td>\n",
       "      <td>1052.0</td>\n",
       "      <td>0.0</td>\n",
       "      <td>...</td>\n",
       "      <td>0.0</td>\n",
       "      <td>0.0</td>\n",
       "      <td>0.0</td>\n",
       "      <td>0.0</td>\n",
       "      <td>1.0</td>\n",
       "      <td>57.0</td>\n",
       "      <td>1.0</td>\n",
       "      <td>3249.0</td>\n",
       "      <td>57.0</td>\n",
       "      <td>1.0</td>\n",
       "    </tr>\n",
       "    <tr>\n",
       "      <th>512</th>\n",
       "      <td>2521.0</td>\n",
       "      <td>37.0</td>\n",
       "      <td>222.0</td>\n",
       "      <td>6.0</td>\n",
       "      <td>252.100000</td>\n",
       "      <td>37.0</td>\n",
       "      <td>576.0</td>\n",
       "      <td>2.0</td>\n",
       "      <td>942.0</td>\n",
       "      <td>0.0</td>\n",
       "      <td>...</td>\n",
       "      <td>0.0</td>\n",
       "      <td>0.0</td>\n",
       "      <td>0.0</td>\n",
       "      <td>0.0</td>\n",
       "      <td>1.0</td>\n",
       "      <td>837.0</td>\n",
       "      <td>1.0</td>\n",
       "      <td>700569.0</td>\n",
       "      <td>837.0</td>\n",
       "      <td>1.0</td>\n",
       "    </tr>\n",
       "  </tbody>\n",
       "</table>\n",
       "<p>513 rows × 104 columns</p>\n",
       "</div>"
      ],
      "text/plain": [
       "     gr_liv_area    age  age*overall_qual  overall_qual  \\\n",
       "0         1077.0   71.0             355.0           5.0   \n",
       "1         1824.0   39.0             273.0           7.0   \n",
       "2          987.0   38.0             228.0           6.0   \n",
       "3         1798.0  110.0             440.0           4.0   \n",
       "4         1750.0   70.0             420.0           6.0   \n",
       "..           ...    ...               ...           ...   \n",
       "508       1025.0   48.0             240.0           5.0   \n",
       "509       1646.0    6.0              42.0           7.0   \n",
       "510       1652.0   95.0             475.0           5.0   \n",
       "511       1920.0   52.0             260.0           5.0   \n",
       "512       2521.0   37.0             222.0           6.0   \n",
       "\n",
       "     gr_liv_area/totrms_abvgrd  since_remod/add  garage_area  \\\n",
       "0                   215.400000             60.0        205.0   \n",
       "1                   364.800000              8.0        739.0   \n",
       "2                   197.400000             38.0        288.0   \n",
       "3                   256.857143             60.0        342.0   \n",
       "4                   250.000000             25.0        423.0   \n",
       "..                         ...              ...          ...   \n",
       "508                 170.833333             48.0          0.0   \n",
       "509                 329.200000              5.0        482.0   \n",
       "510                 236.000000             60.0        416.0   \n",
       "511                 240.000000             52.0        451.0   \n",
       "512                 252.100000             37.0        576.0   \n",
       "\n",
       "     kitchen_qual_order  total_bsmt_sf  before_1940  ...  before_1940^2  \\\n",
       "0                   2.0          991.0          1.0  ...            1.0   \n",
       "1                   3.0         1643.0          0.0  ...            0.0   \n",
       "2                   2.0          483.0          0.0  ...            0.0   \n",
       "3                   2.0         1075.0          1.0  ...            1.0   \n",
       "4                   2.0          983.0          0.0  ...            0.0   \n",
       "..                  ...            ...          ...  ...            ...   \n",
       "508                 2.0         1025.0          0.0  ...            0.0   \n",
       "509                 4.0         1594.0          0.0  ...            0.0   \n",
       "510                 2.0          686.0          1.0  ...            1.0   \n",
       "511                 3.0         1052.0          0.0  ...            0.0   \n",
       "512                 2.0          942.0          0.0  ...            0.0   \n",
       "\n",
       "     before_1940 over_10  before_1940 bsmtfin_sf_1  before_1940 fireplaces  \\\n",
       "0                    1.0                     851.0                     2.0   \n",
       "1                    0.0                       0.0                     0.0   \n",
       "2                    0.0                       0.0                     0.0   \n",
       "3                    1.0                       0.0                     0.0   \n",
       "4                    0.0                       0.0                     0.0   \n",
       "..                   ...                       ...                     ...   \n",
       "508                  0.0                       0.0                     0.0   \n",
       "509                  0.0                       0.0                     0.0   \n",
       "510                  1.0                     686.0                     0.0   \n",
       "511                  0.0                       0.0                     0.0   \n",
       "512                  0.0                       0.0                     0.0   \n",
       "\n",
       "     over_10^2  over_10 bsmtfin_sf_1  over_10 fireplaces  bsmtfin_sf_1^2  \\\n",
       "0          1.0                 851.0                 2.0        724201.0   \n",
       "1          1.0                1219.0                 2.0       1485961.0   \n",
       "2          1.0                 110.0                 0.0         12100.0   \n",
       "3          1.0                   0.0                 0.0             0.0   \n",
       "4          1.0                 660.0                 0.0        435600.0   \n",
       "..         ...                   ...                 ...             ...   \n",
       "508        1.0                 953.0                 0.0        908209.0   \n",
       "509        0.0                   0.0                 0.0       2172676.0   \n",
       "510        1.0                 686.0                 0.0        470596.0   \n",
       "511        1.0                  57.0                 1.0          3249.0   \n",
       "512        1.0                 837.0                 1.0        700569.0   \n",
       "\n",
       "     bsmtfin_sf_1 fireplaces  fireplaces^2  \n",
       "0                     1702.0           4.0  \n",
       "1                     2438.0           4.0  \n",
       "2                        0.0           0.0  \n",
       "3                        0.0           0.0  \n",
       "4                        0.0           0.0  \n",
       "..                       ...           ...  \n",
       "508                      0.0           0.0  \n",
       "509                   1474.0           1.0  \n",
       "510                      0.0           0.0  \n",
       "511                     57.0           1.0  \n",
       "512                    837.0           1.0  \n",
       "\n",
       "[513 rows x 104 columns]"
      ]
     },
     "execution_count": 404,
     "metadata": {},
     "output_type": "execute_result"
    }
   ],
   "source": [
    "X = features_7\n",
    "y = df['saleprice']\n",
    "X_train, X_test, y_train, y_test = train_test_split(X, y, random_state=42)\n",
    "pf = PolynomialFeatures(include_bias=False)\n",
    "pf.fit(X_train)\n",
    "X_train_pf = pf.transform(X_train)\n",
    "X_test_pf = pf.transform(X_test)\n",
    "pd.DataFrame(X_test_pf, columns=pf.get_feature_names(X.columns))"
   ]
  },
  {
   "cell_type": "code",
   "execution_count": 405,
   "id": "ad146db9-5299-4903-844a-d1031fd8acf5",
   "metadata": {},
   "outputs": [],
   "source": [
    "ss = StandardScaler()                  \n",
    "ss.fit(X_train_pf)\n",
    "Z_train = ss.transform(X_train_pf)\n",
    "Z_test = ss.transform(X_test_pf)"
   ]
  },
  {
   "cell_type": "code",
   "execution_count": 406,
   "id": "02ec0d76-1dbc-4359-b51d-d719e41d27b4",
   "metadata": {},
   "outputs": [
    {
     "data": {
      "text/plain": [
       "(0.9122267489855248, 0.9120243085745157)"
      ]
     },
     "execution_count": 406,
     "metadata": {},
     "output_type": "execute_result"
    }
   ],
   "source": [
    "lr = LinearRegression()\n",
    "lr.fit(Z_train, y_train)\n",
    "lr.score(Z_train, y_train), lr.score(Z_test, y_test)"
   ]
  },
  {
   "cell_type": "code",
   "execution_count": 495,
   "id": "2055bab3-8acb-40a0-a26d-0b6e622295d0",
   "metadata": {},
   "outputs": [],
   "source": [
    "# incorporated here in order to reintroduce 'saleprice' to get corr\n",
    "features_7 = df[['gr_liv_area', 'age', 'age*overall_qual', 'overall_qual', 'gr_liv_area/totrms_abvgrd',\n",
    "                 'since_remod/add', 'garage_area', 'kitchen_qual_order', 'total_bsmt_sf', 'before_1940', 'over_10', 'bsmtfin_sf_1', 'fireplaces','saleprice']]"
   ]
  },
  {
   "cell_type": "code",
   "execution_count": 496,
   "id": "22d6aa3e-ba79-4db4-b88f-93b9a57b3d5a",
   "metadata": {},
   "outputs": [],
   "source": [
    "features_corr_7 = pd.DataFrame(features_7.corr()['saleprice'].sort_values(ascending=False))"
   ]
  },
  {
   "cell_type": "code",
   "execution_count": 482,
   "id": "16912fc7-a757-4a7c-8877-8e6771346d5c",
   "metadata": {},
   "outputs": [
    {
     "data": {
      "image/png": "[encoded data removed]",
      "text/plain": [
       "<Figure size 72x360 with 2 Axes>"
      ]
     },
     "metadata": {
      "needs_background": "light"
     },
     "output_type": "display_data"
    }
   ],
   "source": [
    "plt.figure(figsize=(1,5))\n",
    "sns.heatmap(features_corr_7, vmin=-1, annot=True, cmap='magma');\n"
   ]
  },
  {
   "cell_type": "code",
   "execution_count": null,
   "id": "4b03af13-db40-46d6-815d-6743dbe33a6d",
   "metadata": {},
   "outputs": [],
   "source": [
    "# coef_df = pd.DataFrame({\n",
    "#     'coef': pf.get_feature_names(X.columns),\n",
    "#     'lr coefs': lr.coef_,\n",
    "# })\n",
    "\n",
    "# coef_df.sort_values(by= 'lr coefs', ascending= False).head(15)"
   ]
  },
  {
   "cell_type": "code",
   "execution_count": 409,
   "id": "e200405c-c691-4e4f-aacf-ceeabc1ba56e",
   "metadata": {},
   "outputs": [
    {
     "data": {
      "text/html": [
       "<div>\n",
       "<style scoped>\n",
       "    .dataframe tbody tr th:only-of-type {\n",
       "        vertical-align: middle;\n",
       "    }\n",
       "\n",
       "    .dataframe tbody tr th {\n",
       "        vertical-align: top;\n",
       "    }\n",
       "\n",
       "    .dataframe thead th {\n",
       "        text-align: right;\n",
       "    }\n",
       "</style>\n",
       "<table border=\"1\" class=\"dataframe\">\n",
       "  <thead>\n",
       "    <tr style=\"text-align: right;\">\n",
       "      <th></th>\n",
       "      <th>gr_liv_area</th>\n",
       "      <th>age</th>\n",
       "      <th>age*overall_qual</th>\n",
       "      <th>overall_qual</th>\n",
       "      <th>gr_liv_area/totrms_abvgrd</th>\n",
       "      <th>since_remod/add</th>\n",
       "      <th>garage_area</th>\n",
       "      <th>kitchen_qual_order</th>\n",
       "      <th>total_bsmt_sf</th>\n",
       "      <th>before_1940</th>\n",
       "      <th>over_10</th>\n",
       "      <th>bsmtfin_sf_1</th>\n",
       "      <th>fireplaces</th>\n",
       "      <th>saleprice</th>\n",
       "    </tr>\n",
       "  </thead>\n",
       "  <tbody>\n",
       "    <tr>\n",
       "      <th>gr_liv_area</th>\n",
       "      <td>1.000000</td>\n",
       "      <td>-0.259183</td>\n",
       "      <td>-0.126199</td>\n",
       "      <td>0.566727</td>\n",
       "      <td>0.644838</td>\n",
       "      <td>-0.321619</td>\n",
       "      <td>0.490692</td>\n",
       "      <td>0.443938</td>\n",
       "      <td>0.453846</td>\n",
       "      <td>-0.067819</td>\n",
       "      <td>-0.253665</td>\n",
       "      <td>0.215247</td>\n",
       "      <td>0.458856</td>\n",
       "      <td>0.697032</td>\n",
       "    </tr>\n",
       "    <tr>\n",
       "      <th>age</th>\n",
       "      <td>-0.259183</td>\n",
       "      <td>1.000000</td>\n",
       "      <td>0.935853</td>\n",
       "      <td>-0.602635</td>\n",
       "      <td>-0.291089</td>\n",
       "      <td>0.629989</td>\n",
       "      <td>-0.486986</td>\n",
       "      <td>-0.538064</td>\n",
       "      <td>-0.410185</td>\n",
       "      <td>0.747533</td>\n",
       "      <td>0.672034</td>\n",
       "      <td>-0.275800</td>\n",
       "      <td>-0.167941</td>\n",
       "      <td>-0.571726</td>\n",
       "    </tr>\n",
       "    <tr>\n",
       "      <th>age*overall_qual</th>\n",
       "      <td>-0.126199</td>\n",
       "      <td>0.935853</td>\n",
       "      <td>1.000000</td>\n",
       "      <td>-0.366833</td>\n",
       "      <td>-0.165476</td>\n",
       "      <td>0.533598</td>\n",
       "      <td>-0.397541</td>\n",
       "      <td>-0.431439</td>\n",
       "      <td>-0.321890</td>\n",
       "      <td>0.721360</td>\n",
       "      <td>0.641186</td>\n",
       "      <td>-0.233589</td>\n",
       "      <td>-0.054707</td>\n",
       "      <td>-0.433913</td>\n",
       "    </tr>\n",
       "    <tr>\n",
       "      <th>overall_qual</th>\n",
       "      <td>0.566727</td>\n",
       "      <td>-0.602635</td>\n",
       "      <td>-0.366833</td>\n",
       "      <td>1.000000</td>\n",
       "      <td>0.502222</td>\n",
       "      <td>-0.584594</td>\n",
       "      <td>0.563578</td>\n",
       "      <td>0.691017</td>\n",
       "      <td>0.548681</td>\n",
       "      <td>-0.250484</td>\n",
       "      <td>-0.584754</td>\n",
       "      <td>0.278875</td>\n",
       "      <td>0.388326</td>\n",
       "      <td>0.800028</td>\n",
       "    </tr>\n",
       "    <tr>\n",
       "      <th>gr_liv_area/totrms_abvgrd</th>\n",
       "      <td>0.644838</td>\n",
       "      <td>-0.291089</td>\n",
       "      <td>-0.165476</td>\n",
       "      <td>0.502222</td>\n",
       "      <td>1.000000</td>\n",
       "      <td>-0.312751</td>\n",
       "      <td>0.393584</td>\n",
       "      <td>0.401929</td>\n",
       "      <td>0.379951</td>\n",
       "      <td>-0.116981</td>\n",
       "      <td>-0.229039</td>\n",
       "      <td>0.267342</td>\n",
       "      <td>0.377145</td>\n",
       "      <td>0.546745</td>\n",
       "    </tr>\n",
       "    <tr>\n",
       "      <th>since_remod/add</th>\n",
       "      <td>-0.321619</td>\n",
       "      <td>0.629989</td>\n",
       "      <td>0.533598</td>\n",
       "      <td>-0.584594</td>\n",
       "      <td>-0.312751</td>\n",
       "      <td>1.000000</td>\n",
       "      <td>-0.398623</td>\n",
       "      <td>-0.617431</td>\n",
       "      <td>-0.308749</td>\n",
       "      <td>0.278631</td>\n",
       "      <td>0.610380</td>\n",
       "      <td>-0.166624</td>\n",
       "      <td>-0.138606</td>\n",
       "      <td>-0.550142</td>\n",
       "    </tr>\n",
       "    <tr>\n",
       "      <th>garage_area</th>\n",
       "      <td>0.490692</td>\n",
       "      <td>-0.486986</td>\n",
       "      <td>-0.397541</td>\n",
       "      <td>0.563578</td>\n",
       "      <td>0.393584</td>\n",
       "      <td>-0.398623</td>\n",
       "      <td>1.000000</td>\n",
       "      <td>0.485867</td>\n",
       "      <td>0.488805</td>\n",
       "      <td>-0.292447</td>\n",
       "      <td>-0.394969</td>\n",
       "      <td>0.331611</td>\n",
       "      <td>0.291368</td>\n",
       "      <td>0.650097</td>\n",
       "    </tr>\n",
       "    <tr>\n",
       "      <th>kitchen_qual_order</th>\n",
       "      <td>0.443938</td>\n",
       "      <td>-0.538064</td>\n",
       "      <td>-0.431439</td>\n",
       "      <td>0.691017</td>\n",
       "      <td>0.401929</td>\n",
       "      <td>-0.617431</td>\n",
       "      <td>0.485867</td>\n",
       "      <td>1.000000</td>\n",
       "      <td>0.438450</td>\n",
       "      <td>-0.231343</td>\n",
       "      <td>-0.593766</td>\n",
       "      <td>0.253942</td>\n",
       "      <td>0.259590</td>\n",
       "      <td>0.692481</td>\n",
       "    </tr>\n",
       "    <tr>\n",
       "      <th>total_bsmt_sf</th>\n",
       "      <td>0.453846</td>\n",
       "      <td>-0.410185</td>\n",
       "      <td>-0.321890</td>\n",
       "      <td>0.548681</td>\n",
       "      <td>0.379951</td>\n",
       "      <td>-0.308749</td>\n",
       "      <td>0.488805</td>\n",
       "      <td>0.438450</td>\n",
       "      <td>1.000000</td>\n",
       "      <td>-0.263279</td>\n",
       "      <td>-0.348805</td>\n",
       "      <td>0.539081</td>\n",
       "      <td>0.332986</td>\n",
       "      <td>0.628894</td>\n",
       "    </tr>\n",
       "    <tr>\n",
       "      <th>before_1940</th>\n",
       "      <td>-0.067819</td>\n",
       "      <td>0.747533</td>\n",
       "      <td>0.721360</td>\n",
       "      <td>-0.250484</td>\n",
       "      <td>-0.116981</td>\n",
       "      <td>0.278631</td>\n",
       "      <td>-0.292447</td>\n",
       "      <td>-0.231343</td>\n",
       "      <td>-0.263279</td>\n",
       "      <td>1.000000</td>\n",
       "      <td>0.268386</td>\n",
       "      <td>-0.270722</td>\n",
       "      <td>-0.116783</td>\n",
       "      <td>-0.291918</td>\n",
       "    </tr>\n",
       "    <tr>\n",
       "      <th>over_10</th>\n",
       "      <td>-0.253665</td>\n",
       "      <td>0.672034</td>\n",
       "      <td>0.641186</td>\n",
       "      <td>-0.584754</td>\n",
       "      <td>-0.229039</td>\n",
       "      <td>0.610380</td>\n",
       "      <td>-0.394969</td>\n",
       "      <td>-0.593766</td>\n",
       "      <td>-0.348805</td>\n",
       "      <td>0.268386</td>\n",
       "      <td>1.000000</td>\n",
       "      <td>-0.091428</td>\n",
       "      <td>-0.084942</td>\n",
       "      <td>-0.521499</td>\n",
       "    </tr>\n",
       "    <tr>\n",
       "      <th>bsmtfin_sf_1</th>\n",
       "      <td>0.215247</td>\n",
       "      <td>-0.275800</td>\n",
       "      <td>-0.233589</td>\n",
       "      <td>0.278875</td>\n",
       "      <td>0.267342</td>\n",
       "      <td>-0.166624</td>\n",
       "      <td>0.331611</td>\n",
       "      <td>0.253942</td>\n",
       "      <td>0.539081</td>\n",
       "      <td>-0.270722</td>\n",
       "      <td>-0.091428</td>\n",
       "      <td>1.000000</td>\n",
       "      <td>0.298676</td>\n",
       "      <td>0.423583</td>\n",
       "    </tr>\n",
       "    <tr>\n",
       "      <th>fireplaces</th>\n",
       "      <td>0.458856</td>\n",
       "      <td>-0.167941</td>\n",
       "      <td>-0.054707</td>\n",
       "      <td>0.388326</td>\n",
       "      <td>0.377145</td>\n",
       "      <td>-0.138606</td>\n",
       "      <td>0.291368</td>\n",
       "      <td>0.259590</td>\n",
       "      <td>0.332986</td>\n",
       "      <td>-0.116783</td>\n",
       "      <td>-0.084942</td>\n",
       "      <td>0.298676</td>\n",
       "      <td>1.000000</td>\n",
       "      <td>0.470740</td>\n",
       "    </tr>\n",
       "    <tr>\n",
       "      <th>saleprice</th>\n",
       "      <td>0.697032</td>\n",
       "      <td>-0.571726</td>\n",
       "      <td>-0.433913</td>\n",
       "      <td>0.800028</td>\n",
       "      <td>0.546745</td>\n",
       "      <td>-0.550142</td>\n",
       "      <td>0.650097</td>\n",
       "      <td>0.692481</td>\n",
       "      <td>0.628894</td>\n",
       "      <td>-0.291918</td>\n",
       "      <td>-0.521499</td>\n",
       "      <td>0.423583</td>\n",
       "      <td>0.470740</td>\n",
       "      <td>1.000000</td>\n",
       "    </tr>\n",
       "  </tbody>\n",
       "</table>\n",
       "</div>"
      ],
      "text/plain": [
       "                           gr_liv_area       age  age*overall_qual  \\\n",
       "gr_liv_area                   1.000000 -0.259183         -0.126199   \n",
       "age                          -0.259183  1.000000          0.935853   \n",
       "age*overall_qual             -0.126199  0.935853          1.000000   \n",
       "overall_qual                  0.566727 -0.602635         -0.366833   \n",
       "gr_liv_area/totrms_abvgrd     0.644838 -0.291089         -0.165476   \n",
       "since_remod/add              -0.321619  0.629989          0.533598   \n",
       "garage_area                   0.490692 -0.486986         -0.397541   \n",
       "kitchen_qual_order            0.443938 -0.538064         -0.431439   \n",
       "total_bsmt_sf                 0.453846 -0.410185         -0.321890   \n",
       "before_1940                  -0.067819  0.747533          0.721360   \n",
       "over_10                      -0.253665  0.672034          0.641186   \n",
       "bsmtfin_sf_1                  0.215247 -0.275800         -0.233589   \n",
       "fireplaces                    0.458856 -0.167941         -0.054707   \n",
       "saleprice                     0.697032 -0.571726         -0.433913   \n",
       "\n",
       "                           overall_qual  gr_liv_area/totrms_abvgrd  \\\n",
       "gr_liv_area                    0.566727                   0.644838   \n",
       "age                           -0.602635                  -0.291089   \n",
       "age*overall_qual              -0.366833                  -0.165476   \n",
       "overall_qual                   1.000000                   0.502222   \n",
       "gr_liv_area/totrms_abvgrd      0.502222                   1.000000   \n",
       "since_remod/add               -0.584594                  -0.312751   \n",
       "garage_area                    0.563578                   0.393584   \n",
       "kitchen_qual_order             0.691017                   0.401929   \n",
       "total_bsmt_sf                  0.548681                   0.379951   \n",
       "before_1940                   -0.250484                  -0.116981   \n",
       "over_10                       -0.584754                  -0.229039   \n",
       "bsmtfin_sf_1                   0.278875                   0.267342   \n",
       "fireplaces                     0.388326                   0.377145   \n",
       "saleprice                      0.800028                   0.546745   \n",
       "\n",
       "                           since_remod/add  garage_area  kitchen_qual_order  \\\n",
       "gr_liv_area                      -0.321619     0.490692            0.443938   \n",
       "age                               0.629989    -0.486986           -0.538064   \n",
       "age*overall_qual                  0.533598    -0.397541           -0.431439   \n",
       "overall_qual                     -0.584594     0.563578            0.691017   \n",
       "gr_liv_area/totrms_abvgrd        -0.312751     0.393584            0.401929   \n",
       "since_remod/add                   1.000000    -0.398623           -0.617431   \n",
       "garage_area                      -0.398623     1.000000            0.485867   \n",
       "kitchen_qual_order               -0.617431     0.485867            1.000000   \n",
       "total_bsmt_sf                    -0.308749     0.488805            0.438450   \n",
       "before_1940                       0.278631    -0.292447           -0.231343   \n",
       "over_10                           0.610380    -0.394969           -0.593766   \n",
       "bsmtfin_sf_1                     -0.166624     0.331611            0.253942   \n",
       "fireplaces                       -0.138606     0.291368            0.259590   \n",
       "saleprice                        -0.550142     0.650097            0.692481   \n",
       "\n",
       "                           total_bsmt_sf  before_1940   over_10  bsmtfin_sf_1  \\\n",
       "gr_liv_area                     0.453846    -0.067819 -0.253665      0.215247   \n",
       "age                            -0.410185     0.747533  0.672034     -0.275800   \n",
       "age*overall_qual               -0.321890     0.721360  0.641186     -0.233589   \n",
       "overall_qual                    0.548681    -0.250484 -0.584754      0.278875   \n",
       "gr_liv_area/totrms_abvgrd       0.379951    -0.116981 -0.229039      0.267342   \n",
       "since_remod/add                -0.308749     0.278631  0.610380     -0.166624   \n",
       "garage_area                     0.488805    -0.292447 -0.394969      0.331611   \n",
       "kitchen_qual_order              0.438450    -0.231343 -0.593766      0.253942   \n",
       "total_bsmt_sf                   1.000000    -0.263279 -0.348805      0.539081   \n",
       "before_1940                    -0.263279     1.000000  0.268386     -0.270722   \n",
       "over_10                        -0.348805     0.268386  1.000000     -0.091428   \n",
       "bsmtfin_sf_1                    0.539081    -0.270722 -0.091428      1.000000   \n",
       "fireplaces                      0.332986    -0.116783 -0.084942      0.298676   \n",
       "saleprice                       0.628894    -0.291918 -0.521499      0.423583   \n",
       "\n",
       "                           fireplaces  saleprice  \n",
       "gr_liv_area                  0.458856   0.697032  \n",
       "age                         -0.167941  -0.571726  \n",
       "age*overall_qual            -0.054707  -0.433913  \n",
       "overall_qual                 0.388326   0.800028  \n",
       "gr_liv_area/totrms_abvgrd    0.377145   0.546745  \n",
       "since_remod/add             -0.138606  -0.550142  \n",
       "garage_area                  0.291368   0.650097  \n",
       "kitchen_qual_order           0.259590   0.692481  \n",
       "total_bsmt_sf                0.332986   0.628894  \n",
       "before_1940                 -0.116783  -0.291918  \n",
       "over_10                     -0.084942  -0.521499  \n",
       "bsmtfin_sf_1                 0.298676   0.423583  \n",
       "fireplaces                   1.000000   0.470740  \n",
       "saleprice                    0.470740   1.000000  "
      ]
     },
     "execution_count": 409,
     "metadata": {},
     "output_type": "execute_result"
    }
   ],
   "source": [
    "features_7.corr()"
   ]
  },
  {
   "cell_type": "code",
   "execution_count": 448,
   "id": "a436d7f2-dbac-4bde-98f8-c352630f6329",
   "metadata": {},
   "outputs": [
    {
     "data": {
      "text/plain": [
       "-1565.50272177213"
      ]
     },
     "execution_count": 448,
     "metadata": {},
     "output_type": "execute_result"
    }
   ],
   "source": [
    "y_preds = pipe_lr.predict(X_test)\n",
    "resids = y_test-y_preds\n",
    "resids.mean()"
   ]
  },
  {
   "cell_type": "code",
   "execution_count": 412,
   "id": "7519546a-bc49-43db-861c-c7633a06f703",
   "metadata": {},
   "outputs": [
    {
     "name": "stdout",
     "output_type": "stream",
     "text": [
      "MAE = 16617.504524665263\n",
      "RMSE = 23654.242798837895\n",
      "CVS = 0.8716905934115671\n"
     ]
    }
   ],
   "source": [
    "mae = mean_absolute_error(y_test, y_preds)\n",
    "print(f'MAE = {mae}')\n",
    "mse = mean_squared_error(y_test, y_preds, squared=False) \n",
    "print(f'RMSE = {mse}')\n",
    "cvs = cross_val_score(pipe_lr, X_train, y_train, cv=5).mean()\n",
    "print(f'CVS = {cvs}')"
   ]
  },
  {
   "cell_type": "code",
   "execution_count": 453,
   "id": "59222930-962d-431d-8516-65ccd7cc2c21",
   "metadata": {},
   "outputs": [
    {
     "data": {
      "text/plain": [
       "Text(0.5, 0, 'Predicted housing price in dollars($)')"
      ]
     },
     "execution_count": 453,
     "metadata": {},
     "output_type": "execute_result"
    },
    {
     "data": {
      "image/png": "[encoded data removed]",
      "text/plain": [
       "<Figure size 648x432 with 1 Axes>"
      ]
     },
     "metadata": {
      "needs_background": "light"
     },
     "output_type": "display_data"
    }
   ],
   "source": [
    "plt.figure(figsize=(9,6))\n",
    "plt.scatter(y_preds, resids)\n",
    "plt.axhline(0, color='purple')\n",
    "plt.ylim(-250000, 250000)\n",
    "plt.title(\"Predicitions vs Error\")\n",
    "plt.ylabel('Residuals in dollars($)')\n",
    "plt.xlabel('Predicted housing price in dollars($)')"
   ]
  },
  {
   "cell_type": "code",
   "execution_count": 454,
   "id": "a8d24d02-fed4-49bc-ade4-fec57a2793b8",
   "metadata": {},
   "outputs": [
    {
     "data": {
      "text/plain": [
       "Text(0.5, 0, 'Predicted pricing in dollars($)')"
      ]
     },
     "execution_count": 454,
     "metadata": {},
     "output_type": "execute_result"
    },
    {
     "data": {
      "image/png": "[encoded data removed]",
      "text/plain": [
       "<Figure size 648x432 with 1 Axes>"
      ]
     },
     "metadata": {
      "needs_background": "light"
     },
     "output_type": "display_data"
    }
   ],
   "source": [
    "plt.figure(figsize=(9,6))\n",
    "plt.scatter(y_test, y_preds)\n",
    "plt.title(\"Predicitions vs Actual Housing Price\")\n",
    "plt.ylabel('Actual prices in dollars($)')\n",
    "plt.xlabel('Predicted pricing in dollars($)')"
   ]
  },
  {
   "cell_type": "code",
   "execution_count": 424,
   "id": "a96a31da-d1b6-4579-bb29-bd34a3c27d3a",
   "metadata": {},
   "outputs": [],
   "source": [
    "coefficients_lr_model = pd.DataFrame((list(zip(lr.coef_, features_7))))"
   ]
  },
  {
   "cell_type": "code",
   "execution_count": 459,
   "id": "dc1c7587-cb56-46fd-8ced-26332cf22b1b",
   "metadata": {},
   "outputs": [
    {
     "data": {
      "text/html": [
       "<div>\n",
       "<style scoped>\n",
       "    .dataframe tbody tr th:only-of-type {\n",
       "        vertical-align: middle;\n",
       "    }\n",
       "\n",
       "    .dataframe tbody tr th {\n",
       "        vertical-align: top;\n",
       "    }\n",
       "\n",
       "    .dataframe thead th {\n",
       "        text-align: right;\n",
       "    }\n",
       "</style>\n",
       "<table border=\"1\" class=\"dataframe\">\n",
       "  <thead>\n",
       "    <tr style=\"text-align: right;\">\n",
       "      <th></th>\n",
       "      <th>coefficients</th>\n",
       "      <th>feature</th>\n",
       "    </tr>\n",
       "  </thead>\n",
       "  <tbody>\n",
       "    <tr>\n",
       "      <th>1</th>\n",
       "      <td>290705.767514</td>\n",
       "      <td>age</td>\n",
       "    </tr>\n",
       "    <tr>\n",
       "      <th>2</th>\n",
       "      <td>194009.993981</td>\n",
       "      <td>age*overall_qual</td>\n",
       "    </tr>\n",
       "    <tr>\n",
       "      <th>3</th>\n",
       "      <td>55197.869144</td>\n",
       "      <td>overall_qual</td>\n",
       "    </tr>\n",
       "    <tr>\n",
       "      <th>5</th>\n",
       "      <td>53865.109632</td>\n",
       "      <td>since_remod/add</td>\n",
       "    </tr>\n",
       "    <tr>\n",
       "      <th>7</th>\n",
       "      <td>24838.040579</td>\n",
       "      <td>kitchen_qual_order</td>\n",
       "    </tr>\n",
       "    <tr>\n",
       "      <th>4</th>\n",
       "      <td>22142.163292</td>\n",
       "      <td>gr_liv_area/totrms_abvgrd</td>\n",
       "    </tr>\n",
       "    <tr>\n",
       "      <th>0</th>\n",
       "      <td>21764.462294</td>\n",
       "      <td>gr_liv_area</td>\n",
       "    </tr>\n",
       "    <tr>\n",
       "      <th>10</th>\n",
       "      <td>17996.559166</td>\n",
       "      <td>over_10</td>\n",
       "    </tr>\n",
       "    <tr>\n",
       "      <th>8</th>\n",
       "      <td>14684.958133</td>\n",
       "      <td>total_bsmt_sf</td>\n",
       "    </tr>\n",
       "    <tr>\n",
       "      <th>12</th>\n",
       "      <td>14033.137067</td>\n",
       "      <td>fireplaces</td>\n",
       "    </tr>\n",
       "    <tr>\n",
       "      <th>6</th>\n",
       "      <td>13153.995415</td>\n",
       "      <td>garage_area</td>\n",
       "    </tr>\n",
       "    <tr>\n",
       "      <th>11</th>\n",
       "      <td>6653.720831</td>\n",
       "      <td>bsmtfin_sf_1</td>\n",
       "    </tr>\n",
       "    <tr>\n",
       "      <th>9</th>\n",
       "      <td>1456.500368</td>\n",
       "      <td>before_1940</td>\n",
       "    </tr>\n",
       "  </tbody>\n",
       "</table>\n",
       "</div>"
      ],
      "text/plain": [
       "     coefficients                    feature\n",
       "1   290705.767514                        age\n",
       "2   194009.993981           age*overall_qual\n",
       "3    55197.869144               overall_qual\n",
       "5    53865.109632            since_remod/add\n",
       "7    24838.040579         kitchen_qual_order\n",
       "4    22142.163292  gr_liv_area/totrms_abvgrd\n",
       "0    21764.462294                gr_liv_area\n",
       "10   17996.559166                    over_10\n",
       "8    14684.958133              total_bsmt_sf\n",
       "12   14033.137067                 fireplaces\n",
       "6    13153.995415                garage_area\n",
       "11    6653.720831               bsmtfin_sf_1\n",
       "9     1456.500368                before_1940"
      ]
     },
     "execution_count": 459,
     "metadata": {},
     "output_type": "execute_result"
    }
   ],
   "source": [
    "coefficients_lr_model.rename(columns={0: 'coefficient', 1: 'feature'}, inplace=True)\n",
    "\n",
    "coefficients_lr_model['coefficients'] = [abs(n) for n in coefficients_lr_model['coefficients']]\n",
    "coefficients_lr_model.sort_values(by='coefficients', ascending=False)"
   ]
  },
  {
   "cell_type": "code",
   "execution_count": 462,
   "id": "08c1feea-44d5-4ae6-882e-f6a79a5634db",
   "metadata": {},
   "outputs": [
    {
     "data": {
      "text/html": [
       "<div>\n",
       "<style scoped>\n",
       "    .dataframe tbody tr th:only-of-type {\n",
       "        vertical-align: middle;\n",
       "    }\n",
       "\n",
       "    .dataframe tbody tr th {\n",
       "        vertical-align: top;\n",
       "    }\n",
       "\n",
       "    .dataframe thead th {\n",
       "        text-align: right;\n",
       "    }\n",
       "</style>\n",
       "<table border=\"1\" class=\"dataframe\">\n",
       "  <thead>\n",
       "    <tr style=\"text-align: right;\">\n",
       "      <th></th>\n",
       "      <th>coefficients</th>\n",
       "      <th>feature</th>\n",
       "    </tr>\n",
       "  </thead>\n",
       "  <tbody>\n",
       "    <tr>\n",
       "      <th>1</th>\n",
       "      <td>290705.767514</td>\n",
       "      <td>age</td>\n",
       "    </tr>\n",
       "    <tr>\n",
       "      <th>2</th>\n",
       "      <td>194009.993981</td>\n",
       "      <td>age*overall_qual</td>\n",
       "    </tr>\n",
       "    <tr>\n",
       "      <th>3</th>\n",
       "      <td>55197.869144</td>\n",
       "      <td>overall_qual</td>\n",
       "    </tr>\n",
       "    <tr>\n",
       "      <th>5</th>\n",
       "      <td>53865.109632</td>\n",
       "      <td>since_remod/add</td>\n",
       "    </tr>\n",
       "    <tr>\n",
       "      <th>7</th>\n",
       "      <td>24838.040579</td>\n",
       "      <td>kitchen_qual_order</td>\n",
       "    </tr>\n",
       "    <tr>\n",
       "      <th>4</th>\n",
       "      <td>22142.163292</td>\n",
       "      <td>gr_liv_area/totrms_abvgrd</td>\n",
       "    </tr>\n",
       "  </tbody>\n",
       "</table>\n",
       "</div>"
      ],
      "text/plain": [
       "    coefficients                    feature\n",
       "1  290705.767514                        age\n",
       "2  194009.993981           age*overall_qual\n",
       "3   55197.869144               overall_qual\n",
       "5   53865.109632            since_remod/add\n",
       "7   24838.040579         kitchen_qual_order\n",
       "4   22142.163292  gr_liv_area/totrms_abvgrd"
      ]
     },
     "execution_count": 462,
     "metadata": {},
     "output_type": "execute_result"
    }
   ],
   "source": [
    "coefficients_lr_model.sort_values(by='coefficients', ascending=False).head(6)"
   ]
  },
  {
   "cell_type": "code",
   "execution_count": 518,
   "id": "bf7fc6cf-7318-4f48-b61c-4e47e1926117",
   "metadata": {},
   "outputs": [
    {
     "data": {
      "text/plain": [
       "<matplotlib.legend.Legend at 0x1994f59cee0>"
      ]
     },
     "execution_count": 518,
     "metadata": {},
     "output_type": "execute_result"
    },
    {
     "data": {
      "image/png": "[encoded data removed]",
      "text/plain": [
       "<Figure size 648x432 with 1 Axes>"
      ]
     },
     "metadata": {
      "needs_background": "light"
     },
     "output_type": "display_data"
    }
   ],
   "source": [
    "plt.figure(figsize=(9,6))\n",
    "colors=['tab:blue', 'orange']\n",
    "hist_test = plt.hist(y_test, bins= 25, color='tab:blue')\n",
    "hist_preds = plt.hist(y_preds, bins=25,  color='orange', alpha=.75)\n",
    "plt.title('Histogram of Predictions and Actual')\n",
    "plt.ylabel('Count of prices')\n",
    "plt.xlabel('Prices')\n",
    "plt.legend(('Actual', 'Predictions'))"
   ]
  },
  {
   "cell_type": "code",
   "execution_count": null,
   "id": "62fb16cb-abc1-4845-b0c6-206738273a07",
   "metadata": {},
   "outputs": [],
   "source": []
  },
  {
   "cell_type": "code",
   "execution_count": null,
   "id": "9cfa04c0-80a3-44cd-8123-b34c1bace0bb",
   "metadata": {},
   "outputs": [],
   "source": []
  },
  {
   "cell_type": "code",
   "execution_count": 395,
   "id": "34fd22d2-081d-43af-a1e9-e3663b080d50",
   "metadata": {},
   "outputs": [
    {
     "name": "stderr",
     "output_type": "stream",
     "text": [
      "C:\\Users\\mmoli\\anaconda3\\lib\\site-packages\\sklearn\\linear_model\\_coordinate_descent.py:526: ConvergenceWarning: Objective did not converge. You might want to increase the number of iterations. Duality gap: 885768184.7346191, tolerance: 787358189.9797889\n",
      "  model = cd_fast.enet_coordinate_descent_gram(\n",
      "C:\\Users\\mmoli\\anaconda3\\lib\\site-packages\\sklearn\\linear_model\\_coordinate_descent.py:526: ConvergenceWarning: Objective did not converge. You might want to increase the number of iterations. Duality gap: 810184439.9365234, tolerance: 776863606.6445853\n",
      "  model = cd_fast.enet_coordinate_descent_gram(\n",
      "C:\\Users\\mmoli\\anaconda3\\lib\\site-packages\\sklearn\\linear_model\\_coordinate_descent.py:526: ConvergenceWarning: Objective did not converge. You might want to increase the number of iterations. Duality gap: 878691524.2617188, tolerance: 776863606.6445853\n",
      "  model = cd_fast.enet_coordinate_descent_gram(\n",
      "C:\\Users\\mmoli\\anaconda3\\lib\\site-packages\\sklearn\\linear_model\\_coordinate_descent.py:526: ConvergenceWarning: Objective did not converge. You might want to increase the number of iterations. Duality gap: 881536629.3703613, tolerance: 776863606.6445853\n",
      "  model = cd_fast.enet_coordinate_descent_gram(\n",
      "C:\\Users\\mmoli\\anaconda3\\lib\\site-packages\\sklearn\\linear_model\\_coordinate_descent.py:530: ConvergenceWarning: Objective did not converge. You might want to increase the number of iterations. Duality gap: 29909698905.733643, tolerance: 960340167.395799\n",
      "  model = cd_fast.enet_coordinate_descent(\n"
     ]
    }
   ],
   "source": [
    "pipe_lcv.fit(X_train, y_train);"
   ]
  },
  {
   "cell_type": "code",
   "execution_count": null,
   "id": "826205a3-6155-4136-8a11-debe558545b8",
   "metadata": {},
   "outputs": [],
   "source": []
  },
  {
   "cell_type": "code",
   "execution_count": 396,
   "id": "9a2535ed-4004-4193-a13e-0b427899b937",
   "metadata": {},
   "outputs": [
    {
     "data": {
      "text/plain": [
       "(0.9081088183294221, 0.911231719440444)"
      ]
     },
     "execution_count": 396,
     "metadata": {},
     "output_type": "execute_result"
    }
   ],
   "source": [
    "pipe_lcv.score(X_train, y_train) , pipe_lcv.score(X_test, y_test)"
   ]
  },
  {
   "cell_type": "code",
   "execution_count": null,
   "id": "e447096b-1f23-44dc-9289-02c9ef0a652a",
   "metadata": {},
   "outputs": [],
   "source": []
  },
  {
   "cell_type": "code",
   "execution_count": 36,
   "id": "a6d402d0-c746-4af5-9e59-065402b69394",
   "metadata": {},
   "outputs": [],
   "source": [
    "y_preds = pipe_lcv.predict(X_test)\n",
    "resids = y_test-y_preds        "
   ]
  },
  {
   "cell_type": "code",
   "execution_count": 37,
   "id": "f9056189-ba6c-4cab-b7b8-ce610f1730f9",
   "metadata": {},
   "outputs": [
    {
     "name": "stdout",
     "output_type": "stream",
     "text": [
      "MAE = 16020.614922399329\n",
      "RMSE = 22703.169003555427\n"
     ]
    },
    {
     "name": "stderr",
     "output_type": "stream",
     "text": [
      "C:\\Users\\mmoli\\anaconda3\\lib\\site-packages\\sklearn\\linear_model\\_coordinate_descent.py:526: ConvergenceWarning: Objective did not converge. You might want to increase the number of iterations. Duality gap: 668617084.3460693, tolerance: 623801655.5667152\n",
      "  model = cd_fast.enet_coordinate_descent_gram(\n",
      "C:\\Users\\mmoli\\anaconda3\\lib\\site-packages\\sklearn\\linear_model\\_coordinate_descent.py:526: ConvergenceWarning: Objective did not converge. You might want to increase the number of iterations. Duality gap: 798029558.730957, tolerance: 623801655.5667152\n",
      "  model = cd_fast.enet_coordinate_descent_gram(\n",
      "C:\\Users\\mmoli\\anaconda3\\lib\\site-packages\\sklearn\\linear_model\\_coordinate_descent.py:526: ConvergenceWarning: Objective did not converge. You might want to increase the number of iterations. Duality gap: 825094644.2859497, tolerance: 623801655.5667152\n",
      "  model = cd_fast.enet_coordinate_descent_gram(\n",
      "C:\\Users\\mmoli\\anaconda3\\lib\\site-packages\\sklearn\\linear_model\\_coordinate_descent.py:526: ConvergenceWarning: Objective did not converge. You might want to increase the number of iterations. Duality gap: 683658715.2808838, tolerance: 623801655.5667152\n",
      "  model = cd_fast.enet_coordinate_descent_gram(\n",
      "C:\\Users\\mmoli\\anaconda3\\lib\\site-packages\\sklearn\\linear_model\\_coordinate_descent.py:526: ConvergenceWarning: Objective did not converge. You might want to increase the number of iterations. Duality gap: 786718636.0704346, tolerance: 627860919.1319997\n",
      "  model = cd_fast.enet_coordinate_descent_gram(\n",
      "C:\\Users\\mmoli\\anaconda3\\lib\\site-packages\\sklearn\\linear_model\\_coordinate_descent.py:526: ConvergenceWarning: Objective did not converge. You might want to increase the number of iterations. Duality gap: 964330019.7044678, tolerance: 627860919.1319997\n",
      "  model = cd_fast.enet_coordinate_descent_gram(\n",
      "C:\\Users\\mmoli\\anaconda3\\lib\\site-packages\\sklearn\\linear_model\\_coordinate_descent.py:526: ConvergenceWarning: Objective did not converge. You might want to increase the number of iterations. Duality gap: 1084199036.355713, tolerance: 627860919.1319997\n",
      "  model = cd_fast.enet_coordinate_descent_gram(\n",
      "C:\\Users\\mmoli\\anaconda3\\lib\\site-packages\\sklearn\\linear_model\\_coordinate_descent.py:526: ConvergenceWarning: Objective did not converge. You might want to increase the number of iterations. Duality gap: 1732511322.2496948, tolerance: 627860919.1319997\n",
      "  model = cd_fast.enet_coordinate_descent_gram(\n",
      "C:\\Users\\mmoli\\anaconda3\\lib\\site-packages\\sklearn\\linear_model\\_coordinate_descent.py:526: ConvergenceWarning: Objective did not converge. You might want to increase the number of iterations. Duality gap: 1654023898.272461, tolerance: 627860919.1319997\n",
      "  model = cd_fast.enet_coordinate_descent_gram(\n",
      "C:\\Users\\mmoli\\anaconda3\\lib\\site-packages\\sklearn\\linear_model\\_coordinate_descent.py:526: ConvergenceWarning: Objective did not converge. You might want to increase the number of iterations. Duality gap: 685869085.3460693, tolerance: 606911609.0730424\n",
      "  model = cd_fast.enet_coordinate_descent_gram(\n",
      "C:\\Users\\mmoli\\anaconda3\\lib\\site-packages\\sklearn\\linear_model\\_coordinate_descent.py:526: ConvergenceWarning: Objective did not converge. You might want to increase the number of iterations. Duality gap: 862668888.3432617, tolerance: 629399010.5651854\n",
      "  model = cd_fast.enet_coordinate_descent_gram(\n",
      "C:\\Users\\mmoli\\anaconda3\\lib\\site-packages\\sklearn\\linear_model\\_coordinate_descent.py:526: ConvergenceWarning: Objective did not converge. You might want to increase the number of iterations. Duality gap: 987131630.5478516, tolerance: 629399010.5651854\n",
      "  model = cd_fast.enet_coordinate_descent_gram(\n",
      "C:\\Users\\mmoli\\anaconda3\\lib\\site-packages\\sklearn\\linear_model\\_coordinate_descent.py:526: ConvergenceWarning: Objective did not converge. You might want to increase the number of iterations. Duality gap: 869636555.4226685, tolerance: 629399010.5651854\n",
      "  model = cd_fast.enet_coordinate_descent_gram(\n",
      "C:\\Users\\mmoli\\anaconda3\\lib\\site-packages\\sklearn\\linear_model\\_coordinate_descent.py:526: ConvergenceWarning: Objective did not converge. You might want to increase the number of iterations. Duality gap: 1020098506.9935303, tolerance: 623149737.8227651\n",
      "  model = cd_fast.enet_coordinate_descent_gram(\n",
      "C:\\Users\\mmoli\\anaconda3\\lib\\site-packages\\sklearn\\linear_model\\_coordinate_descent.py:530: ConvergenceWarning: Objective did not converge. You might want to increase the number of iterations. Duality gap: 1559669592.2581177, tolerance: 787358189.9797889\n",
      "  model = cd_fast.enet_coordinate_descent(\n",
      "C:\\Users\\mmoli\\anaconda3\\lib\\site-packages\\sklearn\\linear_model\\_coordinate_descent.py:526: ConvergenceWarning: Objective did not converge. You might want to increase the number of iterations. Duality gap: 740425320.7372437, tolerance: 618754994.247376\n",
      "  model = cd_fast.enet_coordinate_descent_gram(\n",
      "C:\\Users\\mmoli\\anaconda3\\lib\\site-packages\\sklearn\\linear_model\\_coordinate_descent.py:526: ConvergenceWarning: Objective did not converge. You might want to increase the number of iterations. Duality gap: 655342997.9876709, tolerance: 618754994.247376\n",
      "  model = cd_fast.enet_coordinate_descent_gram(\n",
      "C:\\Users\\mmoli\\anaconda3\\lib\\site-packages\\sklearn\\linear_model\\_coordinate_descent.py:526: ConvergenceWarning: Objective did not converge. You might want to increase the number of iterations. Duality gap: 677354213.1984863, tolerance: 654196246.395621\n",
      "  model = cd_fast.enet_coordinate_descent_gram(\n",
      "C:\\Users\\mmoli\\anaconda3\\lib\\site-packages\\sklearn\\linear_model\\_coordinate_descent.py:526: ConvergenceWarning: Objective did not converge. You might want to increase the number of iterations. Duality gap: 679640823.1356812, tolerance: 654196246.395621\n",
      "  model = cd_fast.enet_coordinate_descent_gram(\n",
      "C:\\Users\\mmoli\\anaconda3\\lib\\site-packages\\sklearn\\linear_model\\_coordinate_descent.py:526: ConvergenceWarning: Objective did not converge. You might want to increase the number of iterations. Duality gap: 1050141442.847168, tolerance: 654196246.395621\n",
      "  model = cd_fast.enet_coordinate_descent_gram(\n",
      "C:\\Users\\mmoli\\anaconda3\\lib\\site-packages\\sklearn\\linear_model\\_coordinate_descent.py:530: ConvergenceWarning: Objective did not converge. You might want to increase the number of iterations. Duality gap: 1340268328.7438965, tolerance: 776863606.6445853\n",
      "  model = cd_fast.enet_coordinate_descent(\n",
      "C:\\Users\\mmoli\\anaconda3\\lib\\site-packages\\sklearn\\linear_model\\_coordinate_descent.py:526: ConvergenceWarning: Objective did not converge. You might want to increase the number of iterations. Duality gap: 576218783.4421387, tolerance: 565759011.5702416\n",
      "  model = cd_fast.enet_coordinate_descent_gram(\n",
      "C:\\Users\\mmoli\\anaconda3\\lib\\site-packages\\sklearn\\linear_model\\_coordinate_descent.py:526: ConvergenceWarning: Objective did not converge. You might want to increase the number of iterations. Duality gap: 713446139.9407349, tolerance: 539968171.846514\n",
      "  model = cd_fast.enet_coordinate_descent_gram(\n",
      "C:\\Users\\mmoli\\anaconda3\\lib\\site-packages\\sklearn\\linear_model\\_coordinate_descent.py:526: ConvergenceWarning: Objective did not converge. You might want to increase the number of iterations. Duality gap: 765550614.0308228, tolerance: 539968171.846514\n",
      "  model = cd_fast.enet_coordinate_descent_gram(\n",
      "C:\\Users\\mmoli\\anaconda3\\lib\\site-packages\\sklearn\\linear_model\\_coordinate_descent.py:526: ConvergenceWarning: Objective did not converge. You might want to increase the number of iterations. Duality gap: 621481561.5753784, tolerance: 539968171.846514\n",
      "  model = cd_fast.enet_coordinate_descent_gram(\n",
      "C:\\Users\\mmoli\\anaconda3\\lib\\site-packages\\sklearn\\linear_model\\_coordinate_descent.py:526: ConvergenceWarning: Objective did not converge. You might want to increase the number of iterations. Duality gap: 1089291786.6502075, tolerance: 539968171.846514\n",
      "  model = cd_fast.enet_coordinate_descent_gram(\n",
      "C:\\Users\\mmoli\\anaconda3\\lib\\site-packages\\sklearn\\linear_model\\_coordinate_descent.py:526: ConvergenceWarning: Objective did not converge. You might want to increase the number of iterations. Duality gap: 561598759.9934082, tolerance: 547907651.7831829\n",
      "  model = cd_fast.enet_coordinate_descent_gram(\n",
      "C:\\Users\\mmoli\\anaconda3\\lib\\site-packages\\sklearn\\linear_model\\_coordinate_descent.py:526: ConvergenceWarning: Objective did not converge. You might want to increase the number of iterations. Duality gap: 576668245.1330566, tolerance: 547907651.7831829\n",
      "  model = cd_fast.enet_coordinate_descent_gram(\n",
      "C:\\Users\\mmoli\\anaconda3\\lib\\site-packages\\sklearn\\linear_model\\_coordinate_descent.py:526: ConvergenceWarning: Objective did not converge. You might want to increase the number of iterations. Duality gap: 1245070995.6066895, tolerance: 547907651.7831829\n",
      "  model = cd_fast.enet_coordinate_descent_gram(\n",
      "C:\\Users\\mmoli\\anaconda3\\lib\\site-packages\\sklearn\\linear_model\\_coordinate_descent.py:526: ConvergenceWarning: Objective did not converge. You might want to increase the number of iterations. Duality gap: 1275120633.7746582, tolerance: 547907651.7831829\n",
      "  model = cd_fast.enet_coordinate_descent_gram(\n",
      "C:\\Users\\mmoli\\anaconda3\\lib\\site-packages\\sklearn\\linear_model\\_coordinate_descent.py:526: ConvergenceWarning: Objective did not converge. You might want to increase the number of iterations. Duality gap: 1137100841.7604065, tolerance: 547907651.7831829\n",
      "  model = cd_fast.enet_coordinate_descent_gram(\n",
      "C:\\Users\\mmoli\\anaconda3\\lib\\site-packages\\sklearn\\linear_model\\_coordinate_descent.py:526: ConvergenceWarning: Objective did not converge. You might want to increase the number of iterations. Duality gap: 814430714.9957275, tolerance: 547907651.7831829\n",
      "  model = cd_fast.enet_coordinate_descent_gram(\n",
      "C:\\Users\\mmoli\\anaconda3\\lib\\site-packages\\sklearn\\linear_model\\_coordinate_descent.py:526: ConvergenceWarning: Objective did not converge. You might want to increase the number of iterations. Duality gap: 709290243.1890869, tolerance: 694937183.4412198\n",
      "  model = cd_fast.enet_coordinate_descent_gram(\n",
      "C:\\Users\\mmoli\\anaconda3\\lib\\site-packages\\sklearn\\linear_model\\_coordinate_descent.py:526: ConvergenceWarning: Objective did not converge. You might want to increase the number of iterations. Duality gap: 716974142.6486816, tolerance: 669508788.6247846\n",
      "  model = cd_fast.enet_coordinate_descent_gram(\n",
      "C:\\Users\\mmoli\\anaconda3\\lib\\site-packages\\sklearn\\linear_model\\_coordinate_descent.py:526: ConvergenceWarning: Objective did not converge. You might want to increase the number of iterations. Duality gap: 917399515.232544, tolerance: 669508788.6247846\n",
      "  model = cd_fast.enet_coordinate_descent_gram(\n",
      "C:\\Users\\mmoli\\anaconda3\\lib\\site-packages\\sklearn\\linear_model\\_coordinate_descent.py:526: ConvergenceWarning: Objective did not converge. You might want to increase the number of iterations. Duality gap: 1833665500.0999146, tolerance: 669508788.6247846\n",
      "  model = cd_fast.enet_coordinate_descent_gram(\n",
      "C:\\Users\\mmoli\\anaconda3\\lib\\site-packages\\sklearn\\linear_model\\_coordinate_descent.py:526: ConvergenceWarning: Objective did not converge. You might want to increase the number of iterations. Duality gap: 834012128.9239502, tolerance: 638618045.9972259\n",
      "  model = cd_fast.enet_coordinate_descent_gram(\n",
      "C:\\Users\\mmoli\\anaconda3\\lib\\site-packages\\sklearn\\linear_model\\_coordinate_descent.py:526: ConvergenceWarning: Objective did not converge. You might want to increase the number of iterations. Duality gap: 1105422978.5767822, tolerance: 638618045.9972259\n",
      "  model = cd_fast.enet_coordinate_descent_gram(\n",
      "C:\\Users\\mmoli\\anaconda3\\lib\\site-packages\\sklearn\\linear_model\\_coordinate_descent.py:526: ConvergenceWarning: Objective did not converge. You might want to increase the number of iterations. Duality gap: 1038560357.5640869, tolerance: 638618045.9972259\n",
      "  model = cd_fast.enet_coordinate_descent_gram(\n",
      "C:\\Users\\mmoli\\anaconda3\\lib\\site-packages\\sklearn\\linear_model\\_coordinate_descent.py:526: ConvergenceWarning: Objective did not converge. You might want to increase the number of iterations. Duality gap: 1920041200.636963, tolerance: 638618045.9972259\n",
      "  model = cd_fast.enet_coordinate_descent_gram(\n",
      "C:\\Users\\mmoli\\anaconda3\\lib\\site-packages\\sklearn\\linear_model\\_coordinate_descent.py:526: ConvergenceWarning: Objective did not converge. You might want to increase the number of iterations. Duality gap: 791131956.489624, tolerance: 638618045.9972259\n",
      "  model = cd_fast.enet_coordinate_descent_gram(\n"
     ]
    },
    {
     "name": "stdout",
     "output_type": "stream",
     "text": [
      "CVS = [0.90773189 0.88926324 0.89295319 0.8971247  0.87311983]\n"
     ]
    }
   ],
   "source": [
    "mae = mean_absolute_error(y_test, y_preds)\n",
    "print(f'MAE = {mae}')\n",
    "mse = mean_squared_error(y_test, y_preds, squared=False) \n",
    "print(f'RMSE = {mse}')\n",
    "cvs = cross_val_score(pipe_lcv, X_train, y_train, cv=5)\n",
    "print(f'CVS = {cvs}')"
   ]
  },
  {
   "cell_type": "markdown",
   "id": "08e330a6-8fa0-4934-8291-1ea0d559b6ca",
   "metadata": {},
   "source": [
    "---"
   ]
  },
  {
   "cell_type": "markdown",
   "id": "25ff4b03-a320-49b8-ac37-3ce09e2cdd60",
   "metadata": {},
   "source": [
    "### Final Model"
   ]
  },
  {
   "cell_type": "code",
   "execution_count": 293,
   "id": "5b5d7f4b-06f3-48ee-a95a-12c850a0cb90",
   "metadata": {},
   "outputs": [],
   "source": [
    "features_8 = df[['gr_liv_area', 'age', 'overall_qual', 'gr_liv_area/totrms_abvgrd',\n",
    "                 'since_remod/add', 'garage_area', 'kitchen_qual_order', 'total_bsmt_sf', 'before_1940', 'over_10', 'bsmtfin_sf_1', 'neighborhood', 'fireplaces']]\n",
    "features_8 = pd.get_dummies(features_8, columns=['neighborhood'], drop_first=True);"
   ]
  },
  {
   "cell_type": "code",
   "execution_count": 267,
   "id": "ee1e7e28-4956-4bcd-9ade-722277836709",
   "metadata": {},
   "outputs": [],
   "source": [
    "X = features_8\n",
    "y = df['saleprice']\n",
    "X_train, X_test, y_train, y_test = train_test_split(X, y, random_state=42)"
   ]
  },
  {
   "cell_type": "markdown",
   "id": "224182c9-fb9e-4060-a12c-b5b1fefb02f0",
   "metadata": {},
   "source": [
    "#### Linear Regression"
   ]
  },
  {
   "cell_type": "code",
   "execution_count": 268,
   "id": "fbf8de44-0d98-413c-913b-30ae66164d3f",
   "metadata": {
    "jupyter": {
     "source_hidden": true
    },
    "tags": []
   },
   "outputs": [
    {
     "data": {
      "text/plain": [
       "(0.8371976739005416, 0.8676609106458459)"
      ]
     },
     "execution_count": 268,
     "metadata": {},
     "output_type": "execute_result"
    }
   ],
   "source": [
    "lr = LinearRegression()\n",
    "lr.fit(X_train, y_train)\n",
    "lr.score(X_train, y_train), lr.score(X_test, y_test)"
   ]
  },
  {
   "cell_type": "code",
   "execution_count": 297,
   "id": "d2d066fc-252f-40a4-ba96-04a5eb6fc9e9",
   "metadata": {},
   "outputs": [],
   "source": [
    "# pipe lines\n",
    "pipe_lr = Pipeline([\n",
    "     ('pf', PolynomialFeatures(include_bias=False)),\n",
    "     ('ss', StandardScaler()),\n",
    "     ('lr', LinearRegression())\n",
    "])\n",
    "\n",
    "pipe_lcv = Pipeline([\n",
    "     ('pf', PolynomialFeatures(include_bias=False)),\n",
    "     ('ss', StandardScaler()),\n",
    "     ('lcv', LassoCV())\n",
    "])"
   ]
  },
  {
   "cell_type": "code",
   "execution_count": 298,
   "id": "cc13d193-55a6-425d-b467-048b45af8edd",
   "metadata": {
    "tags": []
   },
   "outputs": [
    {
     "data": {
      "text/plain": [
       "Pipeline(steps=[('pf', PolynomialFeatures(include_bias=False)),\n",
       "                ('ss', StandardScaler()), ('lr', LinearRegression())])"
      ]
     },
     "execution_count": 298,
     "metadata": {},
     "output_type": "execute_result"
    }
   ],
   "source": [
    "pipe_lr.fit(X_train, y_train)"
   ]
  },
  {
   "cell_type": "code",
   "execution_count": 299,
   "id": "1fe3aaba-af79-40f5-975f-7cff50c45c8e",
   "metadata": {},
   "outputs": [],
   "source": [
    "params = {\n",
    "    'lr__penalty': ['l1', 'l2']\n",
    "}"
   ]
  },
  {
   "cell_type": "code",
   "execution_count": 300,
   "id": "e411ccc1-173d-472f-aee5-961926ea1477",
   "metadata": {},
   "outputs": [
    {
     "data": {
      "text/plain": [
       "(0.95043372898242, -7.457838611693778e+19)"
      ]
     },
     "execution_count": 300,
     "metadata": {},
     "output_type": "execute_result"
    }
   ],
   "source": [
    "pipe_lr.score(X_train, y_train), pipe_lr.score(X_test, y_test)"
   ]
  },
  {
   "cell_type": "code",
   "execution_count": 301,
   "id": "4b8cd11c-cb5d-4143-9dff-e15c52726a00",
   "metadata": {},
   "outputs": [],
   "source": [
    "y_preds = pipe_lr.predict(X_test)\n",
    "resids = y_test-y_preds        "
   ]
  },
  {
   "cell_type": "code",
   "execution_count": 302,
   "id": "2a07aeb9-5650-4b82-a5b8-1f96b9a87716",
   "metadata": {},
   "outputs": [
    {
     "name": "stdout",
     "output_type": "stream",
     "text": [
      "MAE = 32969942732400.152\n",
      "RMSE = 688706523056020.9\n",
      "CVS = -2.3870648474263787e+22\n"
     ]
    }
   ],
   "source": [
    "mae = mean_absolute_error(y_test, y_preds)\n",
    "print(f'MAE = {mae}')\n",
    "mse = mean_squared_error(y_test, y_preds, squared=False) \n",
    "print(f'RMSE = {mse}')\n",
    "cvs = cross_val_score(pipe_lr, X_train, y_train, cv=5).mean()\n",
    "print(f'CVS = {cvs}')"
   ]
  },
  {
   "cell_type": "code",
   "execution_count": 303,
   "id": "e31d615d-9c0a-4ec4-b5f7-abcacf819e1e",
   "metadata": {},
   "outputs": [
    {
     "name": "stderr",
     "output_type": "stream",
     "text": [
      "C:\\Users\\mmoli\\anaconda3\\lib\\site-packages\\sklearn\\linear_model\\_coordinate_descent.py:530: ConvergenceWarning: Objective did not converge. You might want to increase the number of iterations. Duality gap: 1756150539.3270264, tolerance: 960340167.395799\n",
      "  model = cd_fast.enet_coordinate_descent(\n"
     ]
    }
   ],
   "source": [
    "pipe_lcv.fit(X_train, y_train);"
   ]
  },
  {
   "cell_type": "code",
   "execution_count": 304,
   "id": "9bf9eb79-50eb-480e-90af-4f6d018de9ad",
   "metadata": {},
   "outputs": [
    {
     "data": {
      "text/plain": [
       "(0.9323153184789453, 0.9252768903053927)"
      ]
     },
     "execution_count": 304,
     "metadata": {},
     "output_type": "execute_result"
    }
   ],
   "source": [
    "pipe_lcv.score(X_train, y_train) , pipe_lcv.score(X_test, y_test)"
   ]
  },
  {
   "cell_type": "code",
   "execution_count": 305,
   "id": "fc704ede-8a08-47b9-a35b-ccee928cb8a5",
   "metadata": {},
   "outputs": [],
   "source": [
    "y_preds = pipe_lcv.predict(X_test)\n",
    "resids = y_test-y_preds        "
   ]
  },
  {
   "cell_type": "code",
   "execution_count": 306,
   "id": "b7b42b3c-ce66-4b60-9371-177781f24d55",
   "metadata": {},
   "outputs": [
    {
     "name": "stdout",
     "output_type": "stream",
     "text": [
      "MAE = 15433.07206341566\n",
      "RMSE = 21799.933789874132\n"
     ]
    },
    {
     "name": "stderr",
     "output_type": "stream",
     "text": [
      "C:\\Users\\mmoli\\anaconda3\\lib\\site-packages\\sklearn\\linear_model\\_coordinate_descent.py:526: ConvergenceWarning: Objective did not converge. You might want to increase the number of iterations. Duality gap: 657900454.567627, tolerance: 623801655.5667152\n",
      "  model = cd_fast.enet_coordinate_descent_gram(\n",
      "C:\\Users\\mmoli\\anaconda3\\lib\\site-packages\\sklearn\\linear_model\\_coordinate_descent.py:526: ConvergenceWarning: Objective did not converge. You might want to increase the number of iterations. Duality gap: 797145814.812439, tolerance: 623801655.5667152\n",
      "  model = cd_fast.enet_coordinate_descent_gram(\n",
      "C:\\Users\\mmoli\\anaconda3\\lib\\site-packages\\sklearn\\linear_model\\_coordinate_descent.py:526: ConvergenceWarning: Objective did not converge. You might want to increase the number of iterations. Duality gap: 866980790.9504395, tolerance: 623801655.5667152\n",
      "  model = cd_fast.enet_coordinate_descent_gram(\n",
      "C:\\Users\\mmoli\\anaconda3\\lib\\site-packages\\sklearn\\linear_model\\_coordinate_descent.py:526: ConvergenceWarning: Objective did not converge. You might want to increase the number of iterations. Duality gap: 1078591821.8692627, tolerance: 627860919.1319997\n",
      "  model = cd_fast.enet_coordinate_descent_gram(\n",
      "C:\\Users\\mmoli\\anaconda3\\lib\\site-packages\\sklearn\\linear_model\\_coordinate_descent.py:526: ConvergenceWarning: Objective did not converge. You might want to increase the number of iterations. Duality gap: 1145839700.268921, tolerance: 627860919.1319997\n",
      "  model = cd_fast.enet_coordinate_descent_gram(\n",
      "C:\\Users\\mmoli\\anaconda3\\lib\\site-packages\\sklearn\\linear_model\\_coordinate_descent.py:530: ConvergenceWarning: Objective did not converge. You might want to increase the number of iterations. Duality gap: 2804939482.140991, tolerance: 770758974.6212007\n",
      "  model = cd_fast.enet_coordinate_descent(\n",
      "C:\\Users\\mmoli\\anaconda3\\lib\\site-packages\\sklearn\\linear_model\\_coordinate_descent.py:526: ConvergenceWarning: Objective did not converge. You might want to increase the number of iterations. Duality gap: 757046044.6324463, tolerance: 623149737.8227651\n",
      "  model = cd_fast.enet_coordinate_descent_gram(\n",
      "C:\\Users\\mmoli\\anaconda3\\lib\\site-packages\\sklearn\\linear_model\\_coordinate_descent.py:526: ConvergenceWarning: Objective did not converge. You might want to increase the number of iterations. Duality gap: 1252355941.8255615, tolerance: 623149737.8227651\n",
      "  model = cd_fast.enet_coordinate_descent_gram(\n",
      "C:\\Users\\mmoli\\anaconda3\\lib\\site-packages\\sklearn\\linear_model\\_coordinate_descent.py:526: ConvergenceWarning: Objective did not converge. You might want to increase the number of iterations. Duality gap: 1612958830.8742676, tolerance: 623149737.8227651\n",
      "  model = cd_fast.enet_coordinate_descent_gram(\n",
      "C:\\Users\\mmoli\\anaconda3\\lib\\site-packages\\sklearn\\linear_model\\_coordinate_descent.py:530: ConvergenceWarning: Objective did not converge. You might want to increase the number of iterations. Duality gap: 4667396009.121582, tolerance: 787358189.9797889\n",
      "  model = cd_fast.enet_coordinate_descent(\n",
      "C:\\Users\\mmoli\\anaconda3\\lib\\site-packages\\sklearn\\linear_model\\_coordinate_descent.py:526: ConvergenceWarning: Objective did not converge. You might want to increase the number of iterations. Duality gap: 782569677.94104, tolerance: 654196246.395621\n",
      "  model = cd_fast.enet_coordinate_descent_gram(\n",
      "C:\\Users\\mmoli\\anaconda3\\lib\\site-packages\\sklearn\\linear_model\\_coordinate_descent.py:526: ConvergenceWarning: Objective did not converge. You might want to increase the number of iterations. Duality gap: 612167387.5220947, tolerance: 547907651.7831829\n",
      "  model = cd_fast.enet_coordinate_descent_gram(\n",
      "C:\\Users\\mmoli\\anaconda3\\lib\\site-packages\\sklearn\\linear_model\\_coordinate_descent.py:526: ConvergenceWarning: Objective did not converge. You might want to increase the number of iterations. Duality gap: 678048569.4301758, tolerance: 547907651.7831829\n",
      "  model = cd_fast.enet_coordinate_descent_gram(\n",
      "C:\\Users\\mmoli\\anaconda3\\lib\\site-packages\\sklearn\\linear_model\\_coordinate_descent.py:526: ConvergenceWarning: Objective did not converge. You might want to increase the number of iterations. Duality gap: 746498618.9085693, tolerance: 547907651.7831829\n",
      "  model = cd_fast.enet_coordinate_descent_gram(\n",
      "C:\\Users\\mmoli\\anaconda3\\lib\\site-packages\\sklearn\\linear_model\\_coordinate_descent.py:526: ConvergenceWarning: Objective did not converge. You might want to increase the number of iterations. Duality gap: 805390261.7330322, tolerance: 547907651.7831829\n",
      "  model = cd_fast.enet_coordinate_descent_gram(\n",
      "C:\\Users\\mmoli\\anaconda3\\lib\\site-packages\\sklearn\\linear_model\\_coordinate_descent.py:526: ConvergenceWarning: Objective did not converge. You might want to increase the number of iterations. Duality gap: 821099585.154602, tolerance: 547907651.7831829\n",
      "  model = cd_fast.enet_coordinate_descent_gram(\n",
      "C:\\Users\\mmoli\\anaconda3\\lib\\site-packages\\sklearn\\linear_model\\_coordinate_descent.py:530: ConvergenceWarning: Objective did not converge. You might want to increase the number of iterations. Duality gap: 2578374924.26593, tolerance: 687564697.385119\n",
      "  model = cd_fast.enet_coordinate_descent(\n",
      "C:\\Users\\mmoli\\anaconda3\\lib\\site-packages\\sklearn\\linear_model\\_coordinate_descent.py:526: ConvergenceWarning: Objective did not converge. You might want to increase the number of iterations. Duality gap: 982733839.5477295, tolerance: 669508788.6247846\n",
      "  model = cd_fast.enet_coordinate_descent_gram(\n"
     ]
    },
    {
     "name": "stdout",
     "output_type": "stream",
     "text": [
      "CVS = 0.8998104664289606\n"
     ]
    }
   ],
   "source": [
    "mae = mean_absolute_error(y_test, y_preds)\n",
    "print(f'MAE = {mae}')\n",
    "mse = mean_squared_error(y_test, y_preds, squared=False) \n",
    "print(f'RMSE = {mse}')\n",
    "cvs = cross_val_score(pipe_lcv, X_train, y_train, cv=5).mean()\n",
    "print(f'CVS = {cvs}')"
   ]
  },
  {
   "cell_type": "code",
   "execution_count": 285,
   "id": "6e1df3d9-9b85-4805-ae53-d76c792dd35a",
   "metadata": {},
   "outputs": [],
   "source": [
    "from sklearn.linear_model import RidgeCV"
   ]
  },
  {
   "cell_type": "code",
   "execution_count": 286,
   "id": "2527e5e0-71e9-47e8-921d-e48b85976068",
   "metadata": {},
   "outputs": [],
   "source": [
    "pipe_rcv = Pipeline([\n",
    "     ('pf', PolynomialFeatures(include_bias=False)),\n",
    "     ('ss', StandardScaler()),\n",
    "     ('rcv', RidgeCV())\n",
    "])"
   ]
  },
  {
   "cell_type": "code",
   "execution_count": 287,
   "id": "cefa4400-5a30-47d5-a14c-c400b5dec40a",
   "metadata": {},
   "outputs": [
    {
     "data": {
      "text/plain": [
       "Pipeline(steps=[('pf', PolynomialFeatures(include_bias=False)),\n",
       "                ('ss', StandardScaler()),\n",
       "                ('rcv', RidgeCV(alphas=array([ 0.1,  1. , 10. ])))])"
      ]
     },
     "execution_count": 287,
     "metadata": {},
     "output_type": "execute_result"
    }
   ],
   "source": [
    "pipe_rcv.fit(X_train, y_train)"
   ]
  },
  {
   "cell_type": "code",
   "execution_count": 288,
   "id": "a1330d9f-9d09-4b20-9322-746679b74fd3",
   "metadata": {},
   "outputs": [
    {
     "data": {
      "text/plain": [
       "(0.9448795677430742, 0.9217632235520721)"
      ]
     },
     "execution_count": 288,
     "metadata": {},
     "output_type": "execute_result"
    }
   ],
   "source": [
    "pipe_rcv.score(X_train, y_train), pipe_rcv.score(X_test, y_test)"
   ]
  },
  {
   "cell_type": "code",
   "execution_count": 290,
   "id": "1fe564a2-a21b-4857-98f1-3cf5fd8dcf4a",
   "metadata": {},
   "outputs": [],
   "source": [
    "y_preds = pipe_rcv.predict(X_test)\n",
    "resids = y_test-y_preds        "
   ]
  },
  {
   "cell_type": "code",
   "execution_count": 291,
   "id": "49aff2b3-24d4-466b-b2eb-e887759f88ef",
   "metadata": {},
   "outputs": [
    {
     "name": "stdout",
     "output_type": "stream",
     "text": [
      "MAE = 16000.636997752577\n",
      "RMSE = 22306.589746632882\n"
     ]
    },
    {
     "name": "stderr",
     "output_type": "stream",
     "text": [
      "C:\\Users\\mmoli\\anaconda3\\lib\\site-packages\\sklearn\\linear_model\\_coordinate_descent.py:526: ConvergenceWarning: Objective did not converge. You might want to increase the number of iterations. Duality gap: 657900454.567627, tolerance: 623801655.5667152\n",
      "  model = cd_fast.enet_coordinate_descent_gram(\n",
      "C:\\Users\\mmoli\\anaconda3\\lib\\site-packages\\sklearn\\linear_model\\_coordinate_descent.py:526: ConvergenceWarning: Objective did not converge. You might want to increase the number of iterations. Duality gap: 797145814.812439, tolerance: 623801655.5667152\n",
      "  model = cd_fast.enet_coordinate_descent_gram(\n",
      "C:\\Users\\mmoli\\anaconda3\\lib\\site-packages\\sklearn\\linear_model\\_coordinate_descent.py:526: ConvergenceWarning: Objective did not converge. You might want to increase the number of iterations. Duality gap: 866980790.9504395, tolerance: 623801655.5667152\n",
      "  model = cd_fast.enet_coordinate_descent_gram(\n",
      "C:\\Users\\mmoli\\anaconda3\\lib\\site-packages\\sklearn\\linear_model\\_coordinate_descent.py:526: ConvergenceWarning: Objective did not converge. You might want to increase the number of iterations. Duality gap: 1078591821.8692627, tolerance: 627860919.1319997\n",
      "  model = cd_fast.enet_coordinate_descent_gram(\n",
      "C:\\Users\\mmoli\\anaconda3\\lib\\site-packages\\sklearn\\linear_model\\_coordinate_descent.py:526: ConvergenceWarning: Objective did not converge. You might want to increase the number of iterations. Duality gap: 1145839700.268921, tolerance: 627860919.1319997\n",
      "  model = cd_fast.enet_coordinate_descent_gram(\n",
      "C:\\Users\\mmoli\\anaconda3\\lib\\site-packages\\sklearn\\linear_model\\_coordinate_descent.py:530: ConvergenceWarning: Objective did not converge. You might want to increase the number of iterations. Duality gap: 2804939482.140991, tolerance: 770758974.6212007\n",
      "  model = cd_fast.enet_coordinate_descent(\n",
      "C:\\Users\\mmoli\\anaconda3\\lib\\site-packages\\sklearn\\linear_model\\_coordinate_descent.py:526: ConvergenceWarning: Objective did not converge. You might want to increase the number of iterations. Duality gap: 757046044.6324463, tolerance: 623149737.8227651\n",
      "  model = cd_fast.enet_coordinate_descent_gram(\n",
      "C:\\Users\\mmoli\\anaconda3\\lib\\site-packages\\sklearn\\linear_model\\_coordinate_descent.py:526: ConvergenceWarning: Objective did not converge. You might want to increase the number of iterations. Duality gap: 1252355941.8255615, tolerance: 623149737.8227651\n",
      "  model = cd_fast.enet_coordinate_descent_gram(\n",
      "C:\\Users\\mmoli\\anaconda3\\lib\\site-packages\\sklearn\\linear_model\\_coordinate_descent.py:526: ConvergenceWarning: Objective did not converge. You might want to increase the number of iterations. Duality gap: 1612958830.8742676, tolerance: 623149737.8227651\n",
      "  model = cd_fast.enet_coordinate_descent_gram(\n",
      "C:\\Users\\mmoli\\anaconda3\\lib\\site-packages\\sklearn\\linear_model\\_coordinate_descent.py:530: ConvergenceWarning: Objective did not converge. You might want to increase the number of iterations. Duality gap: 4667396009.121582, tolerance: 787358189.9797889\n",
      "  model = cd_fast.enet_coordinate_descent(\n",
      "C:\\Users\\mmoli\\anaconda3\\lib\\site-packages\\sklearn\\linear_model\\_coordinate_descent.py:526: ConvergenceWarning: Objective did not converge. You might want to increase the number of iterations. Duality gap: 782569677.94104, tolerance: 654196246.395621\n",
      "  model = cd_fast.enet_coordinate_descent_gram(\n",
      "C:\\Users\\mmoli\\anaconda3\\lib\\site-packages\\sklearn\\linear_model\\_coordinate_descent.py:526: ConvergenceWarning: Objective did not converge. You might want to increase the number of iterations. Duality gap: 612167387.5220947, tolerance: 547907651.7831829\n",
      "  model = cd_fast.enet_coordinate_descent_gram(\n",
      "C:\\Users\\mmoli\\anaconda3\\lib\\site-packages\\sklearn\\linear_model\\_coordinate_descent.py:526: ConvergenceWarning: Objective did not converge. You might want to increase the number of iterations. Duality gap: 678048569.4301758, tolerance: 547907651.7831829\n",
      "  model = cd_fast.enet_coordinate_descent_gram(\n",
      "C:\\Users\\mmoli\\anaconda3\\lib\\site-packages\\sklearn\\linear_model\\_coordinate_descent.py:526: ConvergenceWarning: Objective did not converge. You might want to increase the number of iterations. Duality gap: 746498618.9085693, tolerance: 547907651.7831829\n",
      "  model = cd_fast.enet_coordinate_descent_gram(\n",
      "C:\\Users\\mmoli\\anaconda3\\lib\\site-packages\\sklearn\\linear_model\\_coordinate_descent.py:526: ConvergenceWarning: Objective did not converge. You might want to increase the number of iterations. Duality gap: 805390261.7330322, tolerance: 547907651.7831829\n",
      "  model = cd_fast.enet_coordinate_descent_gram(\n",
      "C:\\Users\\mmoli\\anaconda3\\lib\\site-packages\\sklearn\\linear_model\\_coordinate_descent.py:526: ConvergenceWarning: Objective did not converge. You might want to increase the number of iterations. Duality gap: 821099585.154602, tolerance: 547907651.7831829\n",
      "  model = cd_fast.enet_coordinate_descent_gram(\n",
      "C:\\Users\\mmoli\\anaconda3\\lib\\site-packages\\sklearn\\linear_model\\_coordinate_descent.py:530: ConvergenceWarning: Objective did not converge. You might want to increase the number of iterations. Duality gap: 2578374924.26593, tolerance: 687564697.385119\n",
      "  model = cd_fast.enet_coordinate_descent(\n",
      "C:\\Users\\mmoli\\anaconda3\\lib\\site-packages\\sklearn\\linear_model\\_coordinate_descent.py:526: ConvergenceWarning: Objective did not converge. You might want to increase the number of iterations. Duality gap: 982733839.5477295, tolerance: 669508788.6247846\n",
      "  model = cd_fast.enet_coordinate_descent_gram(\n"
     ]
    },
    {
     "name": "stdout",
     "output_type": "stream",
     "text": [
      "CVS = 0.8998104664289606\n"
     ]
    }
   ],
   "source": [
    "mae = mean_absolute_error(y_test, y_preds)\n",
    "print(f'MAE = {mae}')\n",
    "mse = mean_squared_error(y_test, y_preds, squared=False) \n",
    "print(f'RMSE = {mse}')\n",
    "cvs = cross_val_score(pipe_lcv, X_train, y_train, cv=5).mean()\n",
    "print(f'CVS = {cvs}')"
   ]
  },
  {
   "cell_type": "code",
   "execution_count": null,
   "id": "99f1be55-a74e-4aeb-800d-732dba2bd2ed",
   "metadata": {},
   "outputs": [],
   "source": []
  },
  {
   "cell_type": "code",
   "execution_count": null,
   "id": "1f5312d8-086e-4255-ad65-7a103be97e8b",
   "metadata": {},
   "outputs": [],
   "source": []
  },
  {
   "cell_type": "code",
   "execution_count": 467,
   "id": "6ea44707-739d-4e4e-b619-84bf87a09a1c",
   "metadata": {},
   "outputs": [
    {
     "data": {
      "image/png": "[encoded data removed]",
      "text/plain": [
       "<Figure size 720x432 with 1 Axes>"
      ]
     },
     "metadata": {
      "needs_background": "light"
     },
     "output_type": "display_data"
    }
   ],
   "source": [
    "plt.figure(figsize=(10, 6))\n",
    "plt.plot(y_test, linewidth=3, label='ground truth')\n",
    "plt.plot(y_preds, linewidth=3, label='predicted')\n",
    "plt.legend(loc='best')\n",
    "plt.xlabel('test data points')\n",
    "plt.ylabel('target value');"
   ]
  },
  {
   "cell_type": "code",
   "execution_count": null,
   "id": "aa3c6030-d6cb-4175-9d02-3f4d0b4a4a7c",
   "metadata": {},
   "outputs": [],
   "source": []
  },
  {
   "cell_type": "code",
   "execution_count": null,
   "id": "858b46c2-5ac3-4ddc-a53c-403b26bf0fc1",
   "metadata": {},
   "outputs": [],
   "source": []
  }
 ],
 "metadata": {
  "kernelspec": {
   "display_name": "Python 3 (ipykernel)",
   "language": "python",
   "name": "python3"
  },
  "language_info": {
   "codemirror_mode": {
    "name": "ipython",
    "version": 3
   },
   "file_extension": ".py",
   "mimetype": "text/x-python",
   "name": "python",
   "nbconvert_exporter": "python",
   "pygments_lexer": "ipython3",
   "version": "3.9.7"
  }
 },
 "nbformat": 4,
 "nbformat_minor": 5
}
