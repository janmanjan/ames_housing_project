{
 "cells": [
  {
   "cell_type": "code",
   "execution_count": 1,
   "id": "36f47347-4258-4e04-8b6c-0b09b439fb74",
   "metadata": {},
   "outputs": [],
   "source": [
    "import pandas as pd\n",
    "import numpy as np\n",
    "import matplotlib.pyplot as plt\n",
    "import seaborn as sns\n",
    "\n",
    "from sklearn.model_selection import train_test_split, cross_val_score\n",
    "from sklearn.linear_model import LinearRegression\n",
    "from sklearn.preprocessing import OneHotEncoder, StandardScaler, PolynomialFeatures\n",
    "from sklearn.metrics import mean_squared_error, r2_score, mean_absolute_error"
   ]
  },
  {
   "cell_type": "markdown",
   "id": "70897b6b-da23-480e-b92d-07a66edabf7a",
   "metadata": {},
   "source": [
    "#### After Polyfeatures\n",
    "##### Feature Engineering\n"
   ]
  },
  {
   "cell_type": "code",
   "execution_count": 2,
   "id": "fc4474f5-3ed1-426e-9f55-b086f7d47224",
   "metadata": {},
   "outputs": [],
   "source": [
    "df = pd.read_csv('datasets/train.csv')\n",
    "df = df.rename(str.lower, axis=1)\n",
    "df.columns = [name.replace(' ', '_') if ' ' in name else name for name in df.columns]\n",
    "df = df[df['bedroom_abvgr'] != 0]"
   ]
  },
  {
   "cell_type": "code",
   "execution_count": 12,
   "id": "b70997d1-014f-4971-a443-480a754e722c",
   "metadata": {},
   "outputs": [],
   "source": [
    "# original list of changes\n",
    "\n",
    "df = pd.read_csv('datasets/train.csv')\n",
    "df = df.rename(str.lower, axis=1)\n",
    "df.columns = [name.replace(' ', '_') if ' ' in name else name for name in df.columns]\n",
    "\n",
    "# Model 2\n",
    "df['age'] = [df['year_built'].max()-year for year in df['year_built']]\n",
    "df['age*overall_qual'] = df['age']*df['overall_qual']\n",
    "\n",
    "# Model 3\n",
    "kitchen_qual_order = {'Po': 0, 'Fa': 1, 'TA': 2, 'Gd': 3, 'Ex': 4}\n",
    "df['kitchen_qual_order'] = [kitchen_qual_order[n] for n in df['kitchen_qual']]\n",
    "\n",
    "# Model 4\n",
    "df['gr_liv_area/totrms_abvgrd'] = df['gr_liv_area']/df['totrms_abvgrd']\n",
    "df['since_remod/add'] = [2010-year for year in df['year_remod/add']]\n",
    "\n",
    "# Model 5\n",
    "df.drop(index=1712, inplace=True)\n",
    "df.drop(index=1327, inplace=True)\n",
    "\n",
    "# Model 6\n",
    "df['before_1940'] = [1 if year < 1940 else 0 for year in df['year_built']]\n",
    "df['over_10'] = [1 if age > 10 else 0 for age in df['age']]\n",
    "\n",
    "# Model 7\n",
    "df['before_1940'] = [1 if year < 1940 else 0 for year in df['year_built']]\n",
    "df['over_10'] = [1 if age > 10 else 0 for age in df['age']]\n",
    "df['since_remod/add'] = [2010-year for year in df['year_remod/add']]"
   ]
  },
  {
   "cell_type": "code",
   "execution_count": 23,
   "id": "8897a6a9-6d22-4e26-b0de-154b7bba6202",
   "metadata": {},
   "outputs": [],
   "source": [
    "df.to_csv('train_only_features_cleaned_dummies.csv', index=False)"
   ]
  },
  {
   "cell_type": "code",
   "execution_count": null,
   "id": "137780fa-b6eb-4329-ba3b-29c118a46acc",
   "metadata": {},
   "outputs": [],
   "source": [
    "# Working cell \n",
    "# Model 8 \n",
    "# add to original if certain about using neighborhood\n",
    "features_8 = df[['gr_liv_area', 'age', 'overall_qual', 'gr_liv_area/totrms_abvgrd',\n",
    "                 'since_remod/add', 'garage_area', 'kitchen_qual_order', 'total_bsmt_sf', 'before_1940', 'over_10', 'bsmtfin_sf_1', 'neighborhood', 'fireplaces']]\n",
    "features_8 = pd.get_dummies(features_8, columns=['neighborhood'], drop_first=True);"
   ]
  }
 ],
 "metadata": {
  "kernelspec": {
   "display_name": "Python 3 (ipykernel)",
   "language": "python",
   "name": "python3"
  },
  "language_info": {
   "codemirror_mode": {
    "name": "ipython",
    "version": 3
   },
   "file_extension": ".py",
   "mimetype": "text/x-python",
   "name": "python",
   "nbconvert_exporter": "python",
   "pygments_lexer": "ipython3",
   "version": "3.9.7"
  }
 },
 "nbformat": 4,
 "nbformat_minor": 5
}
