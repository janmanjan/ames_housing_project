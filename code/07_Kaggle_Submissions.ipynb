{
 "cells": [
  {
   "cell_type": "code",
   "execution_count": 1,
   "id": "bdf3167c-d01a-469a-87d6-e1a7bf4e2b6c",
   "metadata": {},
   "outputs": [],
   "source": [
    "import pandas as pd\n",
    "import numpy as np\n",
    "import matplotlib.pyplot as plt\n",
    "import seaborn as sns\n",
    "\n",
    "from sklearn.model_selection import train_test_split, cross_val_score\n",
    "from sklearn.linear_model import LinearRegression, Lasso, LassoCV\n",
    "from sklearn.preprocessing import OneHotEncoder, StandardScaler, PolynomialFeatures\n",
    "from sklearn.metrics import mean_squared_error, r2_score, mean_absolute_error"
   ]
  },
  {
   "cell_type": "code",
   "execution_count": 2,
   "id": "ef6e556f-46f3-48c7-a4bc-d4f2923b3cd1",
   "metadata": {
    "jupyter": {
     "source_hidden": true
    },
    "tags": []
   },
   "outputs": [],
   "source": [
    "df = pd.read_csv('datasets/train.csv', keep_default_na=False, na_values=[''])\n",
    "df = df.rename(str.lower, axis=1)\n",
    "df.columns = [name.replace(' ', '_') if ' ' in name else name for name in df.columns]\n",
    "\n",
    "# Model 2\n",
    "df['age'] = [df['year_built'].max()-year for year in df['year_built']]\n",
    "df['age*overall_qual'] = df['age']*df['overall_qual']\n",
    "\n",
    "# Model 3\n",
    "kitchen_qual_order = {'Po': 0, 'Fa': 1, 'TA': 2, 'Gd': 3, 'Ex': 4}\n",
    "df['kitchen_qual_order'] = [kitchen_qual_order[n] for n in df['kitchen_qual']]\n",
    "\n",
    "# Model 4\n",
    "df['gr_liv_area/totrms_abvgrd'] = df['gr_liv_area']/df['totrms_abvgrd']\n",
    "df['since_remod/add'] = [2010-year for year in df['year_remod/add']]\n",
    "\n",
    "# Model 5\n",
    "df.drop(index=1712, inplace=True)\n",
    "df.drop(index=1327, inplace=True)\n",
    "\n",
    "# Model 6\n",
    "df['before_1940'] = [1 if year < 1940 else 0 for year in df['year_built']]\n",
    "df['over_10'] = [1 if age > 10 else 0 for age in df['age']]"
   ]
  },
  {
   "cell_type": "code",
   "execution_count": 3,
   "id": "af72e477-3c86-4f55-bd98-3c61fd9f50c8",
   "metadata": {},
   "outputs": [
    {
     "data": {
      "text/plain": [
       "(2049, 88)"
      ]
     },
     "execution_count": 3,
     "metadata": {},
     "output_type": "execute_result"
    }
   ],
   "source": [
    "df.shape"
   ]
  },
  {
   "cell_type": "code",
   "execution_count": 4,
   "id": "a1f2bb85-2872-4999-af6e-b480d299582b",
   "metadata": {
    "jupyter": {
     "source_hidden": true
    },
    "tags": []
   },
   "outputs": [],
   "source": [
    "test = pd.read_csv('datasets/test.csv', keep_default_na=False, na_values=[''])\n",
    "test_original = pd.read_csv('datasets/test.csv', keep_default_na=False, na_values=[''])\n",
    "test = test.rename(str.lower, axis=1)\n",
    "test.columns = [name.replace(' ', '_') if ' ' in name else name for name in test.columns]\n",
    "\n",
    "\n",
    "# Model 2\n",
    "test['age'] = [test['year_built'].max()-year for year in test['year_built']]\n",
    "test['age*overall_qual'] = test['age']*df['overall_qual']\n",
    "\n",
    "# Model 3\n",
    "kitchen_qual_order = {'Po': 0, 'Fa': 1, 'TA': 2, 'Gd': 3, 'Ex': 4}\n",
    "test['kitchen_qual_order'] = [kitchen_qual_order[n] for n in test['kitchen_qual']]\n",
    "\n",
    "# Model 4\n",
    "test['gr_liv_area/totrms_abvgrd'] = test['gr_liv_area']/test['totrms_abvgrd']\n",
    "test['since_remod/add'] = [2010-year for year in test['year_remod/add']]\n",
    "\n",
    "\n",
    "# Model 6\n",
    "test['before_1940'] = [1 if year < 1940 else 0 for year in test['year_built']]\n",
    "test['over_10'] = [1 if age > 10 else 0 for age in test['age']]\n",
    "\n",
    "\n",
    "# test # modify as training dataframe\n",
    "# kaggle_preds = model. predecit(test[features])"
   ]
  },
  {
   "cell_type": "code",
   "execution_count": 5,
   "id": "5cfa10d2-4d14-4c52-8613-fa21a4d7fd47",
   "metadata": {},
   "outputs": [
    {
     "data": {
      "text/plain": [
       "(878, 87)"
      ]
     },
     "execution_count": 5,
     "metadata": {},
     "output_type": "execute_result"
    }
   ],
   "source": [
    "test.shape"
   ]
  },
  {
   "cell_type": "code",
   "execution_count": 6,
   "id": "7cecd0da-0fe7-4643-bd66-2f0263ef0914",
   "metadata": {
    "tags": []
   },
   "outputs": [],
   "source": [
    "features_7 = df[['id', 'gr_liv_area', 'bedroom_abvgr', 'age', 'overall_qual', 'gr_liv_area/totrms_abvgrd', 'full_bath', 'since_remod/add',\n",
    "       '1st_flr_sf', 'garage_area', 'kitchen_qual_order', 'garage_cars', 'total_bsmt_sf', 'before_1940', 'over_10']]\n",
    "\n",
    "# features_7 = pd.get_dummies(features_7, columns=['neighborhood'], drop_first=True);"
   ]
  },
  {
   "cell_type": "code",
   "execution_count": 7,
   "id": "f9582197-3ca1-495f-b0f2-7bf0caada18e",
   "metadata": {},
   "outputs": [],
   "source": [
    "test = test[['id', 'gr_liv_area', 'bedroom_abvgr', 'age', 'overall_qual', 'gr_liv_area/totrms_abvgrd', 'full_bath', 'since_remod/add',\n",
    "       '1st_flr_sf', 'garage_area', 'kitchen_qual_order', 'garage_cars', 'total_bsmt_sf', 'before_1940', 'over_10']]"
   ]
  },
  {
   "cell_type": "code",
   "execution_count": 8,
   "id": "21a0a3f1-3785-49ec-913b-f8ddefaf6081",
   "metadata": {},
   "outputs": [
    {
     "data": {
      "text/plain": [
       "(2049, 15)"
      ]
     },
     "execution_count": 8,
     "metadata": {},
     "output_type": "execute_result"
    }
   ],
   "source": [
    "features_7.shape"
   ]
  },
  {
   "cell_type": "code",
   "execution_count": 9,
   "id": "4e7d83b4-e06b-4f7e-ae79-d1a7e4579156",
   "metadata": {},
   "outputs": [
    {
     "data": {
      "text/plain": [
       "(878, 15)"
      ]
     },
     "execution_count": 9,
     "metadata": {},
     "output_type": "execute_result"
    }
   ],
   "source": [
    "test.shape"
   ]
  },
  {
   "cell_type": "code",
   "execution_count": 10,
   "id": "11c6aee5-4f96-4565-aa77-3fc83f4c5d36",
   "metadata": {
    "tags": []
   },
   "outputs": [],
   "source": [
    "X = features_7\n",
    "y = df['saleprice']\n",
    "X_train, X_test, y_train, y_test = train_test_split(X, y, random_state=42)\n",
    "pf = PolynomialFeatures(include_bias=False)\n",
    "pf.fit(X_train)\n",
    "X_train_pf = pf.transform(X_train)\n",
    "X_test_pf = pf.transform(X_test)\n",
    "pd.DataFrame(X_test_pf, columns=pf.get_feature_names(X.columns));"
   ]
  },
  {
   "cell_type": "code",
   "execution_count": 11,
   "id": "c62f4170-668f-4e5a-9734-f39bca39ef63",
   "metadata": {
    "tags": []
   },
   "outputs": [],
   "source": [
    "ss = StandardScaler()                  \n",
    "ss.fit(X_train_pf)\n",
    "Z_train = ss.transform(X_train_pf)\n",
    "Z_test = ss.transform(X_test_pf)"
   ]
  },
  {
   "cell_type": "code",
   "execution_count": 12,
   "id": "ee622004-6bee-4783-9bc4-0530f3835a72",
   "metadata": {},
   "outputs": [
    {
     "data": {
      "text/plain": [
       "(1536, 135)"
      ]
     },
     "execution_count": 12,
     "metadata": {},
     "output_type": "execute_result"
    }
   ],
   "source": [
    "Z_train.shape"
   ]
  },
  {
   "cell_type": "code",
   "execution_count": 13,
   "id": "8f495b19-aea6-4d55-8e8a-4921c141f176",
   "metadata": {
    "tags": []
   },
   "outputs": [
    {
     "data": {
      "text/plain": [
       "(878, 135)"
      ]
     },
     "execution_count": 13,
     "metadata": {},
     "output_type": "execute_result"
    }
   ],
   "source": [
    "test = pf.transform(test)\n",
    "test = ss.fit_transform (test)\n",
    "test.shape"
   ]
  },
  {
   "cell_type": "code",
   "execution_count": 14,
   "id": "f0c4ee4e-96e7-455f-9c7a-226c60062510",
   "metadata": {},
   "outputs": [
    {
     "data": {
      "text/plain": [
       "(1536, 135)"
      ]
     },
     "execution_count": 14,
     "metadata": {},
     "output_type": "execute_result"
    }
   ],
   "source": [
    "Z_train.shape"
   ]
  },
  {
   "cell_type": "code",
   "execution_count": 15,
   "id": "d37d9a45-57c9-4289-be8f-38c6586724f9",
   "metadata": {
    "collapsed": true,
    "jupyter": {
     "outputs_hidden": true
    },
    "tags": []
   },
   "outputs": [
    {
     "name": "stderr",
     "output_type": "stream",
     "text": [
      "C:\\Users\\mmoli\\anaconda3\\lib\\site-packages\\sklearn\\linear_model\\_coordinate_descent.py:526: ConvergenceWarning: Objective did not converge. You might want to increase the number of iterations. Duality gap: 1409516028.005005, tolerance: 770758974.6212007\n",
      "  model = cd_fast.enet_coordinate_descent_gram(\n",
      "C:\\Users\\mmoli\\anaconda3\\lib\\site-packages\\sklearn\\linear_model\\_coordinate_descent.py:526: ConvergenceWarning: Objective did not converge. You might want to increase the number of iterations. Duality gap: 1086244092.3481445, tolerance: 770758974.6212007\n",
      "  model = cd_fast.enet_coordinate_descent_gram(\n",
      "C:\\Users\\mmoli\\anaconda3\\lib\\site-packages\\sklearn\\linear_model\\_coordinate_descent.py:526: ConvergenceWarning: Objective did not converge. You might want to increase the number of iterations. Duality gap: 1099703137.3876953, tolerance: 770758974.6212007\n",
      "  model = cd_fast.enet_coordinate_descent_gram(\n",
      "C:\\Users\\mmoli\\anaconda3\\lib\\site-packages\\sklearn\\linear_model\\_coordinate_descent.py:526: ConvergenceWarning: Objective did not converge. You might want to increase the number of iterations. Duality gap: 1008587671.2524414, tolerance: 770758974.6212007\n",
      "  model = cd_fast.enet_coordinate_descent_gram(\n",
      "C:\\Users\\mmoli\\anaconda3\\lib\\site-packages\\sklearn\\linear_model\\_coordinate_descent.py:526: ConvergenceWarning: Objective did not converge. You might want to increase the number of iterations. Duality gap: 854408407.6843262, tolerance: 770758974.6212007\n",
      "  model = cd_fast.enet_coordinate_descent_gram(\n",
      "C:\\Users\\mmoli\\anaconda3\\lib\\site-packages\\sklearn\\linear_model\\_coordinate_descent.py:526: ConvergenceWarning: Objective did not converge. You might want to increase the number of iterations. Duality gap: 1053342432.0109863, tolerance: 770758974.6212007\n",
      "  model = cd_fast.enet_coordinate_descent_gram(\n",
      "C:\\Users\\mmoli\\anaconda3\\lib\\site-packages\\sklearn\\linear_model\\_coordinate_descent.py:526: ConvergenceWarning: Objective did not converge. You might want to increase the number of iterations. Duality gap: 1179748749.3355713, tolerance: 770758974.6212007\n",
      "  model = cd_fast.enet_coordinate_descent_gram(\n",
      "C:\\Users\\mmoli\\anaconda3\\lib\\site-packages\\sklearn\\linear_model\\_coordinate_descent.py:526: ConvergenceWarning: Objective did not converge. You might want to increase the number of iterations. Duality gap: 1065503985.8432617, tolerance: 770758974.6212007\n",
      "  model = cd_fast.enet_coordinate_descent_gram(\n",
      "C:\\Users\\mmoli\\anaconda3\\lib\\site-packages\\sklearn\\linear_model\\_coordinate_descent.py:526: ConvergenceWarning: Objective did not converge. You might want to increase the number of iterations. Duality gap: 1193638546.4864502, tolerance: 770758974.6212007\n",
      "  model = cd_fast.enet_coordinate_descent_gram(\n",
      "C:\\Users\\mmoli\\anaconda3\\lib\\site-packages\\sklearn\\linear_model\\_coordinate_descent.py:526: ConvergenceWarning: Objective did not converge. You might want to increase the number of iterations. Duality gap: 1290654613.1499023, tolerance: 770758974.6212007\n",
      "  model = cd_fast.enet_coordinate_descent_gram(\n",
      "C:\\Users\\mmoli\\anaconda3\\lib\\site-packages\\sklearn\\linear_model\\_coordinate_descent.py:526: ConvergenceWarning: Objective did not converge. You might want to increase the number of iterations. Duality gap: 1317318512.3361816, tolerance: 770758974.6212007\n",
      "  model = cd_fast.enet_coordinate_descent_gram(\n",
      "C:\\Users\\mmoli\\anaconda3\\lib\\site-packages\\sklearn\\linear_model\\_coordinate_descent.py:526: ConvergenceWarning: Objective did not converge. You might want to increase the number of iterations. Duality gap: 1545922342.633545, tolerance: 770758974.6212007\n",
      "  model = cd_fast.enet_coordinate_descent_gram(\n",
      "C:\\Users\\mmoli\\anaconda3\\lib\\site-packages\\sklearn\\linear_model\\_coordinate_descent.py:526: ConvergenceWarning: Objective did not converge. You might want to increase the number of iterations. Duality gap: 895150120.2148438, tolerance: 787358189.9797889\n",
      "  model = cd_fast.enet_coordinate_descent_gram(\n",
      "C:\\Users\\mmoli\\anaconda3\\lib\\site-packages\\sklearn\\linear_model\\_coordinate_descent.py:526: ConvergenceWarning: Objective did not converge. You might want to increase the number of iterations. Duality gap: 930482231.1975098, tolerance: 787358189.9797889\n",
      "  model = cd_fast.enet_coordinate_descent_gram(\n",
      "C:\\Users\\mmoli\\anaconda3\\lib\\site-packages\\sklearn\\linear_model\\_coordinate_descent.py:526: ConvergenceWarning: Objective did not converge. You might want to increase the number of iterations. Duality gap: 1187728185.567627, tolerance: 787358189.9797889\n",
      "  model = cd_fast.enet_coordinate_descent_gram(\n",
      "C:\\Users\\mmoli\\anaconda3\\lib\\site-packages\\sklearn\\linear_model\\_coordinate_descent.py:526: ConvergenceWarning: Objective did not converge. You might want to increase the number of iterations. Duality gap: 1279569231.6450195, tolerance: 787358189.9797889\n",
      "  model = cd_fast.enet_coordinate_descent_gram(\n",
      "C:\\Users\\mmoli\\anaconda3\\lib\\site-packages\\sklearn\\linear_model\\_coordinate_descent.py:526: ConvergenceWarning: Objective did not converge. You might want to increase the number of iterations. Duality gap: 1119902643.869751, tolerance: 787358189.9797889\n",
      "  model = cd_fast.enet_coordinate_descent_gram(\n",
      "C:\\Users\\mmoli\\anaconda3\\lib\\site-packages\\sklearn\\linear_model\\_coordinate_descent.py:526: ConvergenceWarning: Objective did not converge. You might want to increase the number of iterations. Duality gap: 1025359534.2661133, tolerance: 787358189.9797889\n",
      "  model = cd_fast.enet_coordinate_descent_gram(\n",
      "C:\\Users\\mmoli\\anaconda3\\lib\\site-packages\\sklearn\\linear_model\\_coordinate_descent.py:526: ConvergenceWarning: Objective did not converge. You might want to increase the number of iterations. Duality gap: 840890033.8243408, tolerance: 787358189.9797889\n",
      "  model = cd_fast.enet_coordinate_descent_gram(\n",
      "C:\\Users\\mmoli\\anaconda3\\lib\\site-packages\\sklearn\\linear_model\\_coordinate_descent.py:526: ConvergenceWarning: Objective did not converge. You might want to increase the number of iterations. Duality gap: 1102169177.4802246, tolerance: 787358189.9797889\n",
      "  model = cd_fast.enet_coordinate_descent_gram(\n",
      "C:\\Users\\mmoli\\anaconda3\\lib\\site-packages\\sklearn\\linear_model\\_coordinate_descent.py:526: ConvergenceWarning: Objective did not converge. You might want to increase the number of iterations. Duality gap: 990690471.3474121, tolerance: 787358189.9797889\n",
      "  model = cd_fast.enet_coordinate_descent_gram(\n",
      "C:\\Users\\mmoli\\anaconda3\\lib\\site-packages\\sklearn\\linear_model\\_coordinate_descent.py:526: ConvergenceWarning: Objective did not converge. You might want to increase the number of iterations. Duality gap: 899113005.8273926, tolerance: 787358189.9797889\n",
      "  model = cd_fast.enet_coordinate_descent_gram(\n",
      "C:\\Users\\mmoli\\anaconda3\\lib\\site-packages\\sklearn\\linear_model\\_coordinate_descent.py:526: ConvergenceWarning: Objective did not converge. You might want to increase the number of iterations. Duality gap: 793403856.1713867, tolerance: 787358189.9797889\n",
      "  model = cd_fast.enet_coordinate_descent_gram(\n",
      "C:\\Users\\mmoli\\anaconda3\\lib\\site-packages\\sklearn\\linear_model\\_coordinate_descent.py:526: ConvergenceWarning: Objective did not converge. You might want to increase the number of iterations. Duality gap: 788498528.6179199, tolerance: 787358189.9797889\n",
      "  model = cd_fast.enet_coordinate_descent_gram(\n",
      "C:\\Users\\mmoli\\anaconda3\\lib\\site-packages\\sklearn\\linear_model\\_coordinate_descent.py:526: ConvergenceWarning: Objective did not converge. You might want to increase the number of iterations. Duality gap: 941349859.9458008, tolerance: 776863606.6445853\n",
      "  model = cd_fast.enet_coordinate_descent_gram(\n",
      "C:\\Users\\mmoli\\anaconda3\\lib\\site-packages\\sklearn\\linear_model\\_coordinate_descent.py:526: ConvergenceWarning: Objective did not converge. You might want to increase the number of iterations. Duality gap: 987609359.4003906, tolerance: 776863606.6445853\n",
      "  model = cd_fast.enet_coordinate_descent_gram(\n",
      "C:\\Users\\mmoli\\anaconda3\\lib\\site-packages\\sklearn\\linear_model\\_coordinate_descent.py:526: ConvergenceWarning: Objective did not converge. You might want to increase the number of iterations. Duality gap: 1175925014.682495, tolerance: 776863606.6445853\n",
      "  model = cd_fast.enet_coordinate_descent_gram(\n",
      "C:\\Users\\mmoli\\anaconda3\\lib\\site-packages\\sklearn\\linear_model\\_coordinate_descent.py:526: ConvergenceWarning: Objective did not converge. You might want to increase the number of iterations. Duality gap: 1339434829.6138916, tolerance: 776863606.6445853\n",
      "  model = cd_fast.enet_coordinate_descent_gram(\n",
      "C:\\Users\\mmoli\\anaconda3\\lib\\site-packages\\sklearn\\linear_model\\_coordinate_descent.py:526: ConvergenceWarning: Objective did not converge. You might want to increase the number of iterations. Duality gap: 1458440255.5566406, tolerance: 776863606.6445853\n",
      "  model = cd_fast.enet_coordinate_descent_gram(\n",
      "C:\\Users\\mmoli\\anaconda3\\lib\\site-packages\\sklearn\\linear_model\\_coordinate_descent.py:526: ConvergenceWarning: Objective did not converge. You might want to increase the number of iterations. Duality gap: 1193736915.4128418, tolerance: 776863606.6445853\n",
      "  model = cd_fast.enet_coordinate_descent_gram(\n",
      "C:\\Users\\mmoli\\anaconda3\\lib\\site-packages\\sklearn\\linear_model\\_coordinate_descent.py:526: ConvergenceWarning: Objective did not converge. You might want to increase the number of iterations. Duality gap: 1220634186.7954102, tolerance: 776863606.6445853\n",
      "  model = cd_fast.enet_coordinate_descent_gram(\n",
      "C:\\Users\\mmoli\\anaconda3\\lib\\site-packages\\sklearn\\linear_model\\_coordinate_descent.py:526: ConvergenceWarning: Objective did not converge. You might want to increase the number of iterations. Duality gap: 848607058.5639648, tolerance: 817855839.166043\n",
      "  model = cd_fast.enet_coordinate_descent_gram(\n",
      "C:\\Users\\mmoli\\anaconda3\\lib\\site-packages\\sklearn\\linear_model\\_coordinate_descent.py:526: ConvergenceWarning: Objective did not converge. You might want to increase the number of iterations. Duality gap: 980775728.9055176, tolerance: 817855839.166043\n",
      "  model = cd_fast.enet_coordinate_descent_gram(\n",
      "C:\\Users\\mmoli\\anaconda3\\lib\\site-packages\\sklearn\\linear_model\\_coordinate_descent.py:526: ConvergenceWarning: Objective did not converge. You might want to increase the number of iterations. Duality gap: 1121009418.9490967, tolerance: 817855839.166043\n",
      "  model = cd_fast.enet_coordinate_descent_gram(\n",
      "C:\\Users\\mmoli\\anaconda3\\lib\\site-packages\\sklearn\\linear_model\\_coordinate_descent.py:526: ConvergenceWarning: Objective did not converge. You might want to increase the number of iterations. Duality gap: 1477209665.7260742, tolerance: 817855839.166043\n",
      "  model = cd_fast.enet_coordinate_descent_gram(\n",
      "C:\\Users\\mmoli\\anaconda3\\lib\\site-packages\\sklearn\\linear_model\\_coordinate_descent.py:526: ConvergenceWarning: Objective did not converge. You might want to increase the number of iterations. Duality gap: 1602275927.175293, tolerance: 817855839.166043\n",
      "  model = cd_fast.enet_coordinate_descent_gram(\n",
      "C:\\Users\\mmoli\\anaconda3\\lib\\site-packages\\sklearn\\linear_model\\_coordinate_descent.py:526: ConvergenceWarning: Objective did not converge. You might want to increase the number of iterations. Duality gap: 2122970122.5480957, tolerance: 817855839.166043\n",
      "  model = cd_fast.enet_coordinate_descent_gram(\n",
      "C:\\Users\\mmoli\\anaconda3\\lib\\site-packages\\sklearn\\linear_model\\_coordinate_descent.py:526: ConvergenceWarning: Objective did not converge. You might want to increase the number of iterations. Duality gap: 1986093071.960205, tolerance: 817855839.166043\n",
      "  model = cd_fast.enet_coordinate_descent_gram(\n",
      "C:\\Users\\mmoli\\anaconda3\\lib\\site-packages\\sklearn\\linear_model\\_coordinate_descent.py:526: ConvergenceWarning: Objective did not converge. You might want to increase the number of iterations. Duality gap: 2166583062.9160156, tolerance: 817855839.166043\n",
      "  model = cd_fast.enet_coordinate_descent_gram(\n",
      "C:\\Users\\mmoli\\anaconda3\\lib\\site-packages\\sklearn\\linear_model\\_coordinate_descent.py:526: ConvergenceWarning: Objective did not converge. You might want to increase the number of iterations. Duality gap: 1468703870.434082, tolerance: 817855839.166043\n",
      "  model = cd_fast.enet_coordinate_descent_gram(\n",
      "C:\\Users\\mmoli\\anaconda3\\lib\\site-packages\\sklearn\\linear_model\\_coordinate_descent.py:530: ConvergenceWarning: Objective did not converge. You might want to increase the number of iterations. Duality gap: 35078221715.66858, tolerance: 960340167.395799\n",
      "  model = cd_fast.enet_coordinate_descent(\n"
     ]
    },
    {
     "data": {
      "text/plain": [
       "(0.9014166273617451, 0.8866754800932498)"
      ]
     },
     "execution_count": 15,
     "metadata": {},
     "output_type": "execute_result"
    }
   ],
   "source": [
    "l_alphas = np.linspace(0.000001, .3, 3000)\n",
    "lcv = LassoCV()\n",
    "lcv.fit(Z_train, y_train)\n",
    "lcv.score(Z_train, y_train), lcv.score(Z_test, y_test)"
   ]
  },
  {
   "cell_type": "code",
   "execution_count": 16,
   "id": "738030f1-675e-4b7c-bf68-a5b7a2f70ed6",
   "metadata": {
    "tags": []
   },
   "outputs": [
    {
     "data": {
      "text/plain": [
       "65.35377948965409"
      ]
     },
     "execution_count": 16,
     "metadata": {},
     "output_type": "execute_result"
    }
   ],
   "source": [
    "lcv.alpha_"
   ]
  },
  {
   "cell_type": "code",
   "execution_count": 17,
   "id": "f7cfb381-522f-4007-935e-17634ef02e41",
   "metadata": {
    "tags": []
   },
   "outputs": [
    {
     "data": {
      "text/plain": [
       "<bound method RegressorMixin.score of LassoCV()>"
      ]
     },
     "execution_count": 17,
     "metadata": {},
     "output_type": "execute_result"
    }
   ],
   "source": [
    "lcv.score"
   ]
  },
  {
   "cell_type": "code",
   "execution_count": 18,
   "id": "ead98143-9324-4e52-ba76-80b3f6d88df6",
   "metadata": {
    "tags": []
   },
   "outputs": [],
   "source": [
    "# lcv.fit(Z_train, y_train)\n",
    "# y_preds = lcv.predict(Z_test)\n",
    "# resids = y_test-y_preds                     \n",
    "# resids.mean()"
   ]
  },
  {
   "cell_type": "code",
   "execution_count": 19,
   "id": "b918b5ba-32c2-48fe-a0d9-f2213d4ff7c4",
   "metadata": {
    "jupyter": {
     "source_hidden": true
    },
    "tags": []
   },
   "outputs": [
    {
     "data": {
      "text/plain": [
       "(2049, 88)"
      ]
     },
     "execution_count": 19,
     "metadata": {},
     "output_type": "execute_result"
    }
   ],
   "source": [
    "df.shape"
   ]
  },
  {
   "cell_type": "code",
   "execution_count": 20,
   "id": "cf0bf905-5383-4c0e-ba3f-3e6ac8157ebe",
   "metadata": {},
   "outputs": [
    {
     "data": {
      "text/plain": [
       "(878, 135)"
      ]
     },
     "execution_count": 20,
     "metadata": {},
     "output_type": "execute_result"
    }
   ],
   "source": [
    "test.shape"
   ]
  },
  {
   "cell_type": "code",
   "execution_count": 21,
   "id": "9fa89db6-6bae-4e04-b2e7-b5fd86254502",
   "metadata": {
    "tags": []
   },
   "outputs": [],
   "source": [
    "predicted_prices = lcv.predict(test)"
   ]
  },
  {
   "cell_type": "code",
   "execution_count": 22,
   "id": "4e1962de-8ce0-4a92-9b4d-cfb320fa68b9",
   "metadata": {},
   "outputs": [
    {
     "data": {
      "text/plain": [
       "(878,)"
      ]
     },
     "execution_count": 22,
     "metadata": {},
     "output_type": "execute_result"
    }
   ],
   "source": [
    "predicted_prices.shape"
   ]
  },
  {
   "cell_type": "code",
   "execution_count": 24,
   "id": "f36a11a0-6277-475a-a794-4d4bafab5a46",
   "metadata": {},
   "outputs": [],
   "source": [
    "# test['Id']"
   ]
  },
  {
   "cell_type": "code",
   "execution_count": 26,
   "id": "afe2a56c-1d71-4269-aee0-85ca80f48b3e",
   "metadata": {
    "tags": []
   },
   "outputs": [],
   "source": [
    "sub_2 = pd.DataFrame({'Id': test_original['Id'].values , 'SalePrice': predicted_prices})"
   ]
  },
  {
   "cell_type": "code",
   "execution_count": 27,
   "id": "2b313875-64b5-4c15-a3ef-363de52e8c1f",
   "metadata": {},
   "outputs": [],
   "source": [
    "sub_2.to_csv('submission.csv', index=False)"
   ]
  },
  {
   "cell_type": "code",
   "execution_count": null,
   "id": "6002310f-3454-48fa-9a2e-b14440e977ed",
   "metadata": {},
   "outputs": [],
   "source": []
  }
 ],
 "metadata": {
  "kernelspec": {
   "display_name": "Python 3 (ipykernel)",
   "language": "python",
   "name": "python3"
  },
  "language_info": {
   "codemirror_mode": {
    "name": "ipython",
    "version": 3
   },
   "file_extension": ".py",
   "mimetype": "text/x-python",
   "name": "python",
   "nbconvert_exporter": "python",
   "pygments_lexer": "ipython3",
   "version": "3.9.7"
  }
 },
 "nbformat": 4,
 "nbformat_minor": 5
}
