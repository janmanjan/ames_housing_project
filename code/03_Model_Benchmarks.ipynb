{
 "cells": [
  {
   "cell_type": "markdown",
   "id": "c6e43a14-2e01-4943-91f2-9eab83b12b34",
   "metadata": {},
   "source": [
    "### Imports"
   ]
  },
  {
   "cell_type": "code",
   "execution_count": 50,
   "id": "54bb6da1-a510-4aef-9cef-0b66c1622833",
   "metadata": {},
   "outputs": [],
   "source": [
    "import pandas as pd\n",
    "import numpy as np\n",
    "import matplotlib.pyplot as plt\n",
    "import seaborn as sns\n",
    "\n",
    "from sklearn.model_selection import train_test_split, cross_val_score\n",
    "from sklearn.linear_model import LinearRegression, Lasso, LassoCV\n",
    "from sklearn.preprocessing import OneHotEncoder, StandardScaler, PolynomialFeatures\n",
    "from sklearn.metrics import mean_squared_error, r2_score, mean_absolute_error"
   ]
  },
  {
   "cell_type": "markdown",
   "id": "862eee19-aef1-468c-9e90-df6ca6f4dc12",
   "metadata": {},
   "source": [
    "### Data"
   ]
  },
  {
   "cell_type": "code",
   "execution_count": 51,
   "id": "2a48a4b6-45ea-4e45-b76c-b250ffdf59c9",
   "metadata": {},
   "outputs": [],
   "source": [
    "df = pd.read_csv('datasets/train.csv')\n",
    "df = df.rename(str.lower, axis=1)\n",
    "df.columns = [name.replace(' ', '_') if ' ' in name else name for name in df.columns]\n",
    "\n",
    "# Model 2\n",
    "df['age'] = [df['year_built'].max()-year for year in df['year_built']]\n",
    "df['age*overall_qual'] = df['age']*df['overall_qual']\n",
    "\n",
    "# Model 3\n",
    "kitchen_qual_order = {'Po': 0, 'Fa': 1, 'TA': 2, 'Gd': 3, 'Ex': 4}\n",
    "df['kitchen_qual_order'] = [kitchen_qual_order[n] for n in df['kitchen_qual']]\n",
    "\n",
    "# Model 4\n",
    "df['gr_liv_area/totrms_abvgrd'] = df['gr_liv_area']/df['totrms_abvgrd']\n",
    "df['since_remod/add'] = [2010-year for year in df['year_remod/add']]\n",
    "\n",
    "# Model 5\n",
    "df.drop(index=1712, inplace=True)\n",
    "df.drop(index=1327, inplace=True)"
   ]
  },
  {
   "cell_type": "markdown",
   "id": "e61b2754-ce05-43ef-ad6a-f10dc656431f",
   "metadata": {
    "tags": []
   },
   "source": [
    "#### Model 1"
   ]
  },
  {
   "cell_type": "markdown",
   "id": "5964e5c9-6dbc-4b40-8e0a-80f95b796728",
   "metadata": {
    "tags": []
   },
   "source": [
    "##### Features 1"
   ]
  },
  {
   "cell_type": "code",
   "execution_count": 52,
   "id": "8cc732fe-97df-42c6-ae51-dad5769bd6cd",
   "metadata": {
    "jupyter": {
     "source_hidden": true
    },
    "tags": []
   },
   "outputs": [],
   "source": [
    "features_1 = df[['gr_liv_area', 'bedroom_abvgr', 'year_built', 'overall_qual', 'mo_sold', 'saleprice']]\n",
    "pd.get_dummies(features_1, columns=['mo_sold']);\n",
    "months = pd.get_dummies(features_1['mo_sold'], drop_first=True)\n",
    "features_1 = pd.concat([features_1, months], axis=1)\n",
    "features_1.drop(columns='saleprice', inplace=True)"
   ]
  },
  {
   "cell_type": "code",
   "execution_count": 53,
   "id": "c7503762-7079-490c-b002-7fb0ff6824f0",
   "metadata": {
    "jupyter": {
     "source_hidden": true
    },
    "tags": []
   },
   "outputs": [
    {
     "name": "stdout",
     "output_type": "stream",
     "text": [
      "r2 train  = 0.7552090531112063\n",
      "r2 test   = 0.770245148409275\n"
     ]
    }
   ],
   "source": [
    "X = features_1\n",
    "y = df['saleprice']\n",
    "X_train, X_test, y_train, y_test = train_test_split(X, y, random_state=42)\n",
    "model_1 = LinearRegression()\n",
    "model_1.fit(X_train, y_train)\n",
    "print(f'r2 train  = {model_1.score(X_train, y_train)}')\n",
    "print(f'r2 test   = {model_1.score(X_test, y_test)}')"
   ]
  },
  {
   "cell_type": "code",
   "execution_count": 54,
   "id": "4dc4932d-d277-4c7b-b3d5-3157dcba1d49",
   "metadata": {
    "tags": []
   },
   "outputs": [
    {
     "name": "stdout",
     "output_type": "stream",
     "text": [
      "residual mean = -351.6649230543232\n",
      "mae = 27132.355688545278\n",
      "rmse = 38226.105262089324\n",
      "cvs mean = 0.7376816086016678\n"
     ]
    }
   ],
   "source": [
    "y_preds = model_1.predict(X_test)\n",
    "resids = y_test-y_preds                     \n",
    "print(f'residual mean = {resids.mean()}')\n",
    "\n",
    "mae = mean_absolute_error(y_test, y_preds)\n",
    "print(f'mae = {mae}')\n",
    "\n",
    "mse = mean_squared_error(y_test, y_preds, squared=False) \n",
    "print(f'rmse = {mse}')\n",
    "\n",
    "cvs = cross_val_score(model_1, X_train, y_train, cv=5).mean()\n",
    "print(f'cvs mean = {cvs}')"
   ]
  },
  {
   "cell_type": "markdown",
   "id": "d3a6103e-addb-4664-aff5-d8aae5489587",
   "metadata": {
    "jp-MarkdownHeadingCollapsed": true,
    "tags": []
   },
   "source": [
    "* Underfit - add more variables"
   ]
  },
  {
   "cell_type": "markdown",
   "id": "9ebb2718-ab95-4416-986a-3b25ac18bee9",
   "metadata": {
    "tags": []
   },
   "source": [
    "#### Model 2"
   ]
  },
  {
   "cell_type": "markdown",
   "id": "e4d356e2-dd7c-4878-b65a-3a78c371cf6e",
   "metadata": {},
   "source": [
    "##### Features 2"
   ]
  },
  {
   "cell_type": "code",
   "execution_count": 56,
   "id": "1f634f52-a728-4015-a5b2-a20cc0590177",
   "metadata": {
    "tags": []
   },
   "outputs": [],
   "source": [
    "features_2 = df[['gr_liv_area', 'bedroom_abvgr', 'age','overall_qual', 'age*overall_qual']]"
   ]
  },
  {
   "cell_type": "code",
   "execution_count": 61,
   "id": "c1a2b928-b777-4314-aa78-3e4b959e583d",
   "metadata": {
    "tags": []
   },
   "outputs": [
    {
     "name": "stdout",
     "output_type": "stream",
     "text": [
      "r2 train  = 0.7672682804354963\n",
      "r2 test   = 0.7926111449087396\n"
     ]
    }
   ],
   "source": [
    "X = features_2\n",
    "y = df['saleprice']\n",
    "X_train, X_test, y_train, y_test = train_test_split(X, y, random_state=42)\n",
    "model_2 = LinearRegression()\n",
    "model_2.fit(X_train, y_train)\n",
    "print(f'r2 train  = {model_2.score(X_train, y_train)}')\n",
    "print(f'r2 test   = {model_2.score(X_test, y_test)}')"
   ]
  },
  {
   "cell_type": "code",
   "execution_count": 62,
   "id": "1817a284-2e26-4dfc-91d5-d26dd13cdb47",
   "metadata": {
    "jupyter": {
     "source_hidden": true
    },
    "tags": []
   },
   "outputs": [
    {
     "name": "stdout",
     "output_type": "stream",
     "text": [
      "residual mean = -1125.4885553854228\n",
      "mae = 25912.85895589499\n",
      "rmse = 36317.87361376306\n",
      "cvs mean = 0.7555925409341298\n"
     ]
    }
   ],
   "source": [
    "y_preds = model_2.predict(X_test)\n",
    "resids = y_test-y_preds                     \n",
    "print(f'residual mean = {resids.mean()}')\n",
    "\n",
    "mae = mean_absolute_error(y_test, y_preds)\n",
    "print(f'mae = {mae}')\n",
    "\n",
    "mse = mean_squared_error(y_test, y_preds, squared=False) \n",
    "print(f'rmse = {mse}')\n",
    "\n",
    "cvs = cross_val_score(model_2, X_train, y_train, cv=5).mean()\n",
    "print(f'cvs mean = {cvs}')"
   ]
  },
  {
   "cell_type": "markdown",
   "id": "c9dc7d2a-3add-4d14-9027-3248005c419c",
   "metadata": {},
   "source": [
    "* Underfit - add more variables"
   ]
  },
  {
   "cell_type": "code",
   "execution_count": 64,
   "id": "2a674769-91e8-4d82-b3f5-0a733d7eb7fb",
   "metadata": {},
   "outputs": [
    {
     "data": {
      "text/plain": [
       "(array([  5.,  66., 132.,  75.,  76.,  84.,  27.,  33.,   8.,   7.]),\n",
       " array([ 40687.03556   ,  76040.11941726, 111393.20327451, 146746.28713177,\n",
       "        182099.37098903, 217452.45484628, 252805.53870354, 288158.6225608 ,\n",
       "        323511.70641805, 358864.79027531, 394217.87413257]),\n",
       " <BarContainer object of 10 artists>)"
      ]
     },
     "execution_count": 64,
     "metadata": {},
     "output_type": "execute_result"
    },
    {
     "data": {
      "image/png": "[encoded data removed]",
      "text/plain": [
       "<Figure size 432x288 with 1 Axes>"
      ]
     },
     "metadata": {
      "needs_background": "light"
     },
     "output_type": "display_data"
    }
   ],
   "source": [
    "plt.hist(y_preds)"
   ]
  },
  {
   "cell_type": "code",
   "execution_count": 70,
   "id": "b89a2f9a-eac4-417d-8ad0-9bad249f15a1",
   "metadata": {},
   "outputs": [
    {
     "data": {
      "text/plain": [
       "<matplotlib.collections.PathCollection at 0x2130233d220>"
      ]
     },
     "execution_count": 70,
     "metadata": {},
     "output_type": "execute_result"
    },
    {
     "data": {
      "image/png": "[encoded data removed]",
      "text/plain": [
       "<Figure size 432x288 with 1 Axes>"
      ]
     },
     "metadata": {
      "needs_background": "light"
     },
     "output_type": "display_data"
    }
   ],
   "source": [
    "plt.scatter(x=y_test, y=y_preds)"
   ]
  },
  {
   "cell_type": "code",
   "execution_count": 74,
   "id": "da5e2d89-cff7-4731-8d01-eb3135ea3a63",
   "metadata": {},
   "outputs": [
    {
     "data": {
      "text/plain": [
       "(-250000.0, 250000.0)"
      ]
     },
     "execution_count": 74,
     "metadata": {},
     "output_type": "execute_result"
    },
    {
     "data": {
      "image/png": "[encoded data removed]",
      "text/plain": [
       "<Figure size 432x288 with 1 Axes>"
      ]
     },
     "metadata": {
      "needs_background": "light"
     },
     "output_type": "display_data"
    }
   ],
   "source": [
    "plt.scatter(y_preds, resids)\n",
    "plt.axhline(0, color='purple')\n",
    "plt.ylim(-250000, 250000)"
   ]
  },
  {
   "cell_type": "code",
   "execution_count": 75,
   "id": "37c35a2f-6e86-460d-a967-b6cffcbe388a",
   "metadata": {},
   "outputs": [
    {
     "name": "stderr",
     "output_type": "stream",
     "text": [
      "C:\\Users\\mmoli\\anaconda3\\lib\\site-packages\\statsmodels\\tsa\\tsatools.py:142: FutureWarning: In a future version of pandas all arguments of concat except for the argument 'objs' will be keyword-only\n",
      "  x = pd.concat(x[::order], 1)\n"
     ]
    },
    {
     "data": {
      "text/html": [
       "<table class=\"simpletable\">\n",
       "<caption>OLS Regression Results</caption>\n",
       "<tr>\n",
       "  <th>Dep. Variable:</th>        <td>saleprice</td>    <th>  R-squared:         </th> <td>   0.774</td> \n",
       "</tr>\n",
       "<tr>\n",
       "  <th>Model:</th>                   <td>OLS</td>       <th>  Adj. R-squared:    </th> <td>   0.774</td> \n",
       "</tr>\n",
       "<tr>\n",
       "  <th>Method:</th>             <td>Least Squares</td>  <th>  F-statistic:       </th> <td>   1400.</td> \n",
       "</tr>\n",
       "<tr>\n",
       "  <th>Date:</th>             <td>Thu, 23 Dec 2021</td> <th>  Prob (F-statistic):</th>  <td>  0.00</td>  \n",
       "</tr>\n",
       "<tr>\n",
       "  <th>Time:</th>                 <td>01:42:26</td>     <th>  Log-Likelihood:    </th> <td> -24497.</td> \n",
       "</tr>\n",
       "<tr>\n",
       "  <th>No. Observations:</th>      <td>  2049</td>      <th>  AIC:               </th> <td>4.901e+04</td>\n",
       "</tr>\n",
       "<tr>\n",
       "  <th>Df Residuals:</th>          <td>  2043</td>      <th>  BIC:               </th> <td>4.904e+04</td>\n",
       "</tr>\n",
       "<tr>\n",
       "  <th>Df Model:</th>              <td>     5</td>      <th>                     </th>     <td> </td>    \n",
       "</tr>\n",
       "<tr>\n",
       "  <th>Covariance Type:</th>      <td>nonrobust</td>    <th>                     </th>     <td> </td>    \n",
       "</tr>\n",
       "</table>\n",
       "<table class=\"simpletable\">\n",
       "<tr>\n",
       "          <td></td>            <th>coef</th>     <th>std err</th>      <th>t</th>      <th>P>|t|</th>  <th>[0.025</th>    <th>0.975]</th>  \n",
       "</tr>\n",
       "<tr>\n",
       "  <th>const</th>            <td>-9.264e+04</td> <td> 8324.675</td> <td>  -11.129</td> <td> 0.000</td> <td>-1.09e+05</td> <td>-7.63e+04</td>\n",
       "</tr>\n",
       "<tr>\n",
       "  <th>gr_liv_area</th>      <td>   67.6230</td> <td>    2.530</td> <td>   26.723</td> <td> 0.000</td> <td>   62.660</td> <td>   72.586</td>\n",
       "</tr>\n",
       "<tr>\n",
       "  <th>bedroom_abvgr</th>    <td>-7289.3455</td> <td> 1272.803</td> <td>   -5.727</td> <td> 0.000</td> <td>-9785.471</td> <td>-4793.220</td>\n",
       "</tr>\n",
       "<tr>\n",
       "  <th>age</th>              <td> 1019.3588</td> <td>  131.596</td> <td>    7.746</td> <td> 0.000</td> <td>  761.282</td> <td> 1277.436</td>\n",
       "</tr>\n",
       "<tr>\n",
       "  <th>overall_qual</th>     <td> 3.379e+04</td> <td> 1215.132</td> <td>   27.809</td> <td> 0.000</td> <td> 3.14e+04</td> <td> 3.62e+04</td>\n",
       "</tr>\n",
       "<tr>\n",
       "  <th>age*overall_qual</th> <td> -250.4204</td> <td>   21.027</td> <td>  -11.910</td> <td> 0.000</td> <td> -291.656</td> <td> -209.185</td>\n",
       "</tr>\n",
       "</table>\n",
       "<table class=\"simpletable\">\n",
       "<tr>\n",
       "  <th>Omnibus:</th>       <td>545.023</td> <th>  Durbin-Watson:     </th> <td>   2.014</td> \n",
       "</tr>\n",
       "<tr>\n",
       "  <th>Prob(Omnibus):</th> <td> 0.000</td>  <th>  Jarque-Bera (JB):  </th> <td>30554.776</td>\n",
       "</tr>\n",
       "<tr>\n",
       "  <th>Skew:</th>          <td>-0.359</td>  <th>  Prob(JB):          </th> <td>    0.00</td> \n",
       "</tr>\n",
       "<tr>\n",
       "  <th>Kurtosis:</th>      <td>21.904</td>  <th>  Cond. No.          </th> <td>1.61e+04</td> \n",
       "</tr>\n",
       "</table><br/><br/>Notes:<br/>[1] Standard Errors assume that the covariance matrix of the errors is correctly specified.<br/>[2] The condition number is large, 1.61e+04. This might indicate that there are<br/>strong multicollinearity or other numerical problems."
      ],
      "text/plain": [
       "<class 'statsmodels.iolib.summary.Summary'>\n",
       "\"\"\"\n",
       "                            OLS Regression Results                            \n",
       "==============================================================================\n",
       "Dep. Variable:              saleprice   R-squared:                       0.774\n",
       "Model:                            OLS   Adj. R-squared:                  0.774\n",
       "Method:                 Least Squares   F-statistic:                     1400.\n",
       "Date:                Thu, 23 Dec 2021   Prob (F-statistic):               0.00\n",
       "Time:                        01:42:26   Log-Likelihood:                -24497.\n",
       "No. Observations:                2049   AIC:                         4.901e+04\n",
       "Df Residuals:                    2043   BIC:                         4.904e+04\n",
       "Df Model:                           5                                         \n",
       "Covariance Type:            nonrobust                                         \n",
       "====================================================================================\n",
       "                       coef    std err          t      P>|t|      [0.025      0.975]\n",
       "------------------------------------------------------------------------------------\n",
       "const            -9.264e+04   8324.675    -11.129      0.000   -1.09e+05   -7.63e+04\n",
       "gr_liv_area         67.6230      2.530     26.723      0.000      62.660      72.586\n",
       "bedroom_abvgr    -7289.3455   1272.803     -5.727      0.000   -9785.471   -4793.220\n",
       "age               1019.3588    131.596      7.746      0.000     761.282    1277.436\n",
       "overall_qual      3.379e+04   1215.132     27.809      0.000    3.14e+04    3.62e+04\n",
       "age*overall_qual  -250.4204     21.027    -11.910      0.000    -291.656    -209.185\n",
       "==============================================================================\n",
       "Omnibus:                      545.023   Durbin-Watson:                   2.014\n",
       "Prob(Omnibus):                  0.000   Jarque-Bera (JB):            30554.776\n",
       "Skew:                          -0.359   Prob(JB):                         0.00\n",
       "Kurtosis:                      21.904   Cond. No.                     1.61e+04\n",
       "==============================================================================\n",
       "\n",
       "Notes:\n",
       "[1] Standard Errors assume that the covariance matrix of the errors is correctly specified.\n",
       "[2] The condition number is large, 1.61e+04. This might indicate that there are\n",
       "strong multicollinearity or other numerical problems.\n",
       "\"\"\""
      ]
     },
     "execution_count": 75,
     "metadata": {},
     "output_type": "execute_result"
    }
   ],
   "source": [
    "import statsmodels.api as sm\n",
    "\n",
    "X = features_2\n",
    "X = sm.add_constant(X)\n",
    "y = df['saleprice']\n",
    "ols = sm.OLS(y, X).fit()\n",
    "\n",
    "ols.summary()"
   ]
  },
  {
   "cell_type": "markdown",
   "id": "c5d0953f-7c5d-45fc-8c06-d14cd26e6c89",
   "metadata": {},
   "source": [
    "#### Model 3"
   ]
  },
  {
   "cell_type": "markdown",
   "id": "ae2ac548-5149-429c-aa6d-cf717ac54207",
   "metadata": {},
   "source": [
    "##### Features 3"
   ]
  },
  {
   "cell_type": "code",
   "execution_count": 9,
   "id": "a8d09a74-0304-4e46-907d-f7594a1358de",
   "metadata": {
    "jupyter": {
     "source_hidden": true
    },
    "tags": []
   },
   "outputs": [],
   "source": [
    "features_3 = df[['gr_liv_area', 'bedroom_abvgr', 'age','overall_qual', 'age*overall_qual', 'kitchen_qual_order']]"
   ]
  },
  {
   "cell_type": "code",
   "execution_count": 10,
   "id": "5d95ee0e-9c7b-45dc-b329-7c855a4881fa",
   "metadata": {
    "jupyter": {
     "source_hidden": true
    },
    "tags": []
   },
   "outputs": [
    {
     "name": "stdout",
     "output_type": "stream",
     "text": [
      "r2 train  = 0.778761547814123\n",
      "r2 test   = 0.7997968849318385\n"
     ]
    }
   ],
   "source": [
    "X = features_3\n",
    "y = df['saleprice']\n",
    "X_train, X_test, y_train, y_test = train_test_split(X, y, random_state=42)\n",
    "model_3 = LinearRegression()\n",
    "model_3.fit(X_train, y_train)\n",
    "model_3.score(X_train, y_train), model_3.score(X_test, y_test)\n",
    "print(f'r2 train  = {model_3.score(X_train, y_train)}')\n",
    "print(f'r2 test   = {model_3.score(X_test, y_test)}')"
   ]
  },
  {
   "cell_type": "code",
   "execution_count": 11,
   "id": "ee2a997b-f303-4baf-9b7e-063efa973569",
   "metadata": {
    "jupyter": {
     "source_hidden": true
    },
    "tags": []
   },
   "outputs": [
    {
     "name": "stdout",
     "output_type": "stream",
     "text": [
      "residual mean = -727.3213927221524\n",
      "mae = 25551.152142605806\n",
      "rmse = 35683.1447124495\n",
      "cvs = 0.7678186550307776\n"
     ]
    }
   ],
   "source": [
    "y_preds = model_3.predict(X_test)\n",
    "resids = y_test-y_preds                     \n",
    "print(f'residual mean = {resids.mean()}')\n",
    "\n",
    "mae = mean_absolute_error(y_test, y_preds)\n",
    "print(f'mae = {mae}')\n",
    "\n",
    "mse = mean_squared_error(y_test, y_preds, squared=False) \n",
    "print(f'rmse = {mse}')\n",
    "\n",
    "cvs = cross_val_score(model_3, X_train, y_train, cv=5).mean()\n",
    "print(f'cvs = {cvs}')"
   ]
  },
  {
   "cell_type": "markdown",
   "id": "ed726686-fac9-4cb2-91e7-b2e15316a3c5",
   "metadata": {},
   "source": [
    "* Underfit - add more variables"
   ]
  },
  {
   "cell_type": "markdown",
   "id": "fc941fea-1cdc-4ba7-94c2-079508714f33",
   "metadata": {
    "tags": []
   },
   "source": [
    "#### Model 4"
   ]
  },
  {
   "cell_type": "markdown",
   "id": "dcc06bdd-9cfd-4d9b-9225-e333b9dcceaa",
   "metadata": {},
   "source": [
    "##### Features 4"
   ]
  },
  {
   "cell_type": "code",
   "execution_count": 12,
   "id": "182bdd03-cad4-4109-8569-8e9eeb70e60e",
   "metadata": {
    "jupyter": {
     "source_hidden": true
    },
    "tags": []
   },
   "outputs": [],
   "source": [
    "features_4 = df[['gr_liv_area', 'bedroom_abvgr', 'age','overall_qual', 'age*overall_qual', 'kitchen_qual_order', 'gr_liv_area/totrms_abvgrd', 'since_remod/add']]"
   ]
  },
  {
   "cell_type": "code",
   "execution_count": 13,
   "id": "690d6d18-a3e8-4f11-a3bb-74a166108bda",
   "metadata": {
    "jupyter": {
     "source_hidden": true
    },
    "tags": []
   },
   "outputs": [
    {
     "name": "stdout",
     "output_type": "stream",
     "text": [
      "r2 train  = 0.778811777208161\n",
      "r2 test   = 0.7999180749917192\n"
     ]
    }
   ],
   "source": [
    "X = features_4\n",
    "y = df['saleprice']\n",
    "X_train, X_test, y_train, y_test = train_test_split(X, y, random_state=42)\n",
    "model_4 = LinearRegression()\n",
    "model_4.fit(X_train, y_train)\n",
    "model_4.score(X_train, y_train), model_4.score(X_test, y_test)\n",
    "print(f'r2 train  = {model_4.score(X_train, y_train)}')\n",
    "print(f'r2 test   = {model_4.score(X_test, y_test)}')"
   ]
  },
  {
   "cell_type": "code",
   "execution_count": 14,
   "id": "1edd9bfb-40b7-4171-8470-a35b0c4b06da",
   "metadata": {
    "jupyter": {
     "source_hidden": true
    },
    "tags": []
   },
   "outputs": [
    {
     "name": "stdout",
     "output_type": "stream",
     "text": [
      "residual mean = -693.2218082396726\n",
      "mae = 25528.129913671335\n",
      "rmse = 35672.34293977033\n",
      "cvs mean = 0.7670283944705635\n"
     ]
    }
   ],
   "source": [
    "y_preds = model_4.predict(X_test)\n",
    "resids = y_test-y_preds                     \n",
    "print(f'residual mean = {resids.mean()}')\n",
    "\n",
    "mae = mean_absolute_error(y_test, y_preds)\n",
    "print(f'mae = {mae}')\n",
    "\n",
    "mse = mean_squared_error(y_test, y_preds, squared=False) \n",
    "print(f'rmse = {mse}')\n",
    "\n",
    "cvs = cross_val_score(model_4, X_train, y_train, cv=5).mean()\n",
    "print(f'cvs mean = {cvs}')"
   ]
  },
  {
   "cell_type": "markdown",
   "id": "e1113b9c-c27d-4208-848e-663c767c58ed",
   "metadata": {},
   "source": [
    "* No improvement after 2 latest additions, perhaps disregard additions\n",
    "* look at eda"
   ]
  },
  {
   "cell_type": "markdown",
   "id": "ca0b70d7-b2b2-4d37-9fd4-a3cefb3e7c1d",
   "metadata": {},
   "source": [
    "#### Model 5"
   ]
  },
  {
   "cell_type": "markdown",
   "id": "1d20e719-c5f9-4143-8b05-46172e137355",
   "metadata": {},
   "source": [
    "##### Features 5"
   ]
  },
  {
   "cell_type": "code",
   "execution_count": 15,
   "id": "21ed8d4b-08cc-400b-8836-375fda750cd5",
   "metadata": {
    "jupyter": {
     "source_hidden": true
    },
    "tags": []
   },
   "outputs": [],
   "source": [
    "features_5 = df[['gr_liv_area', 'bedroom_abvgr', 'age', 'overall_qual',\n",
    "       'age*overall_qual', 'gr_liv_area/totrms_abvgrd', 'full_bath', 'since_remod/add',\n",
    "       '1st_flr_sf', 'garage_area', 'kitchen_qual_order', 'garage_cars', 'total_bsmt_sf']]"
   ]
  },
  {
   "cell_type": "code",
   "execution_count": 16,
   "id": "e7febc93-c94c-436e-8989-0e0a0d7a178d",
   "metadata": {
    "jupyter": {
     "source_hidden": true
    },
    "tags": []
   },
   "outputs": [
    {
     "name": "stdout",
     "output_type": "stream",
     "text": [
      "r2 train  = 0.7991156157025939\n",
      "r2 test   = 0.8428707155752143\n"
     ]
    }
   ],
   "source": [
    "X = features_5\n",
    "y = df['saleprice']\n",
    "X_train, X_test, y_train, y_test = train_test_split(X, y, random_state=42)\n",
    "model_5 = LinearRegression()\n",
    "model_5.fit(X_train, y_train)\n",
    "model_5.score(X_train, y_train), model_5.score(X_test, y_test)\n",
    "print(f'r2 train  = {model_5.score(X_train, y_train)}')\n",
    "print(f'r2 test   = {model_5.score(X_test, y_test)}')"
   ]
  },
  {
   "cell_type": "code",
   "execution_count": 17,
   "id": "121b6b15-360b-4ca5-9af8-3b4af5f0c44e",
   "metadata": {
    "jupyter": {
     "source_hidden": true
    },
    "tags": []
   },
   "outputs": [
    {
     "name": "stdout",
     "output_type": "stream",
     "text": [
      "residual mean = -145.15867084646786\n",
      "mae = 22588.40654874369\n",
      "rmse = 31612.312924112717\n",
      "cvs mean = 0.7783122407933151\n"
     ]
    }
   ],
   "source": [
    "y_preds = model_5.predict(X_test)\n",
    "resids = y_test-y_preds                     \n",
    "print(f'residual mean = {resids.mean()}')\n",
    "\n",
    "mae = mean_absolute_error(y_test, y_preds)\n",
    "print(f'mae = {mae}')\n",
    "\n",
    "mse = mean_squared_error(y_test, y_preds, squared=False) \n",
    "print(f'rmse = {mse}')\n",
    "\n",
    "cvs = cross_val_score(model_5, X_train, y_train, cv=5).mean()\n",
    "print(f'cvs mean = {cvs}')"
   ]
  },
  {
   "cell_type": "markdown",
   "id": "8b0424ee-86e0-4259-9304-dd5a270756d0",
   "metadata": {},
   "source": [
    "* Underfit - add more variables"
   ]
  },
  {
   "cell_type": "markdown",
   "id": "4bf07ac2-f6c8-4bd0-821a-1cc514871598",
   "metadata": {},
   "source": [
    "#### Model 6"
   ]
  },
  {
   "cell_type": "markdown",
   "id": "c32dd17d-c2ec-4d04-9ed5-89455ba495eb",
   "metadata": {},
   "source": [
    "##### Features 6"
   ]
  },
  {
   "cell_type": "code",
   "execution_count": 18,
   "id": "b4a78921-11a3-48e5-952c-cb1ad76bfb6e",
   "metadata": {
    "jupyter": {
     "source_hidden": true
    },
    "tags": []
   },
   "outputs": [],
   "source": [
    "df['before_1940'] = [1 if year < 1940 else 0 for year in df['year_built']]\n",
    "df['over_10'] = [1 if age > 10 else 0 for age in df['age']]"
   ]
  },
  {
   "cell_type": "code",
   "execution_count": 20,
   "id": "efbe29e6-3a2b-4575-81e1-6460abc95327",
   "metadata": {
    "jupyter": {
     "source_hidden": true
    },
    "tags": []
   },
   "outputs": [],
   "source": [
    "features_6 = df[['gr_liv_area', 'bedroom_abvgr', 'age', 'overall_qual',\n",
    "       'age*overall_qual', 'gr_liv_area/totrms_abvgrd', 'full_bath', 'since_remod/add',\n",
    "       '1st_flr_sf', 'garage_area', 'kitchen_qual_order', 'garage_cars', 'total_bsmt_sf', 'before_1940', 'over_10']]"
   ]
  },
  {
   "cell_type": "code",
   "execution_count": 21,
   "id": "65341cf3-35a3-4a02-8e0c-ed21315118cc",
   "metadata": {
    "jupyter": {
     "source_hidden": true
    },
    "tags": []
   },
   "outputs": [
    {
     "name": "stdout",
     "output_type": "stream",
     "text": [
      "r2 train  = 0.800572277092813\n",
      "r2 test   = 0.8455229844123753\n"
     ]
    }
   ],
   "source": [
    "X = features_6\n",
    "y = df['saleprice']\n",
    "X_train, X_test, y_train, y_test = train_test_split(X, y, random_state=42)\n",
    "model_6 = LinearRegression()\n",
    "model_6.fit(X_train, y_train)\n",
    "model_6.score(X_train, y_train), model_6.score(X_test, y_test)\n",
    "print(f'r2 train  = {model_6.score(X_train, y_train)}')\n",
    "print(f'r2 test   = {model_6.score(X_test, y_test)}')"
   ]
  },
  {
   "cell_type": "code",
   "execution_count": 22,
   "id": "157f31f4-357d-4af8-8105-13756028c69f",
   "metadata": {
    "jupyter": {
     "source_hidden": true
    },
    "tags": []
   },
   "outputs": [
    {
     "name": "stdout",
     "output_type": "stream",
     "text": [
      "residual mean = -316.64987179130594\n",
      "mae = 22320.435459316155\n",
      "rmse = 31344.37692448818\n",
      "cvs mean = 0.780040902878807\n"
     ]
    }
   ],
   "source": [
    "y_preds = model_6.predict(X_test)\n",
    "resids = y_test-y_preds                     \n",
    "print(f'residual mean = {resids.mean()}')\n",
    "\n",
    "mae = mean_absolute_error(y_test, y_preds)\n",
    "print(f'mae = {mae}')\n",
    "\n",
    "mse = mean_squared_error(y_test, y_preds, squared=False) \n",
    "print(f'rmse = {mse}')\n",
    "\n",
    "cvs = cross_val_score(model_6, X_train, y_train, cv=5).mean()\n",
    "print(f'cvs mean = {cvs}')"
   ]
  },
  {
   "cell_type": "markdown",
   "id": "b8be1573-76d2-4a3e-82fb-42dbd29864fb",
   "metadata": {},
   "source": [
    "* Underfit - add more variables"
   ]
  },
  {
   "cell_type": "markdown",
   "id": "af23a944-2151-4909-83f5-db380a77a1c5",
   "metadata": {},
   "source": [
    "#### Model 7"
   ]
  },
  {
   "cell_type": "markdown",
   "id": "ba6d6603-141e-40fd-abcf-e4d48b15eadd",
   "metadata": {},
   "source": [
    "##### Features 7"
   ]
  },
  {
   "cell_type": "code",
   "execution_count": 47,
   "id": "45929f40-4b0f-4d04-bfa2-19ffdb8b4a9c",
   "metadata": {
    "tags": []
   },
   "outputs": [],
   "source": [
    "features_7 = df[['gr_liv_area', 'bedroom_abvgr', 'age', 'overall_qual',\n",
    "       'age*overall_qual', 'gr_liv_area/totrms_abvgrd', 'full_bath', 'since_remod/add',\n",
    "       '1st_flr_sf', 'garage_area', 'kitchen_qual_order', 'garage_cars', 'total_bsmt_sf', 'before_1940', 'over_10', 'neighborhood']]\n",
    "\n",
    "features_7 = pd.get_dummies(features_7, columns=['neighborhood'], drop_first=True);"
   ]
  },
  {
   "cell_type": "code",
   "execution_count": 48,
   "id": "3b749f1f-357b-419f-baf4-a84b5cc35bfd",
   "metadata": {
    "jupyter": {
     "source_hidden": true
    },
    "tags": []
   },
   "outputs": [
    {
     "name": "stdout",
     "output_type": "stream",
     "text": [
      "r2 train  = 0.8322662427002475\n",
      "r2 test   = 0.8558846284272434\n"
     ]
    }
   ],
   "source": [
    "X = features_7\n",
    "y = df['saleprice']\n",
    "X_train, X_test, y_train, y_test = train_test_split(X, y, random_state=42)\n",
    "model_7 = LinearRegression()\n",
    "model_7.fit(X_train, y_train)\n",
    "model_7.score(X_train, y_train), model_7.score(X_test, y_test)\n",
    "print(f'r2 train  = {model_7.score(X_train, y_train)}')\n",
    "print(f'r2 test   = {model_7.score(X_test, y_test)}')"
   ]
  },
  {
   "cell_type": "code",
   "execution_count": 49,
   "id": "f8c0b2aa-9c57-432f-ad5b-7d7a985922e4",
   "metadata": {
    "jupyter": {
     "source_hidden": true
    },
    "tags": []
   },
   "outputs": [
    {
     "name": "stdout",
     "output_type": "stream",
     "text": [
      "residual mean = -283.7732583089009\n",
      "mae = 21153.74166769845\n",
      "rmse = 30274.909865811267\n",
      "cvs mean = 0.8061180046656788\n"
     ]
    }
   ],
   "source": [
    "y_preds = model_7.predict(X_test)\n",
    "resids = y_test-y_preds                     \n",
    "print(f'residual mean = {resids.mean()}')\n",
    "\n",
    "mae = mean_absolute_error(y_test, y_preds)\n",
    "print(f'mae = {mae}')\n",
    "\n",
    "mse = mean_squared_error(y_test, y_preds, squared=False) \n",
    "print(f'rmse = {mse}')\n",
    "\n",
    "cvs = cross_val_score(model_7, X_train, y_train, cv=5).mean()\n",
    "print(f'cvs mean = {cvs}')"
   ]
  },
  {
   "cell_type": "code",
   "execution_count": null,
   "id": "014a43a5-351f-4e74-a51e-df8487b5869e",
   "metadata": {},
   "outputs": [],
   "source": [
    "# perhaps cut down when going into polynomials"
   ]
  },
  {
   "cell_type": "code",
   "execution_count": 77,
   "id": "5cb43e69-d465-4ab1-9ff4-e8ca07e4cc11",
   "metadata": {},
   "outputs": [
    {
     "data": {
      "image/png": "[encoded data removed]",
      "text/plain": [
       "<Figure size 432x288 with 1 Axes>"
      ]
     },
     "metadata": {
      "needs_background": "light"
     },
     "output_type": "display_data"
    }
   ],
   "source": [
    "plt.scatter(x=df['bsmtfin_sf_1'], y=df['saleprice'])\n",
    "plt.xlabel('Basement Squarefootage Finish 1')\n",
    "plt.ylabel('Price')\n",
    "plt.title('Basement Sqft vs Price');"
   ]
  },
  {
   "cell_type": "code",
   "execution_count": null,
   "id": "030595bd-b897-4985-a37d-f2d6ea200170",
   "metadata": {},
   "outputs": [],
   "source": []
  },
  {
   "cell_type": "code",
   "execution_count": null,
   "id": "3d5cf881-20f0-46ed-b805-b83a72552da8",
   "metadata": {},
   "outputs": [],
   "source": []
  }
 ],
 "metadata": {
  "kernelspec": {
   "display_name": "Python 3 (ipykernel)",
   "language": "python",
   "name": "python3"
  },
  "language_info": {
   "codemirror_mode": {
    "name": "ipython",
    "version": 3
   },
   "file_extension": ".py",
   "mimetype": "text/x-python",
   "name": "python",
   "nbconvert_exporter": "python",
   "pygments_lexer": "ipython3",
   "version": "3.9.7"
  }
 },
 "nbformat": 4,
 "nbformat_minor": 5
}
